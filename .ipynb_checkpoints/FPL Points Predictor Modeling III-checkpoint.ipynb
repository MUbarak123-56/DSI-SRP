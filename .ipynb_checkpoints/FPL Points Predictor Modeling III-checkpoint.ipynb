{
 "cells": [
  {
   "cell_type": "markdown",
   "metadata": {},
   "source": [
    "# FPL Predictor Modeling III"
   ]
  },
  {
   "cell_type": "markdown",
   "metadata": {},
   "source": [
    "### Package Installments"
   ]
  },
  {
   "cell_type": "code",
   "execution_count": 1,
   "metadata": {
    "collapsed": true
   },
   "outputs": [],
   "source": [
    "import numpy as np\n",
    "import pandas as pd\n",
    "import matplotlib.pyplot as plt\n",
    "import seaborn as sns; sns.set(style = \"ticks\")\n",
    "%matplotlib inline\n",
    "from scipy.interpolate import make_interp_spline"
   ]
  },
  {
   "cell_type": "code",
   "execution_count": 2,
   "metadata": {},
   "outputs": [
    {
     "name": "stderr",
     "output_type": "stream",
     "text": [
      "/accre/arch/easybuild/software/BinDist/Anaconda3/5.0.1/lib/python3.6/site-packages/sklearn/cross_validation.py:41: DeprecationWarning: This module was deprecated in version 0.18 in favor of the model_selection module into which all the refactored classes and functions are moved. Also note that the interface of the new CV iterators are different from that of this module. This module will be removed in 0.20.\n",
      "  \"This module will be removed in 0.20.\", DeprecationWarning)\n",
      "/accre/arch/easybuild/software/BinDist/Anaconda3/5.0.1/lib/python3.6/site-packages/sklearn/learning_curve.py:22: DeprecationWarning: This module was deprecated in version 0.18 in favor of the model_selection module into which all the functions are moved. This module will be removed in 0.20\n",
      "  DeprecationWarning)\n"
     ]
    }
   ],
   "source": [
    "from sklearn.pipeline import make_pipeline\n",
    "from sklearn.preprocessing import PolynomialFeatures\n",
    "from sklearn.linear_model import LinearRegression\n",
    "from sklearn.metrics import r2_score\n",
    "from sklearn.cross_validation import cross_val_score\n",
    "from sklearn.learning_curve import validation_curve\n",
    "from sklearn.metrics import mean_squared_error\n",
    "from sklearn.cross_validation import train_test_split"
   ]
  },
  {
   "cell_type": "markdown",
   "metadata": {},
   "source": [
    "### Useful functions"
   ]
  },
  {
   "cell_type": "code",
   "execution_count": 3,
   "metadata": {
    "collapsed": true
   },
   "outputs": [],
   "source": [
    "def best_degree(model, df_x,df_y):\n",
    "    degree = np.arange(10)\n",
    "    train_score, val_score = validation_curve(model, df_x, df_y, 'polynomialfeatures__degree', degree, cv = 5)\n",
    "    degree = pd.Series(degree)\n",
    "    train = pd.Series(np.median(train_score,1))\n",
    "    val = pd.Series(np.median(val_score,1))\n",
    "    record = pd.DataFrame({'degree': degree, 'train_score': train, 'val_score': val})\n",
    "    record_max = record.loc[record[['val_score']].idxmax(), 'degree']\n",
    "    record_max2 = record_max.reset_index(drop = True)\n",
    "    return record_max2[0]"
   ]
  },
  {
   "cell_type": "code",
   "execution_count": 4,
   "metadata": {
    "collapsed": true
   },
   "outputs": [],
   "source": [
    "def val_curve(model, df_x, df_y):\n",
    "    degree = np.arange(1,6)\n",
    "    train_score, val_score = validation_curve(model, df_x, df_y, 'polynomialfeatures__degree', degree, cv = 5)\n",
    "    best = best_degree(model,df_x,df_y)\n",
    "    deg = np.linspace(1,5,200)\n",
    "    smooth_train = make_interp_spline(degree, np.median(train_score,1))\n",
    "    smooth_val = make_interp_spline(degree, np.median(val_score, 1))\n",
    "    \n",
    "    \n",
    "    ##plt.plot(degree, np.median(train_score,1), color = 'blue', label = 'training curve')\n",
    "    ##plt.plot(degree, np.median(val_score,1), color = 'red', label = 'validation curve')\n",
    "    plt.plot(deg, smooth_train(deg), color = 'blue', label = 'training curve')\n",
    "    plt.plot(deg, smooth_val(deg), color = 'red', label = 'validation curve')\n",
    "    plt.scatter(best, np.max(np.median(val_score,1)), marker = 'x', color = 'black', label = 'max')\n",
    "    plt.legend(loc = 'best')\n",
    "    plt.xlabel('Degree')\n",
    "    plt.ylabel('Accuracy score')\n",
    "    plt.ylim(0,1);"
   ]
  },
  {
   "cell_type": "code",
   "execution_count": 5,
   "metadata": {
    "collapsed": true
   },
   "outputs": [],
   "source": [
    "def split_data(df_new, rand_state = 69):\n",
    "    df_x = df_new[['player_name','goals_scored', 'assists','minutes', 'position_index', 'clean_sheets', 'total_points']]\n",
    "    df_y = df_new['ict_index']\n",
    "    df_xm = df_new[['goals_scored','assists','minutes', 'clean_sheets', 'position_index']]\n",
    "    df_xtrain, df_xtest, df_ytrain, df_ytest = train_test_split(df_x, df_y, random_state = rand_state, train_size = 0.5)\n",
    "    df_xtrain_new = df_xtrain[['goals_scored', 'assists','minutes', 'clean_sheets', 'position_index']]\n",
    "    df_xtest_new = df_xtest[['goals_scored', 'assists','minutes','clean_sheets', 'position_index']]\n",
    "    return (df_x, df_y, df_xm, df_xtrain, df_xtest, df_ytrain, df_ytest, df_xtrain_new, df_xtest_new)"
   ]
  },
  {
   "cell_type": "code",
   "execution_count": 6,
   "metadata": {
    "collapsed": true
   },
   "outputs": [],
   "source": [
    "def new_output(df_x, df_y, df_pred):\n",
    "    df_xtest = df_x.copy()\n",
    "    df_xtest['ict'] = df_y\n",
    "    df_xtest['ict_pred'] = df_pred\n",
    "    return df_xtest"
   ]
  },
  {
   "cell_type": "markdown",
   "metadata": {},
   "source": [
    "### Creating model"
   ]
  },
  {
   "cell_type": "code",
   "execution_count": 7,
   "metadata": {
    "collapsed": true
   },
   "outputs": [],
   "source": [
    "model = make_pipeline(PolynomialFeatures(), LinearRegression())"
   ]
  },
  {
   "cell_type": "markdown",
   "metadata": {},
   "source": [
    "### ETL"
   ]
  },
  {
   "cell_type": "code",
   "execution_count": 8,
   "metadata": {
    "collapsed": true
   },
   "outputs": [],
   "source": [
    "fpl_ult = pd.read_csv(\"~/DSI-SRP1/FPL_ULTIMATE.csv\", encoding = \"latin1\")"
   ]
  },
  {
   "cell_type": "code",
   "execution_count": 9,
   "metadata": {},
   "outputs": [
    {
     "data": {
      "text/plain": [
       "(45919, 17)"
      ]
     },
     "execution_count": 9,
     "metadata": {},
     "output_type": "execute_result"
    }
   ],
   "source": [
    "fpl_ult.shape"
   ]
  },
  {
   "cell_type": "code",
   "execution_count": 10,
   "metadata": {},
   "outputs": [
    {
     "data": {
      "text/html": [
       "<div>\n",
       "<style>\n",
       "    .dataframe thead tr:only-child th {\n",
       "        text-align: right;\n",
       "    }\n",
       "\n",
       "    .dataframe thead th {\n",
       "        text-align: left;\n",
       "    }\n",
       "\n",
       "    .dataframe tbody tr th {\n",
       "        vertical-align: top;\n",
       "    }\n",
       "</style>\n",
       "<table border=\"1\" class=\"dataframe\">\n",
       "  <thead>\n",
       "    <tr style=\"text-align: right;\">\n",
       "      <th></th>\n",
       "      <th>Unnamed: 0</th>\n",
       "      <th>player_name</th>\n",
       "      <th>club_name</th>\n",
       "      <th>position</th>\n",
       "      <th>position_index</th>\n",
       "      <th>goals_scored</th>\n",
       "      <th>assists</th>\n",
       "      <th>ict_index</th>\n",
       "      <th>goals_conceded</th>\n",
       "      <th>minutes</th>\n",
       "      <th>own_goals</th>\n",
       "      <th>total_points</th>\n",
       "      <th>bps</th>\n",
       "      <th>bonus</th>\n",
       "      <th>clean_sheets</th>\n",
       "      <th>GW</th>\n",
       "      <th>season</th>\n",
       "    </tr>\n",
       "  </thead>\n",
       "  <tbody>\n",
       "    <tr>\n",
       "      <th>0</th>\n",
       "      <td>1</td>\n",
       "      <td>Aaron Lennon</td>\n",
       "      <td>Everton FC</td>\n",
       "      <td>Right Winger</td>\n",
       "      <td>4</td>\n",
       "      <td>0</td>\n",
       "      <td>0</td>\n",
       "      <td>0.9</td>\n",
       "      <td>0</td>\n",
       "      <td>15</td>\n",
       "      <td>0</td>\n",
       "      <td>1</td>\n",
       "      <td>6</td>\n",
       "      <td>0</td>\n",
       "      <td>0</td>\n",
       "      <td>2</td>\n",
       "      <td>2016/2017</td>\n",
       "    </tr>\n",
       "    <tr>\n",
       "      <th>1</th>\n",
       "      <td>2</td>\n",
       "      <td>Aaron Ramsey</td>\n",
       "      <td>Arsenal FC</td>\n",
       "      <td>Central Midfield</td>\n",
       "      <td>3</td>\n",
       "      <td>0</td>\n",
       "      <td>0</td>\n",
       "      <td>3.0</td>\n",
       "      <td>3</td>\n",
       "      <td>60</td>\n",
       "      <td>0</td>\n",
       "      <td>2</td>\n",
       "      <td>5</td>\n",
       "      <td>0</td>\n",
       "      <td>0</td>\n",
       "      <td>2</td>\n",
       "      <td>2016/2017</td>\n",
       "    </tr>\n",
       "    <tr>\n",
       "      <th>2</th>\n",
       "      <td>3</td>\n",
       "      <td>Abel Hernández</td>\n",
       "      <td>Hull City</td>\n",
       "      <td>Centre-Forward</td>\n",
       "      <td>5</td>\n",
       "      <td>0</td>\n",
       "      <td>1</td>\n",
       "      <td>5.7</td>\n",
       "      <td>1</td>\n",
       "      <td>90</td>\n",
       "      <td>0</td>\n",
       "      <td>11</td>\n",
       "      <td>10</td>\n",
       "      <td>0</td>\n",
       "      <td>0</td>\n",
       "      <td>2</td>\n",
       "      <td>2016/2017</td>\n",
       "    </tr>\n",
       "    <tr>\n",
       "      <th>3</th>\n",
       "      <td>4</td>\n",
       "      <td>Adama Diomande</td>\n",
       "      <td>Hull City</td>\n",
       "      <td>Centre-Forward</td>\n",
       "      <td>5</td>\n",
       "      <td>1</td>\n",
       "      <td>0</td>\n",
       "      <td>10.7</td>\n",
       "      <td>1</td>\n",
       "      <td>90</td>\n",
       "      <td>0</td>\n",
       "      <td>10</td>\n",
       "      <td>29</td>\n",
       "      <td>2</td>\n",
       "      <td>0</td>\n",
       "      <td>2</td>\n",
       "      <td>2016/2017</td>\n",
       "    </tr>\n",
       "    <tr>\n",
       "      <th>4</th>\n",
       "      <td>5</td>\n",
       "      <td>Adam Clayton</td>\n",
       "      <td>Middlesbrough FC</td>\n",
       "      <td>Defensive Midfield</td>\n",
       "      <td>3</td>\n",
       "      <td>0</td>\n",
       "      <td>0</td>\n",
       "      <td>1.4</td>\n",
       "      <td>1</td>\n",
       "      <td>90</td>\n",
       "      <td>0</td>\n",
       "      <td>3</td>\n",
       "      <td>6</td>\n",
       "      <td>0</td>\n",
       "      <td>0</td>\n",
       "      <td>2</td>\n",
       "      <td>2016/2017</td>\n",
       "    </tr>\n",
       "  </tbody>\n",
       "</table>\n",
       "</div>"
      ],
      "text/plain": [
       "   Unnamed: 0     player_name         club_name            position  \\\n",
       "0           1    Aaron Lennon        Everton FC        Right Winger   \n",
       "1           2    Aaron Ramsey        Arsenal FC    Central Midfield   \n",
       "2           3  Abel Hernández         Hull City      Centre-Forward   \n",
       "3           4  Adama Diomande         Hull City      Centre-Forward   \n",
       "4           5    Adam Clayton  Middlesbrough FC  Defensive Midfield   \n",
       "\n",
       "   position_index  goals_scored  assists  ict_index  goals_conceded  minutes  \\\n",
       "0               4             0        0        0.9               0       15   \n",
       "1               3             0        0        3.0               3       60   \n",
       "2               5             0        1        5.7               1       90   \n",
       "3               5             1        0       10.7               1       90   \n",
       "4               3             0        0        1.4               1       90   \n",
       "\n",
       "   own_goals  total_points  bps  bonus  clean_sheets  GW     season  \n",
       "0          0             1    6      0             0   2  2016/2017  \n",
       "1          0             2    5      0             0   2  2016/2017  \n",
       "2          0            11   10      0             0   2  2016/2017  \n",
       "3          0            10   29      2             0   2  2016/2017  \n",
       "4          0             3    6      0             0   2  2016/2017  "
      ]
     },
     "execution_count": 10,
     "metadata": {},
     "output_type": "execute_result"
    }
   ],
   "source": [
    "fpl_ult.head()"
   ]
  },
  {
   "cell_type": "code",
   "execution_count": 11,
   "metadata": {
    "collapsed": true
   },
   "outputs": [],
   "source": [
    "fpl_ult = fpl_ult.drop(\"Unnamed: 0\", axis = 1)"
   ]
  },
  {
   "cell_type": "code",
   "execution_count": 12,
   "metadata": {},
   "outputs": [
    {
     "data": {
      "text/plain": [
       "Index(['player_name', 'club_name', 'position', 'position_index',\n",
       "       'goals_scored', 'assists', 'ict_index', 'goals_conceded', 'minutes',\n",
       "       'own_goals', 'total_points', 'bps', 'bonus', 'clean_sheets', 'GW',\n",
       "       'season'],\n",
       "      dtype='object')"
      ]
     },
     "execution_count": 12,
     "metadata": {},
     "output_type": "execute_result"
    }
   ],
   "source": [
    "fpl_ult.columns"
   ]
  },
  {
   "cell_type": "markdown",
   "metadata": {},
   "source": [
    "### Correlation-coefficient"
   ]
  },
  {
   "cell_type": "code",
   "execution_count": 13,
   "metadata": {},
   "outputs": [
    {
     "data": {
      "text/html": [
       "<div>\n",
       "<style>\n",
       "    .dataframe thead tr:only-child th {\n",
       "        text-align: right;\n",
       "    }\n",
       "\n",
       "    .dataframe thead th {\n",
       "        text-align: left;\n",
       "    }\n",
       "\n",
       "    .dataframe tbody tr th {\n",
       "        vertical-align: top;\n",
       "    }\n",
       "</style>\n",
       "<table border=\"1\" class=\"dataframe\">\n",
       "  <thead>\n",
       "    <tr style=\"text-align: right;\">\n",
       "      <th></th>\n",
       "      <th>position_index</th>\n",
       "      <th>goals_scored</th>\n",
       "      <th>assists</th>\n",
       "      <th>ict_index</th>\n",
       "      <th>goals_conceded</th>\n",
       "      <th>minutes</th>\n",
       "      <th>own_goals</th>\n",
       "      <th>total_points</th>\n",
       "      <th>bps</th>\n",
       "      <th>bonus</th>\n",
       "      <th>clean_sheets</th>\n",
       "      <th>GW</th>\n",
       "    </tr>\n",
       "  </thead>\n",
       "  <tbody>\n",
       "    <tr>\n",
       "      <th>position_index</th>\n",
       "      <td>1.000000</td>\n",
       "      <td>0.381274</td>\n",
       "      <td>0.260587</td>\n",
       "      <td>0.204025</td>\n",
       "      <td>-0.128814</td>\n",
       "      <td>-0.126387</td>\n",
       "      <td>-0.160711</td>\n",
       "      <td>0.029944</td>\n",
       "      <td>-0.141546</td>\n",
       "      <td>0.107121</td>\n",
       "      <td>-0.071280</td>\n",
       "      <td>-0.074191</td>\n",
       "    </tr>\n",
       "    <tr>\n",
       "      <th>goals_scored</th>\n",
       "      <td>0.381274</td>\n",
       "      <td>1.000000</td>\n",
       "      <td>0.666969</td>\n",
       "      <td>0.820807</td>\n",
       "      <td>0.375618</td>\n",
       "      <td>0.474971</td>\n",
       "      <td>-0.019207</td>\n",
       "      <td>0.720104</td>\n",
       "      <td>0.537717</td>\n",
       "      <td>0.788591</td>\n",
       "      <td>0.531148</td>\n",
       "      <td>0.354385</td>\n",
       "    </tr>\n",
       "    <tr>\n",
       "      <th>assists</th>\n",
       "      <td>0.260587</td>\n",
       "      <td>0.666969</td>\n",
       "      <td>1.000000</td>\n",
       "      <td>0.856438</td>\n",
       "      <td>0.441126</td>\n",
       "      <td>0.563029</td>\n",
       "      <td>-0.023648</td>\n",
       "      <td>0.750309</td>\n",
       "      <td>0.620704</td>\n",
       "      <td>0.734233</td>\n",
       "      <td>0.621045</td>\n",
       "      <td>0.435969</td>\n",
       "    </tr>\n",
       "    <tr>\n",
       "      <th>ict_index</th>\n",
       "      <td>0.204025</td>\n",
       "      <td>0.820807</td>\n",
       "      <td>0.856438</td>\n",
       "      <td>1.000000</td>\n",
       "      <td>0.688780</td>\n",
       "      <td>0.809634</td>\n",
       "      <td>0.081111</td>\n",
       "      <td>0.932043</td>\n",
       "      <td>0.843522</td>\n",
       "      <td>0.882682</td>\n",
       "      <td>0.825294</td>\n",
       "      <td>0.606073</td>\n",
       "    </tr>\n",
       "    <tr>\n",
       "      <th>goals_conceded</th>\n",
       "      <td>-0.128814</td>\n",
       "      <td>0.375618</td>\n",
       "      <td>0.441126</td>\n",
       "      <td>0.688780</td>\n",
       "      <td>1.000000</td>\n",
       "      <td>0.928935</td>\n",
       "      <td>0.244324</td>\n",
       "      <td>0.768861</td>\n",
       "      <td>0.842045</td>\n",
       "      <td>0.594706</td>\n",
       "      <td>0.711166</td>\n",
       "      <td>0.693430</td>\n",
       "    </tr>\n",
       "    <tr>\n",
       "      <th>minutes</th>\n",
       "      <td>-0.126387</td>\n",
       "      <td>0.474971</td>\n",
       "      <td>0.563029</td>\n",
       "      <td>0.809634</td>\n",
       "      <td>0.928935</td>\n",
       "      <td>1.000000</td>\n",
       "      <td>0.223302</td>\n",
       "      <td>0.911845</td>\n",
       "      <td>0.964263</td>\n",
       "      <td>0.731242</td>\n",
       "      <td>0.909262</td>\n",
       "      <td>0.740432</td>\n",
       "    </tr>\n",
       "    <tr>\n",
       "      <th>own_goals</th>\n",
       "      <td>-0.160711</td>\n",
       "      <td>-0.019207</td>\n",
       "      <td>-0.023648</td>\n",
       "      <td>0.081111</td>\n",
       "      <td>0.244324</td>\n",
       "      <td>0.223302</td>\n",
       "      <td>1.000000</td>\n",
       "      <td>0.134117</td>\n",
       "      <td>0.207032</td>\n",
       "      <td>0.105207</td>\n",
       "      <td>0.148075</td>\n",
       "      <td>0.153260</td>\n",
       "    </tr>\n",
       "    <tr>\n",
       "      <th>total_points</th>\n",
       "      <td>0.029944</td>\n",
       "      <td>0.720104</td>\n",
       "      <td>0.750309</td>\n",
       "      <td>0.932043</td>\n",
       "      <td>0.768861</td>\n",
       "      <td>0.911845</td>\n",
       "      <td>0.134117</td>\n",
       "      <td>1.000000</td>\n",
       "      <td>0.951780</td>\n",
       "      <td>0.899995</td>\n",
       "      <td>0.928835</td>\n",
       "      <td>0.683770</td>\n",
       "    </tr>\n",
       "    <tr>\n",
       "      <th>bps</th>\n",
       "      <td>-0.141546</td>\n",
       "      <td>0.537717</td>\n",
       "      <td>0.620704</td>\n",
       "      <td>0.843522</td>\n",
       "      <td>0.842045</td>\n",
       "      <td>0.964263</td>\n",
       "      <td>0.207032</td>\n",
       "      <td>0.951780</td>\n",
       "      <td>1.000000</td>\n",
       "      <td>0.829695</td>\n",
       "      <td>0.939413</td>\n",
       "      <td>0.712744</td>\n",
       "    </tr>\n",
       "    <tr>\n",
       "      <th>bonus</th>\n",
       "      <td>0.107121</td>\n",
       "      <td>0.788591</td>\n",
       "      <td>0.734233</td>\n",
       "      <td>0.882682</td>\n",
       "      <td>0.594706</td>\n",
       "      <td>0.731242</td>\n",
       "      <td>0.105207</td>\n",
       "      <td>0.899995</td>\n",
       "      <td>0.829695</td>\n",
       "      <td>1.000000</td>\n",
       "      <td>0.775138</td>\n",
       "      <td>0.519052</td>\n",
       "    </tr>\n",
       "    <tr>\n",
       "      <th>clean_sheets</th>\n",
       "      <td>-0.071280</td>\n",
       "      <td>0.531148</td>\n",
       "      <td>0.621045</td>\n",
       "      <td>0.825294</td>\n",
       "      <td>0.711166</td>\n",
       "      <td>0.909262</td>\n",
       "      <td>0.148075</td>\n",
       "      <td>0.928835</td>\n",
       "      <td>0.939413</td>\n",
       "      <td>0.775138</td>\n",
       "      <td>1.000000</td>\n",
       "      <td>0.674249</td>\n",
       "    </tr>\n",
       "    <tr>\n",
       "      <th>GW</th>\n",
       "      <td>-0.074191</td>\n",
       "      <td>0.354385</td>\n",
       "      <td>0.435969</td>\n",
       "      <td>0.606073</td>\n",
       "      <td>0.693430</td>\n",
       "      <td>0.740432</td>\n",
       "      <td>0.153260</td>\n",
       "      <td>0.683770</td>\n",
       "      <td>0.712744</td>\n",
       "      <td>0.519052</td>\n",
       "      <td>0.674249</td>\n",
       "      <td>1.000000</td>\n",
       "    </tr>\n",
       "  </tbody>\n",
       "</table>\n",
       "</div>"
      ],
      "text/plain": [
       "                position_index  goals_scored   assists  ict_index  \\\n",
       "position_index        1.000000      0.381274  0.260587   0.204025   \n",
       "goals_scored          0.381274      1.000000  0.666969   0.820807   \n",
       "assists               0.260587      0.666969  1.000000   0.856438   \n",
       "ict_index             0.204025      0.820807  0.856438   1.000000   \n",
       "goals_conceded       -0.128814      0.375618  0.441126   0.688780   \n",
       "minutes              -0.126387      0.474971  0.563029   0.809634   \n",
       "own_goals            -0.160711     -0.019207 -0.023648   0.081111   \n",
       "total_points          0.029944      0.720104  0.750309   0.932043   \n",
       "bps                  -0.141546      0.537717  0.620704   0.843522   \n",
       "bonus                 0.107121      0.788591  0.734233   0.882682   \n",
       "clean_sheets         -0.071280      0.531148  0.621045   0.825294   \n",
       "GW                   -0.074191      0.354385  0.435969   0.606073   \n",
       "\n",
       "                goals_conceded   minutes  own_goals  total_points       bps  \\\n",
       "position_index       -0.128814 -0.126387  -0.160711      0.029944 -0.141546   \n",
       "goals_scored          0.375618  0.474971  -0.019207      0.720104  0.537717   \n",
       "assists               0.441126  0.563029  -0.023648      0.750309  0.620704   \n",
       "ict_index             0.688780  0.809634   0.081111      0.932043  0.843522   \n",
       "goals_conceded        1.000000  0.928935   0.244324      0.768861  0.842045   \n",
       "minutes               0.928935  1.000000   0.223302      0.911845  0.964263   \n",
       "own_goals             0.244324  0.223302   1.000000      0.134117  0.207032   \n",
       "total_points          0.768861  0.911845   0.134117      1.000000  0.951780   \n",
       "bps                   0.842045  0.964263   0.207032      0.951780  1.000000   \n",
       "bonus                 0.594706  0.731242   0.105207      0.899995  0.829695   \n",
       "clean_sheets          0.711166  0.909262   0.148075      0.928835  0.939413   \n",
       "GW                    0.693430  0.740432   0.153260      0.683770  0.712744   \n",
       "\n",
       "                   bonus  clean_sheets        GW  \n",
       "position_index  0.107121     -0.071280 -0.074191  \n",
       "goals_scored    0.788591      0.531148  0.354385  \n",
       "assists         0.734233      0.621045  0.435969  \n",
       "ict_index       0.882682      0.825294  0.606073  \n",
       "goals_conceded  0.594706      0.711166  0.693430  \n",
       "minutes         0.731242      0.909262  0.740432  \n",
       "own_goals       0.105207      0.148075  0.153260  \n",
       "total_points    0.899995      0.928835  0.683770  \n",
       "bps             0.829695      0.939413  0.712744  \n",
       "bonus           1.000000      0.775138  0.519052  \n",
       "clean_sheets    0.775138      1.000000  0.674249  \n",
       "GW              0.519052      0.674249  1.000000  "
      ]
     },
     "execution_count": 13,
     "metadata": {},
     "output_type": "execute_result"
    }
   ],
   "source": [
    "fpl_ult.corr()"
   ]
  },
  {
   "cell_type": "code",
   "execution_count": 14,
   "metadata": {
    "collapsed": true
   },
   "outputs": [],
   "source": [
    "#sns.pairplot(fpl_ult);"
   ]
  },
  {
   "cell_type": "markdown",
   "metadata": {},
   "source": [
    "### MODELING"
   ]
  },
  {
   "cell_type": "code",
   "execution_count": 15,
   "metadata": {
    "collapsed": true
   },
   "outputs": [],
   "source": [
    "fpl_x, fpl_y, fpl_xm, fpl_xtrain, fpl_xtest, fpl_ytrain, fpl_ytest, fpl_xtrain_new, fpl_xtest_new = split_data(fpl_ult)"
   ]
  },
  {
   "cell_type": "code",
   "execution_count": 16,
   "metadata": {},
   "outputs": [
    {
     "data": {
      "image/png": "[encoded data removed]",
      "text/plain": [
       "<matplotlib.figure.Figure at 0x2b7851d695f8>"
      ]
     },
     "metadata": {},
     "output_type": "display_data"
    }
   ],
   "source": [
    "val_curve(model, fpl_xm, fpl_y)"
   ]
  },
  {
   "cell_type": "code",
   "execution_count": 17,
   "metadata": {
    "collapsed": true
   },
   "outputs": [],
   "source": [
    "model_fpl = make_pipeline(PolynomialFeatures(best_degree(model, fpl_xm, fpl_y)), LinearRegression())"
   ]
  },
  {
   "cell_type": "code",
   "execution_count": 18,
   "metadata": {
    "collapsed": true
   },
   "outputs": [],
   "source": [
    "ict_pred = model_fpl.fit(fpl_xtrain_new, fpl_ytrain).predict(fpl_xtest_new)"
   ]
  },
  {
   "cell_type": "code",
   "execution_count": 19,
   "metadata": {},
   "outputs": [
    {
     "data": {
      "text/plain": [
       "0.97757750320230175"
      ]
     },
     "execution_count": 19,
     "metadata": {},
     "output_type": "execute_result"
    }
   ],
   "source": [
    "r2_score(ict_pred, fpl_ytest)"
   ]
  },
  {
   "cell_type": "code",
   "execution_count": 20,
   "metadata": {
    "collapsed": true
   },
   "outputs": [],
   "source": [
    "ict_pred2 = model_fpl.fit(fpl_xtest_new, fpl_ytest).predict(fpl_xtrain_new)"
   ]
  },
  {
   "cell_type": "code",
   "execution_count": 21,
   "metadata": {},
   "outputs": [
    {
     "data": {
      "text/plain": [
       "0.9772933925340952"
      ]
     },
     "execution_count": 21,
     "metadata": {},
     "output_type": "execute_result"
    }
   ],
   "source": [
    "r2_score(ict_pred2, fpl_ytrain)"
   ]
  },
  {
   "cell_type": "code",
   "execution_count": 22,
   "metadata": {},
   "outputs": [
    {
     "name": "stdout",
     "output_type": "stream",
     "text": [
      "[ 0.91058212  0.94405378  0.96539119  0.97733126  0.97468598]\n",
      "0.954408864541\n"
     ]
    }
   ],
   "source": [
    "score_fpl = cross_val_score(model_fpl, fpl_xm, fpl_y, cv = 5)\n",
    "print(score_fpl)\n",
    "print(score_fpl.mean())"
   ]
  },
  {
   "cell_type": "code",
   "execution_count": 23,
   "metadata": {
    "collapsed": true
   },
   "outputs": [],
   "source": [
    "fpl_ult1 = new_output(fpl_xtest, fpl_ytest, ict_pred)"
   ]
  },
  {
   "cell_type": "code",
   "execution_count": 24,
   "metadata": {},
   "outputs": [],
   "source": [
    "fpl_ult2 = new_output(fpl_xtrain, fpl_ytrain, ict_pred2)"
   ]
  },
  {
   "cell_type": "code",
   "execution_count": 25,
   "metadata": {},
   "outputs": [
    {
     "data": {
      "text/html": [
       "<div>\n",
       "<style>\n",
       "    .dataframe thead tr:only-child th {\n",
       "        text-align: right;\n",
       "    }\n",
       "\n",
       "    .dataframe thead th {\n",
       "        text-align: left;\n",
       "    }\n",
       "\n",
       "    .dataframe tbody tr th {\n",
       "        vertical-align: top;\n",
       "    }\n",
       "</style>\n",
       "<table border=\"1\" class=\"dataframe\">\n",
       "  <thead>\n",
       "    <tr style=\"text-align: right;\">\n",
       "      <th></th>\n",
       "      <th>player_name</th>\n",
       "      <th>goals_scored</th>\n",
       "      <th>assists</th>\n",
       "      <th>minutes</th>\n",
       "      <th>position_index</th>\n",
       "      <th>clean_sheets</th>\n",
       "      <th>total_points</th>\n",
       "      <th>ict</th>\n",
       "      <th>ict_pred</th>\n",
       "    </tr>\n",
       "  </thead>\n",
       "  <tbody>\n",
       "    <tr>\n",
       "      <th>25253</th>\n",
       "      <td>Leroy Fer</td>\n",
       "      <td>7</td>\n",
       "      <td>3</td>\n",
       "      <td>3674</td>\n",
       "      <td>3</td>\n",
       "      <td>8</td>\n",
       "      <td>135</td>\n",
       "      <td>177.1</td>\n",
       "      <td>201.187255</td>\n",
       "    </tr>\n",
       "    <tr>\n",
       "      <th>44049</th>\n",
       "      <td>Roberto Pereyra</td>\n",
       "      <td>13</td>\n",
       "      <td>10</td>\n",
       "      <td>5103</td>\n",
       "      <td>3</td>\n",
       "      <td>10</td>\n",
       "      <td>238</td>\n",
       "      <td>321.1</td>\n",
       "      <td>358.155635</td>\n",
       "    </tr>\n",
       "    <tr>\n",
       "      <th>14594</th>\n",
       "      <td>Lukasz Fabianski</td>\n",
       "      <td>0</td>\n",
       "      <td>0</td>\n",
       "      <td>3240</td>\n",
       "      <td>1</td>\n",
       "      <td>7</td>\n",
       "      <td>116</td>\n",
       "      <td>75.9</td>\n",
       "      <td>82.648242</td>\n",
       "    </tr>\n",
       "    <tr>\n",
       "      <th>11163</th>\n",
       "      <td>Marko Grujic</td>\n",
       "      <td>0</td>\n",
       "      <td>0</td>\n",
       "      <td>30</td>\n",
       "      <td>3</td>\n",
       "      <td>0</td>\n",
       "      <td>2</td>\n",
       "      <td>2.9</td>\n",
       "      <td>1.877615</td>\n",
       "    </tr>\n",
       "    <tr>\n",
       "      <th>21600</th>\n",
       "      <td>Wes Morgan</td>\n",
       "      <td>1</td>\n",
       "      <td>1</td>\n",
       "      <td>3780</td>\n",
       "      <td>2</td>\n",
       "      <td>9</td>\n",
       "      <td>102</td>\n",
       "      <td>120.6</td>\n",
       "      <td>121.612091</td>\n",
       "    </tr>\n",
       "  </tbody>\n",
       "</table>\n",
       "</div>"
      ],
      "text/plain": [
       "            player_name  goals_scored  assists  minutes  position_index  \\\n",
       "25253         Leroy Fer             7        3     3674               3   \n",
       "44049   Roberto Pereyra            13       10     5103               3   \n",
       "14594  Lukasz Fabianski             0        0     3240               1   \n",
       "11163      Marko Grujic             0        0       30               3   \n",
       "21600        Wes Morgan             1        1     3780               2   \n",
       "\n",
       "       clean_sheets  total_points    ict    ict_pred  \n",
       "25253             8           135  177.1  201.187255  \n",
       "44049            10           238  321.1  358.155635  \n",
       "14594             7           116   75.9   82.648242  \n",
       "11163             0             2    2.9    1.877615  \n",
       "21600             9           102  120.6  121.612091  "
      ]
     },
     "execution_count": 25,
     "metadata": {},
     "output_type": "execute_result"
    }
   ],
   "source": [
    "fpl_ult1.head()"
   ]
  },
  {
   "cell_type": "code",
   "execution_count": 26,
   "metadata": {},
   "outputs": [
    {
     "data": {
      "text/html": [
       "<div>\n",
       "<style>\n",
       "    .dataframe thead tr:only-child th {\n",
       "        text-align: right;\n",
       "    }\n",
       "\n",
       "    .dataframe thead th {\n",
       "        text-align: left;\n",
       "    }\n",
       "\n",
       "    .dataframe tbody tr th {\n",
       "        vertical-align: top;\n",
       "    }\n",
       "</style>\n",
       "<table border=\"1\" class=\"dataframe\">\n",
       "  <thead>\n",
       "    <tr style=\"text-align: right;\">\n",
       "      <th></th>\n",
       "      <th>player_name</th>\n",
       "      <th>goals_scored</th>\n",
       "      <th>assists</th>\n",
       "      <th>minutes</th>\n",
       "      <th>position_index</th>\n",
       "      <th>clean_sheets</th>\n",
       "      <th>total_points</th>\n",
       "      <th>ict</th>\n",
       "      <th>ict_pred</th>\n",
       "    </tr>\n",
       "  </thead>\n",
       "  <tbody>\n",
       "    <tr>\n",
       "      <th>31484</th>\n",
       "      <td>Matt Targett</td>\n",
       "      <td>0</td>\n",
       "      <td>0</td>\n",
       "      <td>539</td>\n",
       "      <td>2</td>\n",
       "      <td>1</td>\n",
       "      <td>14</td>\n",
       "      <td>24.6</td>\n",
       "      <td>16.671050</td>\n",
       "    </tr>\n",
       "    <tr>\n",
       "      <th>23653</th>\n",
       "      <td>Tom Ince</td>\n",
       "      <td>1</td>\n",
       "      <td>1</td>\n",
       "      <td>1678</td>\n",
       "      <td>4</td>\n",
       "      <td>6</td>\n",
       "      <td>56</td>\n",
       "      <td>95.7</td>\n",
       "      <td>78.808282</td>\n",
       "    </tr>\n",
       "    <tr>\n",
       "      <th>16915</th>\n",
       "      <td>James Milner</td>\n",
       "      <td>7</td>\n",
       "      <td>4</td>\n",
       "      <td>3290</td>\n",
       "      <td>3</td>\n",
       "      <td>13</td>\n",
       "      <td>149</td>\n",
       "      <td>243.6</td>\n",
       "      <td>219.838111</td>\n",
       "    </tr>\n",
       "    <tr>\n",
       "      <th>8026</th>\n",
       "      <td>Vito Mannone</td>\n",
       "      <td>0</td>\n",
       "      <td>0</td>\n",
       "      <td>450</td>\n",
       "      <td>1</td>\n",
       "      <td>0</td>\n",
       "      <td>14</td>\n",
       "      <td>13.4</td>\n",
       "      <td>15.812388</td>\n",
       "    </tr>\n",
       "    <tr>\n",
       "      <th>2087</th>\n",
       "      <td>Jeff Hendrick</td>\n",
       "      <td>1</td>\n",
       "      <td>0</td>\n",
       "      <td>286</td>\n",
       "      <td>3</td>\n",
       "      <td>1</td>\n",
       "      <td>15</td>\n",
       "      <td>13.7</td>\n",
       "      <td>20.654329</td>\n",
       "    </tr>\n",
       "  </tbody>\n",
       "</table>\n",
       "</div>"
      ],
      "text/plain": [
       "         player_name  goals_scored  assists  minutes  position_index  \\\n",
       "31484   Matt Targett             0        0      539               2   \n",
       "23653       Tom Ince             1        1     1678               4   \n",
       "16915   James Milner             7        4     3290               3   \n",
       "8026    Vito Mannone             0        0      450               1   \n",
       "2087   Jeff Hendrick             1        0      286               3   \n",
       "\n",
       "       clean_sheets  total_points    ict    ict_pred  \n",
       "31484             1            14   24.6   16.671050  \n",
       "23653             6            56   95.7   78.808282  \n",
       "16915            13           149  243.6  219.838111  \n",
       "8026              0            14   13.4   15.812388  \n",
       "2087              1            15   13.7   20.654329  "
      ]
     },
     "execution_count": 26,
     "metadata": {},
     "output_type": "execute_result"
    }
   ],
   "source": [
    "fpl_ult2.head()"
   ]
  },
  {
   "cell_type": "code",
   "execution_count": 27,
   "metadata": {
    "collapsed": true
   },
   "outputs": [],
   "source": [
    "fpl_c = pd.concat([fpl_ult1, fpl_ult2], axis = 0)"
   ]
  },
  {
   "cell_type": "code",
   "execution_count": 28,
   "metadata": {},
   "outputs": [
    {
     "data": {
      "text/html": [
       "<div>\n",
       "<style>\n",
       "    .dataframe thead tr:only-child th {\n",
       "        text-align: right;\n",
       "    }\n",
       "\n",
       "    .dataframe thead th {\n",
       "        text-align: left;\n",
       "    }\n",
       "\n",
       "    .dataframe tbody tr th {\n",
       "        vertical-align: top;\n",
       "    }\n",
       "</style>\n",
       "<table border=\"1\" class=\"dataframe\">\n",
       "  <thead>\n",
       "    <tr style=\"text-align: right;\">\n",
       "      <th></th>\n",
       "      <th>player_name</th>\n",
       "      <th>goals_scored</th>\n",
       "      <th>assists</th>\n",
       "      <th>minutes</th>\n",
       "      <th>position_index</th>\n",
       "      <th>clean_sheets</th>\n",
       "      <th>total_points</th>\n",
       "      <th>ict</th>\n",
       "      <th>ict_pred</th>\n",
       "    </tr>\n",
       "  </thead>\n",
       "  <tbody>\n",
       "    <tr>\n",
       "      <th>0</th>\n",
       "      <td>Leroy Fer</td>\n",
       "      <td>7</td>\n",
       "      <td>3</td>\n",
       "      <td>3674</td>\n",
       "      <td>3</td>\n",
       "      <td>8</td>\n",
       "      <td>135</td>\n",
       "      <td>177.1</td>\n",
       "      <td>201.187255</td>\n",
       "    </tr>\n",
       "    <tr>\n",
       "      <th>1</th>\n",
       "      <td>Roberto Pereyra</td>\n",
       "      <td>13</td>\n",
       "      <td>10</td>\n",
       "      <td>5103</td>\n",
       "      <td>3</td>\n",
       "      <td>10</td>\n",
       "      <td>238</td>\n",
       "      <td>321.1</td>\n",
       "      <td>358.155635</td>\n",
       "    </tr>\n",
       "    <tr>\n",
       "      <th>2</th>\n",
       "      <td>Lukasz Fabianski</td>\n",
       "      <td>0</td>\n",
       "      <td>0</td>\n",
       "      <td>3240</td>\n",
       "      <td>1</td>\n",
       "      <td>7</td>\n",
       "      <td>116</td>\n",
       "      <td>75.9</td>\n",
       "      <td>82.648242</td>\n",
       "    </tr>\n",
       "    <tr>\n",
       "      <th>3</th>\n",
       "      <td>Marko Grujic</td>\n",
       "      <td>0</td>\n",
       "      <td>0</td>\n",
       "      <td>30</td>\n",
       "      <td>3</td>\n",
       "      <td>0</td>\n",
       "      <td>2</td>\n",
       "      <td>2.9</td>\n",
       "      <td>1.877615</td>\n",
       "    </tr>\n",
       "    <tr>\n",
       "      <th>4</th>\n",
       "      <td>Wes Morgan</td>\n",
       "      <td>1</td>\n",
       "      <td>1</td>\n",
       "      <td>3780</td>\n",
       "      <td>2</td>\n",
       "      <td>9</td>\n",
       "      <td>102</td>\n",
       "      <td>120.6</td>\n",
       "      <td>121.612091</td>\n",
       "    </tr>\n",
       "  </tbody>\n",
       "</table>\n",
       "</div>"
      ],
      "text/plain": [
       "        player_name  goals_scored  assists  minutes  position_index  \\\n",
       "0         Leroy Fer             7        3     3674               3   \n",
       "1   Roberto Pereyra            13       10     5103               3   \n",
       "2  Lukasz Fabianski             0        0     3240               1   \n",
       "3      Marko Grujic             0        0       30               3   \n",
       "4        Wes Morgan             1        1     3780               2   \n",
       "\n",
       "   clean_sheets  total_points    ict    ict_pred  \n",
       "0             8           135  177.1  201.187255  \n",
       "1            10           238  321.1  358.155635  \n",
       "2             7           116   75.9   82.648242  \n",
       "3             0             2    2.9    1.877615  \n",
       "4             9           102  120.6  121.612091  "
      ]
     },
     "execution_count": 28,
     "metadata": {},
     "output_type": "execute_result"
    }
   ],
   "source": [
    "fpl_c2 = fpl_c.reset_index(drop = True)\n",
    "fpl_c2.head()"
   ]
  },
  {
   "cell_type": "code",
   "execution_count": 29,
   "metadata": {
    "collapsed": true
   },
   "outputs": [],
   "source": [
    "fpl_c2.to_csv(\"~/DSI-SRP1/FPL_ULTIMATE2.csv\")"
   ]
  }
 ],
 "metadata": {
  "kernelspec": {
   "display_name": "Python 3",
   "language": "python",
   "name": "python3"
  },
  "language_info": {
   "codemirror_mode": {
    "name": "ipython",
    "version": 3
   },
   "file_extension": ".py",
   "mimetype": "text/x-python",
   "name": "python",
   "nbconvert_exporter": "python",
   "pygments_lexer": "ipython3",
   "version": "3.6.3"
  }
 },
 "nbformat": 4,
 "nbformat_minor": 2
}
