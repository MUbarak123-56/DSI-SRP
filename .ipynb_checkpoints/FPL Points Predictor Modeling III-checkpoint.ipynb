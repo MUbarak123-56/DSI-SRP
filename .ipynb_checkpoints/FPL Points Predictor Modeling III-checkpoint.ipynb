{
 "cells": [
  {
   "cell_type": "markdown",
   "metadata": {},
   "source": [
    "# FPL Predictor Modeling III"
   ]
  },
  {
   "cell_type": "markdown",
   "metadata": {},
   "source": [
    "### Package Installments"
   ]
  },
  {
   "cell_type": "code",
   "execution_count": 1,
   "metadata": {
    "collapsed": true
   },
   "outputs": [],
   "source": [
    "import numpy as np\n",
    "import pandas as pd\n",
    "import matplotlib.pyplot as plt\n",
    "import seaborn as sns; sns.set(style = \"ticks\")\n",
    "%matplotlib inline\n",
    "from scipy.interpolate import make_interp_spline\n",
    "import math\n",
    "import pickle"
   ]
  },
  {
   "cell_type": "code",
   "execution_count": 2,
   "metadata": {},
   "outputs": [
    {
     "name": "stderr",
     "output_type": "stream",
     "text": [
      "/accre/arch/easybuild/software/BinDist/Anaconda3/5.0.1/lib/python3.6/site-packages/sklearn/cross_validation.py:41: DeprecationWarning: This module was deprecated in version 0.18 in favor of the model_selection module into which all the refactored classes and functions are moved. Also note that the interface of the new CV iterators are different from that of this module. This module will be removed in 0.20.\n",
      "  \"This module will be removed in 0.20.\", DeprecationWarning)\n",
      "/accre/arch/easybuild/software/BinDist/Anaconda3/5.0.1/lib/python3.6/site-packages/sklearn/learning_curve.py:22: DeprecationWarning: This module was deprecated in version 0.18 in favor of the model_selection module into which all the functions are moved. This module will be removed in 0.20\n",
      "  DeprecationWarning)\n"
     ]
    }
   ],
   "source": [
    "from sklearn.pipeline import make_pipeline\n",
    "from sklearn.preprocessing import PolynomialFeatures\n",
    "from sklearn.linear_model import LinearRegression\n",
    "from sklearn.metrics import r2_score\n",
    "from sklearn.cross_validation import cross_val_score\n",
    "from sklearn.learning_curve import validation_curve\n",
    "from sklearn.metrics import mean_squared_error\n",
    "from sklearn.metrics import explained_variance_score\n",
    "from sklearn.cross_validation import train_test_split\n",
    "from sklearn.feature_selection import RFE\n",
    "from sklearn.pipeline import Pipeline"
   ]
  },
  {
   "cell_type": "markdown",
   "metadata": {},
   "source": [
    "### Useful functions"
   ]
  },
  {
   "cell_type": "code",
   "execution_count": 3,
   "metadata": {
    "collapsed": true
   },
   "outputs": [],
   "source": [
    "## This function is used to select the best degree for polynomial regression\n",
    "def best_degree(model, df_x,df_y):\n",
    "    degree = np.arange(10)\n",
    "    train_score, val_score = validation_curve(model, df_x, df_y, 'polynomialfeatures__degree', degree, cv = 5)\n",
    "    degree = pd.Series(degree)\n",
    "    train = pd.Series(np.median(train_score,1))\n",
    "    val = pd.Series(np.median(val_score,1))\n",
    "    record = pd.DataFrame({'degree': degree, 'train_score': train, 'val_score': val})\n",
    "    record_max = record.loc[record[['val_score']].idxmax(), 'degree']\n",
    "    record_max2 = record_max.reset_index(drop = True)\n",
    "    return record_max2[0]"
   ]
  },
  {
   "cell_type": "code",
   "execution_count": 4,
   "metadata": {
    "collapsed": true
   },
   "outputs": [],
   "source": [
    "## This function is used to see how the training curve and validation curve vary for different degrees\n",
    "def val_curve(model, df_x, df_y):\n",
    "    degree = np.arange(1,6)\n",
    "    train_score, val_score = validation_curve(model, df_x, df_y, 'polynomialfeatures__degree', degree, cv = 5)\n",
    "    best = best_degree(model,df_x,df_y)\n",
    "    deg = np.linspace(1,5,200)\n",
    "    smooth_train = make_interp_spline(degree, np.median(train_score,1))\n",
    "    smooth_val = make_interp_spline(degree, np.median(val_score, 1))\n",
    "\n",
    "    ##plt.plot(degree, np.median(train_score,1), color = 'blue', label = 'training curve')\n",
    "    ##plt.plot(degree, np.median(val_score,1), color = 'red', label = 'validation curve')\n",
    "    plt.plot(deg, smooth_train(deg), color = 'blue', label = 'training curve')\n",
    "    plt.plot(deg, smooth_val(deg), color = 'red', label = 'validation curve')\n",
    "    plt.scatter(best, np.max(np.median(val_score,1)), marker = 'x', color = 'black', label = 'max')\n",
    "    plt.legend(loc = 'best')\n",
    "    plt.xlabel('Degree')\n",
    "    plt.ylabel('Accuracy score')\n",
    "    plt.ylim(0,1);"
   ]
  },
  {
   "cell_type": "code",
   "execution_count": 5,
   "metadata": {
    "collapsed": true
   },
   "outputs": [],
   "source": [
    "## This function is used split data into training and testing sets\n",
    "def split_data(df_new, rand_state = 10):\n",
    "    df_x = df_new[['player_name','goals_scored', 'assists','minutes', 'position_index','clean_sheets', 'total_points']]\n",
    "    df_y = df_new['total_points']\n",
    "    df_xm = df_new[['goals_scored','assists','minutes','clean_sheets','position_index']]\n",
    "    df_xtrain, df_xtest, df_ytrain, df_ytest = train_test_split(df_x, df_y, random_state = rand_state, train_size = 0.8)\n",
    "    df_xtrain_new = df_xtrain[['goals_scored', 'assists','minutes','clean_sheets','position_index']]\n",
    "    df_xtest_new = df_xtest[['goals_scored', 'assists','minutes','clean_sheets','position_index']]\n",
    "    return (df_x, df_y, df_xm, df_xtrain, df_xtest, df_ytrain, df_ytest, df_xtrain_new, df_xtest_new)"
   ]
  },
  {
   "cell_type": "code",
   "execution_count": 6,
   "metadata": {
    "collapsed": true
   },
   "outputs": [],
   "source": [
    "## This function is used to generate a new table with the fpl predictions\n",
    "def new_output(df_x, df_y, df_pred):\n",
    "    df_xtest = df_x.copy()\n",
    "    df_xtest['fpl_pred'] = df_pred\n",
    "    df_xtest2 = df_xtest.reset_index()\n",
    "    df_xtest2 = df_xtest2.drop(\"index\", axis = 1)\n",
    "    return df_xtest2"
   ]
  },
  {
   "cell_type": "markdown",
   "metadata": {},
   "source": [
    "### Creating model"
   ]
  },
  {
   "cell_type": "code",
   "execution_count": 7,
   "metadata": {
    "collapsed": true
   },
   "outputs": [],
   "source": [
    "model = make_pipeline(PolynomialFeatures(), LinearRegression())"
   ]
  },
  {
   "cell_type": "markdown",
   "metadata": {},
   "source": [
    "### ETL"
   ]
  },
  {
   "cell_type": "code",
   "execution_count": 8,
   "metadata": {
    "collapsed": true
   },
   "outputs": [],
   "source": [
    "## Loading the dataset\n",
    "fpl_ult = pd.read_csv(\"~/DSI-SRP1/FPL_ULTIMATE.csv\", encoding = \"latin1\")"
   ]
  },
  {
   "cell_type": "code",
   "execution_count": 9,
   "metadata": {},
   "outputs": [
    {
     "data": {
      "text/plain": [
       "(46659, 17)"
      ]
     },
     "execution_count": 9,
     "metadata": {},
     "output_type": "execute_result"
    }
   ],
   "source": [
    "fpl_ult.shape"
   ]
  },
  {
   "cell_type": "code",
   "execution_count": 10,
   "metadata": {},
   "outputs": [
    {
     "data": {
      "text/html": [
       "<div>\n",
       "<style>\n",
       "    .dataframe thead tr:only-child th {\n",
       "        text-align: right;\n",
       "    }\n",
       "\n",
       "    .dataframe thead th {\n",
       "        text-align: left;\n",
       "    }\n",
       "\n",
       "    .dataframe tbody tr th {\n",
       "        vertical-align: top;\n",
       "    }\n",
       "</style>\n",
       "<table border=\"1\" class=\"dataframe\">\n",
       "  <thead>\n",
       "    <tr style=\"text-align: right;\">\n",
       "      <th></th>\n",
       "      <th>Unnamed: 0</th>\n",
       "      <th>player_name</th>\n",
       "      <th>club_name</th>\n",
       "      <th>position</th>\n",
       "      <th>position_index</th>\n",
       "      <th>goals_scored</th>\n",
       "      <th>assists</th>\n",
       "      <th>ict_index</th>\n",
       "      <th>goals_conceded</th>\n",
       "      <th>minutes</th>\n",
       "      <th>own_goals</th>\n",
       "      <th>total_points</th>\n",
       "      <th>bps</th>\n",
       "      <th>bonus</th>\n",
       "      <th>clean_sheets</th>\n",
       "      <th>GW</th>\n",
       "      <th>season</th>\n",
       "    </tr>\n",
       "  </thead>\n",
       "  <tbody>\n",
       "    <tr>\n",
       "      <th>0</th>\n",
       "      <td>1</td>\n",
       "      <td>Aaron Lennon</td>\n",
       "      <td>Everton FC</td>\n",
       "      <td>Right Winger</td>\n",
       "      <td>4</td>\n",
       "      <td>0</td>\n",
       "      <td>0</td>\n",
       "      <td>0.9</td>\n",
       "      <td>0</td>\n",
       "      <td>15</td>\n",
       "      <td>0</td>\n",
       "      <td>1</td>\n",
       "      <td>6</td>\n",
       "      <td>0</td>\n",
       "      <td>0</td>\n",
       "      <td>1</td>\n",
       "      <td>2016/2017</td>\n",
       "    </tr>\n",
       "    <tr>\n",
       "      <th>1</th>\n",
       "      <td>2</td>\n",
       "      <td>Aaron Ramsey</td>\n",
       "      <td>Arsenal FC</td>\n",
       "      <td>Central Midfield</td>\n",
       "      <td>3</td>\n",
       "      <td>0</td>\n",
       "      <td>0</td>\n",
       "      <td>3.0</td>\n",
       "      <td>3</td>\n",
       "      <td>60</td>\n",
       "      <td>0</td>\n",
       "      <td>2</td>\n",
       "      <td>5</td>\n",
       "      <td>0</td>\n",
       "      <td>0</td>\n",
       "      <td>1</td>\n",
       "      <td>2016/2017</td>\n",
       "    </tr>\n",
       "    <tr>\n",
       "      <th>2</th>\n",
       "      <td>3</td>\n",
       "      <td>Abel Hernández</td>\n",
       "      <td>Hull City</td>\n",
       "      <td>Centre-Forward</td>\n",
       "      <td>5</td>\n",
       "      <td>0</td>\n",
       "      <td>1</td>\n",
       "      <td>5.7</td>\n",
       "      <td>1</td>\n",
       "      <td>90</td>\n",
       "      <td>0</td>\n",
       "      <td>5</td>\n",
       "      <td>10</td>\n",
       "      <td>0</td>\n",
       "      <td>0</td>\n",
       "      <td>1</td>\n",
       "      <td>2016/2017</td>\n",
       "    </tr>\n",
       "    <tr>\n",
       "      <th>3</th>\n",
       "      <td>4</td>\n",
       "      <td>Adama Diomande</td>\n",
       "      <td>Hull City</td>\n",
       "      <td>Centre-Forward</td>\n",
       "      <td>5</td>\n",
       "      <td>1</td>\n",
       "      <td>0</td>\n",
       "      <td>10.7</td>\n",
       "      <td>1</td>\n",
       "      <td>90</td>\n",
       "      <td>0</td>\n",
       "      <td>8</td>\n",
       "      <td>29</td>\n",
       "      <td>2</td>\n",
       "      <td>0</td>\n",
       "      <td>1</td>\n",
       "      <td>2016/2017</td>\n",
       "    </tr>\n",
       "    <tr>\n",
       "      <th>4</th>\n",
       "      <td>5</td>\n",
       "      <td>Adam Clayton</td>\n",
       "      <td>Middlesbrough FC</td>\n",
       "      <td>Defensive Midfield</td>\n",
       "      <td>3</td>\n",
       "      <td>0</td>\n",
       "      <td>0</td>\n",
       "      <td>1.4</td>\n",
       "      <td>1</td>\n",
       "      <td>90</td>\n",
       "      <td>0</td>\n",
       "      <td>2</td>\n",
       "      <td>6</td>\n",
       "      <td>0</td>\n",
       "      <td>0</td>\n",
       "      <td>1</td>\n",
       "      <td>2016/2017</td>\n",
       "    </tr>\n",
       "  </tbody>\n",
       "</table>\n",
       "</div>"
      ],
      "text/plain": [
       "   Unnamed: 0     player_name         club_name            position  \\\n",
       "0           1    Aaron Lennon        Everton FC        Right Winger   \n",
       "1           2    Aaron Ramsey        Arsenal FC    Central Midfield   \n",
       "2           3  Abel Hernández         Hull City      Centre-Forward   \n",
       "3           4  Adama Diomande         Hull City      Centre-Forward   \n",
       "4           5    Adam Clayton  Middlesbrough FC  Defensive Midfield   \n",
       "\n",
       "   position_index  goals_scored  assists  ict_index  goals_conceded  minutes  \\\n",
       "0               4             0        0        0.9               0       15   \n",
       "1               3             0        0        3.0               3       60   \n",
       "2               5             0        1        5.7               1       90   \n",
       "3               5             1        0       10.7               1       90   \n",
       "4               3             0        0        1.4               1       90   \n",
       "\n",
       "   own_goals  total_points  bps  bonus  clean_sheets  GW     season  \n",
       "0          0             1    6      0             0   1  2016/2017  \n",
       "1          0             2    5      0             0   1  2016/2017  \n",
       "2          0             5   10      0             0   1  2016/2017  \n",
       "3          0             8   29      2             0   1  2016/2017  \n",
       "4          0             2    6      0             0   1  2016/2017  "
      ]
     },
     "execution_count": 10,
     "metadata": {},
     "output_type": "execute_result"
    }
   ],
   "source": [
    "fpl_ult.head()"
   ]
  },
  {
   "cell_type": "code",
   "execution_count": 11,
   "metadata": {
    "collapsed": true
   },
   "outputs": [],
   "source": [
    "fpl_ult = fpl_ult.drop(\"Unnamed: 0\", axis = 1)"
   ]
  },
  {
   "cell_type": "code",
   "execution_count": 12,
   "metadata": {},
   "outputs": [
    {
     "data": {
      "text/plain": [
       "Index(['player_name', 'club_name', 'position', 'position_index',\n",
       "       'goals_scored', 'assists', 'ict_index', 'goals_conceded', 'minutes',\n",
       "       'own_goals', 'total_points', 'bps', 'bonus', 'clean_sheets', 'GW',\n",
       "       'season'],\n",
       "      dtype='object')"
      ]
     },
     "execution_count": 12,
     "metadata": {},
     "output_type": "execute_result"
    }
   ],
   "source": [
    "fpl_ult.columns"
   ]
  },
  {
   "cell_type": "code",
   "execution_count": 13,
   "metadata": {},
   "outputs": [
    {
     "data": {
      "text/plain": [
       "(46659, 16)"
      ]
     },
     "execution_count": 13,
     "metadata": {},
     "output_type": "execute_result"
    }
   ],
   "source": [
    "fpl_ult.shape"
   ]
  },
  {
   "cell_type": "markdown",
   "metadata": {},
   "source": [
    "### Feature Selection"
   ]
  },
  {
   "cell_type": "code",
   "execution_count": 14,
   "metadata": {},
   "outputs": [
    {
     "data": {
      "image/png": "[encoded data removed]",
      "text/plain": [
       "<matplotlib.figure.Figure at 0x2b67e0a55780>"
      ]
     },
     "metadata": {},
     "output_type": "display_data"
    }
   ],
   "source": [
    "## plotting the correlation coefficient table\n",
    "plt.figure(figsize = (24,15))\n",
    "cor = fpl_ult.corr()\n",
    "sns.heatmap(cor, annot = True, cmap = 'viridis')\n",
    "plt.show()"
   ]
  },
  {
   "cell_type": "code",
   "execution_count": 15,
   "metadata": {},
   "outputs": [
    {
     "data": {
      "text/html": [
       "<div>\n",
       "<style>\n",
       "    .dataframe thead tr:only-child th {\n",
       "        text-align: right;\n",
       "    }\n",
       "\n",
       "    .dataframe thead th {\n",
       "        text-align: left;\n",
       "    }\n",
       "\n",
       "    .dataframe tbody tr th {\n",
       "        vertical-align: top;\n",
       "    }\n",
       "</style>\n",
       "<table border=\"1\" class=\"dataframe\">\n",
       "  <thead>\n",
       "    <tr style=\"text-align: right;\">\n",
       "      <th></th>\n",
       "      <th>features</th>\n",
       "      <th>rfe_rank</th>\n",
       "    </tr>\n",
       "  </thead>\n",
       "  <tbody>\n",
       "    <tr>\n",
       "      <th>0</th>\n",
       "      <td>goals_scored</td>\n",
       "      <td>1</td>\n",
       "    </tr>\n",
       "    <tr>\n",
       "      <th>1</th>\n",
       "      <td>assists</td>\n",
       "      <td>1</td>\n",
       "    </tr>\n",
       "    <tr>\n",
       "      <th>6</th>\n",
       "      <td>clean_sheets</td>\n",
       "      <td>1</td>\n",
       "    </tr>\n",
       "    <tr>\n",
       "      <th>8</th>\n",
       "      <td>position_index</td>\n",
       "      <td>1</td>\n",
       "    </tr>\n",
       "  </tbody>\n",
       "</table>\n",
       "</div>"
      ],
      "text/plain": [
       "         features  rfe_rank\n",
       "0    goals_scored         1\n",
       "1         assists         1\n",
       "6    clean_sheets         1\n",
       "8  position_index         1"
      ]
     },
     "execution_count": 15,
     "metadata": {},
     "output_type": "execute_result"
    }
   ],
   "source": [
    "##  Using Recursive Feature Elimination to select variables\n",
    "fpl_newx = fpl_ult[['goals_scored','assists','minutes','bonus','bps','goals_conceded', 'clean_sheets','ict_index','position_index','GW']]\n",
    "fpl_newy = fpl_ult['total_points']\n",
    "model2 = LinearRegression()\n",
    "model_rfe = RFE(model2,4)\n",
    "fpl_x_rfe = model_rfe.fit_transform(fpl_newx, fpl_newy)\n",
    "model2.fit(fpl_x_rfe, fpl_newy)\n",
    "rfe = model_rfe.ranking_\n",
    "features = ['goals_scored','assists','minutes','bonus','bps','goals_conceded', 'clean_sheets','ict_index','position_index','GW']\n",
    "ref_df = pd.DataFrame({'features': features, 'rfe_rank': rfe}, index = np.arange(10))\n",
    "ref_df[ref_df['rfe_rank'] == 1]"
   ]
  },
  {
   "cell_type": "code",
   "execution_count": 16,
   "metadata": {},
   "outputs": [
    {
     "data": {
      "text/html": [
       "<div>\n",
       "<style>\n",
       "    .dataframe thead tr:only-child th {\n",
       "        text-align: right;\n",
       "    }\n",
       "\n",
       "    .dataframe thead th {\n",
       "        text-align: left;\n",
       "    }\n",
       "\n",
       "    .dataframe tbody tr th {\n",
       "        vertical-align: top;\n",
       "    }\n",
       "</style>\n",
       "<table border=\"1\" class=\"dataframe\">\n",
       "  <thead>\n",
       "    <tr style=\"text-align: right;\">\n",
       "      <th></th>\n",
       "      <th>features</th>\n",
       "      <th>rfe_rank</th>\n",
       "    </tr>\n",
       "  </thead>\n",
       "  <tbody>\n",
       "    <tr>\n",
       "      <th>0</th>\n",
       "      <td>clean_sheets</td>\n",
       "      <td>1</td>\n",
       "    </tr>\n",
       "    <tr>\n",
       "      <th>1</th>\n",
       "      <td>goals_scored</td>\n",
       "      <td>2</td>\n",
       "    </tr>\n",
       "    <tr>\n",
       "      <th>2</th>\n",
       "      <td>position_index</td>\n",
       "      <td>3</td>\n",
       "    </tr>\n",
       "    <tr>\n",
       "      <th>3</th>\n",
       "      <td>assists</td>\n",
       "      <td>4</td>\n",
       "    </tr>\n",
       "    <tr>\n",
       "      <th>4</th>\n",
       "      <td>minutes</td>\n",
       "      <td>5</td>\n",
       "    </tr>\n",
       "  </tbody>\n",
       "</table>\n",
       "</div>"
      ],
      "text/plain": [
       "         features  rfe_rank\n",
       "0    clean_sheets         1\n",
       "1    goals_scored         2\n",
       "2  position_index         3\n",
       "3         assists         4\n",
       "4         minutes         5"
      ]
     },
     "execution_count": 16,
     "metadata": {},
     "output_type": "execute_result"
    }
   ],
   "source": [
    "## minutes was selected because intuitively speaking the number of minutes a player plays has an influence on his total_points\n",
    "fpl_newx2 = fpl_ult[['goals_scored', 'assists','clean_sheets', 'position_index', 'minutes']]\n",
    "model_rfe2 = RFE(model2, 1)\n",
    "fpl_x_rfe2 = model_rfe2.fit_transform(fpl_newx2, fpl_newy)\n",
    "model2.fit(fpl_x_rfe2, fpl_newy)\n",
    "rfe2 = model_rfe2.ranking_\n",
    "features2 = ['goals_scored','assists','clean_sheets','position_index', 'minutes']\n",
    "rfe_df2 = pd.DataFrame({'features': features2, 'rfe_rank': rfe2}, index = np.arange(5))\n",
    "rfe_df2 = rfe_df2.sort_values('rfe_rank')\n",
    "rfe_df3 = rfe_df2.reset_index()\n",
    "rfe_df3 = rfe_df3.drop('index', axis = 1)\n",
    "rfe_df3"
   ]
  },
  {
   "cell_type": "markdown",
   "metadata": {},
   "source": [
    "### Modeling"
   ]
  },
  {
   "cell_type": "code",
   "execution_count": 17,
   "metadata": {
    "collapsed": true
   },
   "outputs": [],
   "source": [
    "fpl_x, fpl_y, fpl_xm, fpl_xtrain, fpl_xtest, fpl_ytrain, fpl_ytest, fpl_xtrain_new, fpl_xtest_new = split_data(fpl_ult)"
   ]
  },
  {
   "cell_type": "code",
   "execution_count": 18,
   "metadata": {},
   "outputs": [
    {
     "data": {
      "image/png": "[encoded data removed]",
      "text/plain": [
       "<matplotlib.figure.Figure at 0x2b67e9162fd0>"
      ]
     },
     "metadata": {},
     "output_type": "display_data"
    }
   ],
   "source": [
    "val_curve(model, fpl_xtrain_new, fpl_ytrain)"
   ]
  },
  {
   "cell_type": "code",
   "execution_count": 19,
   "metadata": {
    "collapsed": true
   },
   "outputs": [],
   "source": [
    "## building a new model based on the best degree\n",
    "model_fpl = make_pipeline(PolynomialFeatures(best_degree(model, fpl_xtrain_new, fpl_ytrain)), LinearRegression())"
   ]
  },
  {
   "cell_type": "code",
   "execution_count": 20,
   "metadata": {},
   "outputs": [
    {
     "name": "stdout",
     "output_type": "stream",
     "text": [
      "[ 0.99407267  0.99391209  0.99392076  0.99306947  0.99370322]\n",
      "0.99373564364\n"
     ]
    }
   ],
   "source": [
    "score_fpl = cross_val_score(model_fpl, fpl_xtrain_new, fpl_ytrain, cv = 5, scoring = \"r2\")\n",
    "print(score_fpl)\n",
    "print(score_fpl.mean())"
   ]
  },
  {
   "cell_type": "code",
   "execution_count": 21,
   "metadata": {
    "collapsed": true
   },
   "outputs": [],
   "source": [
    "## fitting the model\n",
    "model_fpl.fit(fpl_xtrain_new, fpl_ytrain)\n",
    "fpl_pred = model_fpl.predict(fpl_xtest_new)"
   ]
  },
  {
   "cell_type": "code",
   "execution_count": 22,
   "metadata": {
    "collapsed": true
   },
   "outputs": [],
   "source": [
    "fpl_r2 = r2_score(fpl_pred, fpl_ytest)"
   ]
  },
  {
   "cell_type": "code",
   "execution_count": 23,
   "metadata": {
    "collapsed": true
   },
   "outputs": [],
   "source": [
    "fpl_rmse = math.sqrt(mean_squared_error(fpl_pred, fpl_ytest))"
   ]
  },
  {
   "cell_type": "code",
   "execution_count": 24,
   "metadata": {
    "collapsed": true
   },
   "outputs": [],
   "source": [
    "fpl_evs = explained_variance_score(fpl_pred, fpl_ytest)"
   ]
  },
  {
   "cell_type": "code",
   "execution_count": 25,
   "metadata": {},
   "outputs": [
    {
     "data": {
      "text/html": [
       "<div>\n",
       "<style>\n",
       "    .dataframe thead tr:only-child th {\n",
       "        text-align: right;\n",
       "    }\n",
       "\n",
       "    .dataframe thead th {\n",
       "        text-align: left;\n",
       "    }\n",
       "\n",
       "    .dataframe tbody tr th {\n",
       "        vertical-align: top;\n",
       "    }\n",
       "</style>\n",
       "<table border=\"1\" class=\"dataframe\">\n",
       "  <thead>\n",
       "    <tr style=\"text-align: right;\">\n",
       "      <th></th>\n",
       "      <th>measure</th>\n",
       "      <th>score</th>\n",
       "    </tr>\n",
       "  </thead>\n",
       "  <tbody>\n",
       "    <tr>\n",
       "      <th>0</th>\n",
       "      <td>r-squared score</td>\n",
       "      <td>0.994007</td>\n",
       "    </tr>\n",
       "    <tr>\n",
       "      <th>1</th>\n",
       "      <td>root mean squared error</td>\n",
       "      <td>6.639374</td>\n",
       "    </tr>\n",
       "    <tr>\n",
       "      <th>2</th>\n",
       "      <td>explained variance score</td>\n",
       "      <td>0.994011</td>\n",
       "    </tr>\n",
       "  </tbody>\n",
       "</table>\n",
       "</div>"
      ],
      "text/plain": [
       "                    measure     score\n",
       "0           r-squared score  0.994007\n",
       "1   root mean squared error  6.639374\n",
       "2  explained variance score  0.994011"
      ]
     },
     "execution_count": 25,
     "metadata": {},
     "output_type": "execute_result"
    }
   ],
   "source": [
    "## creating a table for the metrics\n",
    "index = [0,1,2]\n",
    "measure = ['r-squared score', 'root mean squared error', 'explained variance score']\n",
    "score = [fpl_r2, fpl_rmse, fpl_evs]\n",
    "fpl_score_df = pd.DataFrame({'measure': measure, 'score': score}, index = index)\n",
    "fpl_score_df"
   ]
  },
  {
   "cell_type": "code",
   "execution_count": 26,
   "metadata": {
    "collapsed": true
   },
   "outputs": [],
   "source": [
    "fpl_ult2 = new_output(fpl_xtest, fpl_ytest, fpl_pred)"
   ]
  },
  {
   "cell_type": "code",
   "execution_count": 27,
   "metadata": {},
   "outputs": [
    {
     "data": {
      "text/html": [
       "<div>\n",
       "<style>\n",
       "    .dataframe thead tr:only-child th {\n",
       "        text-align: right;\n",
       "    }\n",
       "\n",
       "    .dataframe thead th {\n",
       "        text-align: left;\n",
       "    }\n",
       "\n",
       "    .dataframe tbody tr th {\n",
       "        vertical-align: top;\n",
       "    }\n",
       "</style>\n",
       "<table border=\"1\" class=\"dataframe\">\n",
       "  <thead>\n",
       "    <tr style=\"text-align: right;\">\n",
       "      <th></th>\n",
       "      <th>player_name</th>\n",
       "      <th>goals_scored</th>\n",
       "      <th>assists</th>\n",
       "      <th>minutes</th>\n",
       "      <th>position_index</th>\n",
       "      <th>clean_sheets</th>\n",
       "      <th>total_points</th>\n",
       "      <th>fpl_pred</th>\n",
       "    </tr>\n",
       "  </thead>\n",
       "  <tbody>\n",
       "    <tr>\n",
       "      <th>0</th>\n",
       "      <td>Andreas Pereira</td>\n",
       "      <td>0</td>\n",
       "      <td>0</td>\n",
       "      <td>135</td>\n",
       "      <td>4</td>\n",
       "      <td>0</td>\n",
       "      <td>2</td>\n",
       "      <td>5.720735</td>\n",
       "    </tr>\n",
       "    <tr>\n",
       "      <th>1</th>\n",
       "      <td>Dusan Tadic</td>\n",
       "      <td>4</td>\n",
       "      <td>7</td>\n",
       "      <td>3357</td>\n",
       "      <td>4</td>\n",
       "      <td>18</td>\n",
       "      <td>138</td>\n",
       "      <td>139.376345</td>\n",
       "    </tr>\n",
       "    <tr>\n",
       "      <th>2</th>\n",
       "      <td>Evandro Goebel</td>\n",
       "      <td>0</td>\n",
       "      <td>0</td>\n",
       "      <td>176</td>\n",
       "      <td>4</td>\n",
       "      <td>1</td>\n",
       "      <td>6</td>\n",
       "      <td>5.901951</td>\n",
       "    </tr>\n",
       "    <tr>\n",
       "      <th>3</th>\n",
       "      <td>Sead Kolasinac</td>\n",
       "      <td>2</td>\n",
       "      <td>4</td>\n",
       "      <td>2146</td>\n",
       "      <td>2</td>\n",
       "      <td>10</td>\n",
       "      <td>108</td>\n",
       "      <td>109.735833</td>\n",
       "    </tr>\n",
       "    <tr>\n",
       "      <th>4</th>\n",
       "      <td>Martin Cranie</td>\n",
       "      <td>0</td>\n",
       "      <td>0</td>\n",
       "      <td>179</td>\n",
       "      <td>2</td>\n",
       "      <td>0</td>\n",
       "      <td>2</td>\n",
       "      <td>3.062668</td>\n",
       "    </tr>\n",
       "  </tbody>\n",
       "</table>\n",
       "</div>"
      ],
      "text/plain": [
       "       player_name  goals_scored  assists  minutes  position_index  \\\n",
       "0  Andreas Pereira             0        0      135               4   \n",
       "1      Dusan Tadic             4        7     3357               4   \n",
       "2   Evandro Goebel             0        0      176               4   \n",
       "3   Sead Kolasinac             2        4     2146               2   \n",
       "4    Martin Cranie             0        0      179               2   \n",
       "\n",
       "   clean_sheets  total_points    fpl_pred  \n",
       "0             0             2    5.720735  \n",
       "1            18           138  139.376345  \n",
       "2             1             6    5.901951  \n",
       "3            10           108  109.735833  \n",
       "4             0             2    3.062668  "
      ]
     },
     "execution_count": 27,
     "metadata": {},
     "output_type": "execute_result"
    }
   ],
   "source": [
    "fpl_ult2.head()"
   ]
  },
  {
   "cell_type": "markdown",
   "metadata": {},
   "source": [
    "### 2019/20 sample dataset"
   ]
  },
  {
   "cell_type": "code",
   "execution_count": 28,
   "metadata": {
    "collapsed": true
   },
   "outputs": [],
   "source": [
    "## Loading a new data\n",
    "fpl_test = pd.read_csv(\"~/DSI-SRP1/2019_20_sample.csv\")"
   ]
  },
  {
   "cell_type": "code",
   "execution_count": 29,
   "metadata": {},
   "outputs": [
    {
     "data": {
      "text/html": [
       "<div>\n",
       "<style>\n",
       "    .dataframe thead tr:only-child th {\n",
       "        text-align: right;\n",
       "    }\n",
       "\n",
       "    .dataframe thead th {\n",
       "        text-align: left;\n",
       "    }\n",
       "\n",
       "    .dataframe tbody tr th {\n",
       "        vertical-align: top;\n",
       "    }\n",
       "</style>\n",
       "<table border=\"1\" class=\"dataframe\">\n",
       "  <thead>\n",
       "    <tr style=\"text-align: right;\">\n",
       "      <th></th>\n",
       "      <th>Unnamed: 0</th>\n",
       "      <th>player_name</th>\n",
       "      <th>goals_scored</th>\n",
       "      <th>assists</th>\n",
       "      <th>minutes</th>\n",
       "      <th>position_index</th>\n",
       "      <th>clean_sheets</th>\n",
       "      <th>total_points</th>\n",
       "      <th>fpl_to_game</th>\n",
       "    </tr>\n",
       "  </thead>\n",
       "  <tbody>\n",
       "    <tr>\n",
       "      <th>0</th>\n",
       "      <td>1</td>\n",
       "      <td>Alisson</td>\n",
       "      <td>0</td>\n",
       "      <td>1</td>\n",
       "      <td>2363</td>\n",
       "      <td>1</td>\n",
       "      <td>13</td>\n",
       "      <td>119</td>\n",
       "      <td>4.532374</td>\n",
       "    </tr>\n",
       "    <tr>\n",
       "      <th>1</th>\n",
       "      <td>2</td>\n",
       "      <td>Bravo</td>\n",
       "      <td>0</td>\n",
       "      <td>0</td>\n",
       "      <td>347</td>\n",
       "      <td>1</td>\n",
       "      <td>1</td>\n",
       "      <td>11</td>\n",
       "      <td>2.853026</td>\n",
       "    </tr>\n",
       "    <tr>\n",
       "      <th>2</th>\n",
       "      <td>3</td>\n",
       "      <td>de Gea</td>\n",
       "      <td>0</td>\n",
       "      <td>0</td>\n",
       "      <td>3240</td>\n",
       "      <td>1</td>\n",
       "      <td>12</td>\n",
       "      <td>134</td>\n",
       "      <td>3.722222</td>\n",
       "    </tr>\n",
       "    <tr>\n",
       "      <th>3</th>\n",
       "      <td>4</td>\n",
       "      <td>Caballero</td>\n",
       "      <td>0</td>\n",
       "      <td>0</td>\n",
       "      <td>360</td>\n",
       "      <td>1</td>\n",
       "      <td>0</td>\n",
       "      <td>7</td>\n",
       "      <td>1.750000</td>\n",
       "    </tr>\n",
       "    <tr>\n",
       "      <th>4</th>\n",
       "      <td>5</td>\n",
       "      <td>Gunn</td>\n",
       "      <td>0</td>\n",
       "      <td>0</td>\n",
       "      <td>900</td>\n",
       "      <td>1</td>\n",
       "      <td>5</td>\n",
       "      <td>29</td>\n",
       "      <td>2.900000</td>\n",
       "    </tr>\n",
       "  </tbody>\n",
       "</table>\n",
       "</div>"
      ],
      "text/plain": [
       "   Unnamed: 0 player_name  goals_scored  assists  minutes  position_index  \\\n",
       "0           1     Alisson             0        1     2363               1   \n",
       "1           2       Bravo             0        0      347               1   \n",
       "2           3      de Gea             0        0     3240               1   \n",
       "3           4   Caballero             0        0      360               1   \n",
       "4           5        Gunn             0        0      900               1   \n",
       "\n",
       "   clean_sheets  total_points  fpl_to_game  \n",
       "0            13           119     4.532374  \n",
       "1             1            11     2.853026  \n",
       "2            12           134     3.722222  \n",
       "3             0             7     1.750000  \n",
       "4             5            29     2.900000  "
      ]
     },
     "execution_count": 29,
     "metadata": {},
     "output_type": "execute_result"
    }
   ],
   "source": [
    "fpl_test.head()"
   ]
  },
  {
   "cell_type": "code",
   "execution_count": 30,
   "metadata": {},
   "outputs": [
    {
     "data": {
      "text/plain": [
       "Index(['player_name', 'goals_scored', 'assists', 'minutes', 'position_index',\n",
       "       'clean_sheets', 'total_points', 'fpl_to_game'],\n",
       "      dtype='object')"
      ]
     },
     "execution_count": 30,
     "metadata": {},
     "output_type": "execute_result"
    }
   ],
   "source": [
    "fpl_test = fpl_test.drop(\"Unnamed: 0\", axis = 1)\n",
    "fpl_test.columns"
   ]
  },
  {
   "cell_type": "code",
   "execution_count": 31,
   "metadata": {
    "collapsed": true
   },
   "outputs": [],
   "source": [
    "## testing out the model on a new dataset\n",
    "fpl_testx = fpl_test[['goals_scored', 'assists','minutes','clean_sheets', 'position_index']]\n",
    "fpl_testpred = model_fpl.predict(fpl_testx)"
   ]
  },
  {
   "cell_type": "code",
   "execution_count": 32,
   "metadata": {},
   "outputs": [
    {
     "data": {
      "text/html": [
       "<div>\n",
       "<style>\n",
       "    .dataframe thead tr:only-child th {\n",
       "        text-align: right;\n",
       "    }\n",
       "\n",
       "    .dataframe thead th {\n",
       "        text-align: left;\n",
       "    }\n",
       "\n",
       "    .dataframe tbody tr th {\n",
       "        vertical-align: top;\n",
       "    }\n",
       "</style>\n",
       "<table border=\"1\" class=\"dataframe\">\n",
       "  <thead>\n",
       "    <tr style=\"text-align: right;\">\n",
       "      <th></th>\n",
       "      <th>player_name</th>\n",
       "      <th>goals_scored</th>\n",
       "      <th>assists</th>\n",
       "      <th>minutes</th>\n",
       "      <th>position_index</th>\n",
       "      <th>clean_sheets</th>\n",
       "      <th>total_points</th>\n",
       "      <th>fpl_to_game</th>\n",
       "      <th>total_points_pred</th>\n",
       "      <th>fpl_to_game_pred</th>\n",
       "    </tr>\n",
       "  </thead>\n",
       "  <tbody>\n",
       "    <tr>\n",
       "      <th>0</th>\n",
       "      <td>Alisson</td>\n",
       "      <td>0</td>\n",
       "      <td>1</td>\n",
       "      <td>2363</td>\n",
       "      <td>1</td>\n",
       "      <td>13</td>\n",
       "      <td>119</td>\n",
       "      <td>4.532374</td>\n",
       "      <td>124.208822</td>\n",
       "      <td>4.730763</td>\n",
       "    </tr>\n",
       "    <tr>\n",
       "      <th>1</th>\n",
       "      <td>Bravo</td>\n",
       "      <td>0</td>\n",
       "      <td>0</td>\n",
       "      <td>347</td>\n",
       "      <td>1</td>\n",
       "      <td>1</td>\n",
       "      <td>11</td>\n",
       "      <td>2.853026</td>\n",
       "      <td>14.590990</td>\n",
       "      <td>3.784407</td>\n",
       "    </tr>\n",
       "    <tr>\n",
       "      <th>2</th>\n",
       "      <td>de Gea</td>\n",
       "      <td>0</td>\n",
       "      <td>0</td>\n",
       "      <td>3240</td>\n",
       "      <td>1</td>\n",
       "      <td>12</td>\n",
       "      <td>134</td>\n",
       "      <td>3.722222</td>\n",
       "      <td>141.064002</td>\n",
       "      <td>3.918445</td>\n",
       "    </tr>\n",
       "    <tr>\n",
       "      <th>3</th>\n",
       "      <td>Caballero</td>\n",
       "      <td>0</td>\n",
       "      <td>0</td>\n",
       "      <td>360</td>\n",
       "      <td>1</td>\n",
       "      <td>0</td>\n",
       "      <td>7</td>\n",
       "      <td>1.750000</td>\n",
       "      <td>7.757785</td>\n",
       "      <td>1.939446</td>\n",
       "    </tr>\n",
       "    <tr>\n",
       "      <th>4</th>\n",
       "      <td>Gunn</td>\n",
       "      <td>0</td>\n",
       "      <td>0</td>\n",
       "      <td>900</td>\n",
       "      <td>1</td>\n",
       "      <td>5</td>\n",
       "      <td>29</td>\n",
       "      <td>2.900000</td>\n",
       "      <td>49.258031</td>\n",
       "      <td>4.925803</td>\n",
       "    </tr>\n",
       "    <tr>\n",
       "      <th>5</th>\n",
       "      <td>Pope</td>\n",
       "      <td>0</td>\n",
       "      <td>0</td>\n",
       "      <td>3330</td>\n",
       "      <td>1</td>\n",
       "      <td>15</td>\n",
       "      <td>169</td>\n",
       "      <td>4.567568</td>\n",
       "      <td>154.721039</td>\n",
       "      <td>4.181650</td>\n",
       "    </tr>\n",
       "    <tr>\n",
       "      <th>6</th>\n",
       "      <td>van Dijk</td>\n",
       "      <td>4</td>\n",
       "      <td>1</td>\n",
       "      <td>3240</td>\n",
       "      <td>2</td>\n",
       "      <td>15</td>\n",
       "      <td>168</td>\n",
       "      <td>4.666667</td>\n",
       "      <td>157.611545</td>\n",
       "      <td>4.378098</td>\n",
       "    </tr>\n",
       "    <tr>\n",
       "      <th>7</th>\n",
       "      <td>Coady</td>\n",
       "      <td>0</td>\n",
       "      <td>0</td>\n",
       "      <td>3240</td>\n",
       "      <td>2</td>\n",
       "      <td>12</td>\n",
       "      <td>116</td>\n",
       "      <td>3.222222</td>\n",
       "      <td>108.977199</td>\n",
       "      <td>3.027144</td>\n",
       "    </tr>\n",
       "    <tr>\n",
       "      <th>8</th>\n",
       "      <td>Rico</td>\n",
       "      <td>0</td>\n",
       "      <td>3</td>\n",
       "      <td>2242</td>\n",
       "      <td>2</td>\n",
       "      <td>6</td>\n",
       "      <td>77</td>\n",
       "      <td>3.090990</td>\n",
       "      <td>73.016333</td>\n",
       "      <td>2.931075</td>\n",
       "    </tr>\n",
       "    <tr>\n",
       "      <th>9</th>\n",
       "      <td>Cahill</td>\n",
       "      <td>0</td>\n",
       "      <td>1</td>\n",
       "      <td>2167</td>\n",
       "      <td>2</td>\n",
       "      <td>7</td>\n",
       "      <td>70</td>\n",
       "      <td>2.907245</td>\n",
       "      <td>70.813559</td>\n",
       "      <td>2.941034</td>\n",
       "    </tr>\n",
       "    <tr>\n",
       "      <th>10</th>\n",
       "      <td>Pogba</td>\n",
       "      <td>1</td>\n",
       "      <td>3</td>\n",
       "      <td>1024</td>\n",
       "      <td>3</td>\n",
       "      <td>5</td>\n",
       "      <td>47</td>\n",
       "      <td>4.130859</td>\n",
       "      <td>48.380966</td>\n",
       "      <td>4.252233</td>\n",
       "    </tr>\n",
       "    <tr>\n",
       "      <th>11</th>\n",
       "      <td>Fabinho</td>\n",
       "      <td>2</td>\n",
       "      <td>3</td>\n",
       "      <td>1989</td>\n",
       "      <td>3</td>\n",
       "      <td>8</td>\n",
       "      <td>75</td>\n",
       "      <td>3.393665</td>\n",
       "      <td>80.106596</td>\n",
       "      <td>3.624733</td>\n",
       "    </tr>\n",
       "    <tr>\n",
       "      <th>12</th>\n",
       "      <td>Jorginho</td>\n",
       "      <td>4</td>\n",
       "      <td>2</td>\n",
       "      <td>2202</td>\n",
       "      <td>3</td>\n",
       "      <td>5</td>\n",
       "      <td>87</td>\n",
       "      <td>3.555858</td>\n",
       "      <td>86.536106</td>\n",
       "      <td>3.536898</td>\n",
       "    </tr>\n",
       "    <tr>\n",
       "      <th>13</th>\n",
       "      <td>Winks</td>\n",
       "      <td>0</td>\n",
       "      <td>0</td>\n",
       "      <td>2131</td>\n",
       "      <td>3</td>\n",
       "      <td>7</td>\n",
       "      <td>50</td>\n",
       "      <td>2.111685</td>\n",
       "      <td>54.988350</td>\n",
       "      <td>2.322361</td>\n",
       "    </tr>\n",
       "    <tr>\n",
       "      <th>14</th>\n",
       "      <td>Grealish</td>\n",
       "      <td>7</td>\n",
       "      <td>6</td>\n",
       "      <td>3053</td>\n",
       "      <td>4</td>\n",
       "      <td>6</td>\n",
       "      <td>135</td>\n",
       "      <td>3.979692</td>\n",
       "      <td>147.986473</td>\n",
       "      <td>4.362523</td>\n",
       "    </tr>\n",
       "    <tr>\n",
       "      <th>15</th>\n",
       "      <td>Sterling</td>\n",
       "      <td>17</td>\n",
       "      <td>1</td>\n",
       "      <td>2498</td>\n",
       "      <td>4</td>\n",
       "      <td>10</td>\n",
       "      <td>179</td>\n",
       "      <td>6.449159</td>\n",
       "      <td>159.741361</td>\n",
       "      <td>5.755293</td>\n",
       "    </tr>\n",
       "    <tr>\n",
       "      <th>16</th>\n",
       "      <td>Pepe</td>\n",
       "      <td>5</td>\n",
       "      <td>6</td>\n",
       "      <td>1908</td>\n",
       "      <td>4</td>\n",
       "      <td>7</td>\n",
       "      <td>103</td>\n",
       "      <td>4.858491</td>\n",
       "      <td>105.731093</td>\n",
       "      <td>4.987316</td>\n",
       "    </tr>\n",
       "    <tr>\n",
       "      <th>17</th>\n",
       "      <td>Salah</td>\n",
       "      <td>19</td>\n",
       "      <td>9</td>\n",
       "      <td>2779</td>\n",
       "      <td>4</td>\n",
       "      <td>13</td>\n",
       "      <td>227</td>\n",
       "      <td>7.351565</td>\n",
       "      <td>224.682783</td>\n",
       "      <td>7.276521</td>\n",
       "    </tr>\n",
       "    <tr>\n",
       "      <th>18</th>\n",
       "      <td>Richarlison</td>\n",
       "      <td>12</td>\n",
       "      <td>3</td>\n",
       "      <td>2890</td>\n",
       "      <td>5</td>\n",
       "      <td>8</td>\n",
       "      <td>156</td>\n",
       "      <td>4.858131</td>\n",
       "      <td>141.912226</td>\n",
       "      <td>4.419412</td>\n",
       "    </tr>\n",
       "    <tr>\n",
       "      <th>19</th>\n",
       "      <td>Firmino</td>\n",
       "      <td>8</td>\n",
       "      <td>7</td>\n",
       "      <td>2875</td>\n",
       "      <td>5</td>\n",
       "      <td>15</td>\n",
       "      <td>143</td>\n",
       "      <td>4.476522</td>\n",
       "      <td>153.371046</td>\n",
       "      <td>4.801181</td>\n",
       "    </tr>\n",
       "    <tr>\n",
       "      <th>20</th>\n",
       "      <td>Solanke</td>\n",
       "      <td>2</td>\n",
       "      <td>1</td>\n",
       "      <td>1588</td>\n",
       "      <td>5</td>\n",
       "      <td>3</td>\n",
       "      <td>63</td>\n",
       "      <td>3.570529</td>\n",
       "      <td>57.344522</td>\n",
       "      <td>3.250004</td>\n",
       "    </tr>\n",
       "    <tr>\n",
       "      <th>21</th>\n",
       "      <td>Vardy</td>\n",
       "      <td>23</td>\n",
       "      <td>5</td>\n",
       "      <td>2943</td>\n",
       "      <td>5</td>\n",
       "      <td>12</td>\n",
       "      <td>209</td>\n",
       "      <td>6.391437</td>\n",
       "      <td>205.687039</td>\n",
       "      <td>6.290124</td>\n",
       "    </tr>\n",
       "  </tbody>\n",
       "</table>\n",
       "</div>"
      ],
      "text/plain": [
       "    player_name  goals_scored  assists  minutes  position_index  clean_sheets  \\\n",
       "0       Alisson             0        1     2363               1            13   \n",
       "1         Bravo             0        0      347               1             1   \n",
       "2        de Gea             0        0     3240               1            12   \n",
       "3     Caballero             0        0      360               1             0   \n",
       "4          Gunn             0        0      900               1             5   \n",
       "5          Pope             0        0     3330               1            15   \n",
       "6      van Dijk             4        1     3240               2            15   \n",
       "7         Coady             0        0     3240               2            12   \n",
       "8          Rico             0        3     2242               2             6   \n",
       "9        Cahill             0        1     2167               2             7   \n",
       "10        Pogba             1        3     1024               3             5   \n",
       "11      Fabinho             2        3     1989               3             8   \n",
       "12     Jorginho             4        2     2202               3             5   \n",
       "13        Winks             0        0     2131               3             7   \n",
       "14     Grealish             7        6     3053               4             6   \n",
       "15     Sterling            17        1     2498               4            10   \n",
       "16         Pepe             5        6     1908               4             7   \n",
       "17        Salah            19        9     2779               4            13   \n",
       "18  Richarlison            12        3     2890               5             8   \n",
       "19      Firmino             8        7     2875               5            15   \n",
       "20      Solanke             2        1     1588               5             3   \n",
       "21        Vardy            23        5     2943               5            12   \n",
       "\n",
       "    total_points  fpl_to_game  total_points_pred  fpl_to_game_pred  \n",
       "0            119     4.532374         124.208822          4.730763  \n",
       "1             11     2.853026          14.590990          3.784407  \n",
       "2            134     3.722222         141.064002          3.918445  \n",
       "3              7     1.750000           7.757785          1.939446  \n",
       "4             29     2.900000          49.258031          4.925803  \n",
       "5            169     4.567568         154.721039          4.181650  \n",
       "6            168     4.666667         157.611545          4.378098  \n",
       "7            116     3.222222         108.977199          3.027144  \n",
       "8             77     3.090990          73.016333          2.931075  \n",
       "9             70     2.907245          70.813559          2.941034  \n",
       "10            47     4.130859          48.380966          4.252233  \n",
       "11            75     3.393665          80.106596          3.624733  \n",
       "12            87     3.555858          86.536106          3.536898  \n",
       "13            50     2.111685          54.988350          2.322361  \n",
       "14           135     3.979692         147.986473          4.362523  \n",
       "15           179     6.449159         159.741361          5.755293  \n",
       "16           103     4.858491         105.731093          4.987316  \n",
       "17           227     7.351565         224.682783          7.276521  \n",
       "18           156     4.858131         141.912226          4.419412  \n",
       "19           143     4.476522         153.371046          4.801181  \n",
       "20            63     3.570529          57.344522          3.250004  \n",
       "21           209     6.391437         205.687039          6.290124  "
      ]
     },
     "execution_count": 32,
     "metadata": {},
     "output_type": "execute_result"
    }
   ],
   "source": [
    "fpl_t = fpl_test.copy()\n",
    "fpl_t['total_points_pred'] = fpl_testpred\n",
    "fpl_t['fpl_to_game_pred'] = (fpl_testpred/fpl_test['minutes'])*90\n",
    "fpl_t"
   ]
  }
 ],
 "metadata": {
  "kernelspec": {
   "display_name": "Python 3",
   "language": "python",
   "name": "python3"
  },
  "language_info": {
   "codemirror_mode": {
    "name": "ipython",
    "version": 3
   },
   "file_extension": ".py",
   "mimetype": "text/x-python",
   "name": "python",
   "nbconvert_exporter": "python",
   "pygments_lexer": "ipython3",
   "version": "3.6.3"
  }
 },
 "nbformat": 4,
 "nbformat_minor": 2
}
