{
 "cells": [
  {
   "cell_type": "markdown",
   "metadata": {},
   "source": [
    "# FPL Points Predictor Modeling II"
   ]
  },
  {
   "cell_type": "markdown",
   "metadata": {},
   "source": [
    "### Package Installments"
   ]
  },
  {
   "cell_type": "code",
   "execution_count": 1,
   "metadata": {
    "collapsed": true
   },
   "outputs": [],
   "source": [
    "import pandas as pd\n",
    "import numpy as np\n",
    "import seaborn as sns; sns.set(style = \"ticks\")\n",
    "import matplotlib.pyplot as plt\n",
    "from scipy.interpolate import make_interp_spline\n",
    "%matplotlib inline"
   ]
  },
  {
   "cell_type": "code",
   "execution_count": 2,
   "metadata": {},
   "outputs": [
    {
     "name": "stderr",
     "output_type": "stream",
     "text": [
      "/accre/arch/easybuild/software/BinDist/Anaconda3/5.0.1/lib/python3.6/site-packages/sklearn/cross_validation.py:41: DeprecationWarning: This module was deprecated in version 0.18 in favor of the model_selection module into which all the refactored classes and functions are moved. Also note that the interface of the new CV iterators are different from that of this module. This module will be removed in 0.20.\n",
      "  \"This module will be removed in 0.20.\", DeprecationWarning)\n",
      "/accre/arch/easybuild/software/BinDist/Anaconda3/5.0.1/lib/python3.6/site-packages/sklearn/learning_curve.py:22: DeprecationWarning: This module was deprecated in version 0.18 in favor of the model_selection module into which all the functions are moved. This module will be removed in 0.20\n",
      "  DeprecationWarning)\n"
     ]
    }
   ],
   "source": [
    "from sklearn.linear_model import LinearRegression\n",
    "from sklearn.pipeline import make_pipeline\n",
    "from sklearn.preprocessing import PolynomialFeatures\n",
    "from sklearn.metrics import r2_score\n",
    "from sklearn.cross_validation import cross_val_score\n",
    "from sklearn.learning_curve import validation_curve\n",
    "from sklearn.cross_validation import train_test_split"
   ]
  },
  {
   "cell_type": "markdown",
   "metadata": {},
   "source": [
    "### Useful functions"
   ]
  },
  {
   "cell_type": "code",
   "execution_count": 3,
   "metadata": {
    "collapsed": true
   },
   "outputs": [],
   "source": [
    "def best_degree(model, df_x,df_y):\n",
    "    degree = np.arange(10)\n",
    "    train_score, val_score = validation_curve(model, df_x, df_y, 'polynomialfeatures__degree', degree, cv = 5)\n",
    "    degree = pd.Series(degree)\n",
    "    train = pd.Series(np.median(train_score,1))\n",
    "    val = pd.Series(np.median(val_score,1))\n",
    "    record = pd.DataFrame({'degree': degree, 'train_score': train, 'val_score': val})\n",
    "    record_max = record.loc[record[['val_score']].idxmax(), 'degree']\n",
    "    record_max2 = record_max.reset_index(drop = True)\n",
    "    return record_max2[0]"
   ]
  },
  {
   "cell_type": "code",
   "execution_count": 4,
   "metadata": {
    "collapsed": true
   },
   "outputs": [],
   "source": [
    "def val_curve(model, df_x, df_y):\n",
    "    degree = np.arange(1,6)\n",
    "    train_score, val_score = validation_curve(model, df_x, df_y, 'polynomialfeatures__degree', degree, cv = 5)\n",
    "    best = best_degree(model,df_x,df_y)\n",
    "    deg = np.linspace(1,5,200)\n",
    "    smooth_train = make_interp_spline(degree, np.median(train_score,1))\n",
    "    smooth_val = make_interp_spline(degree, np.median(val_score, 1))\n",
    "    \n",
    "    \n",
    "    ##plt.plot(degree, np.median(train_score,1), color = 'blue', label = 'training curve')\n",
    "    ##plt.plot(degree, np.median(val_score,1), color = 'red', label = 'validation curve')\n",
    "    plt.plot(deg, smooth_train(deg), color = 'blue', label = 'training curve')\n",
    "    plt.plot(deg, smooth_val(deg), color = 'red', label = 'validation curve')\n",
    "    plt.scatter(best, np.max(np.median(val_score,1)), marker = 'x', color = 'black', label = 'max')\n",
    "    plt.legend(loc = 'best')\n",
    "    plt.xlabel('Degree')\n",
    "    plt.ylabel('Accuracy score')\n",
    "    plt.ylim(0,1);"
   ]
  },
  {
   "cell_type": "code",
   "execution_count": 5,
   "metadata": {
    "collapsed": true
   },
   "outputs": [],
   "source": [
    "def split_data(df_new, rand_state = 69):\n",
    "    df_x = df_new[['player_name','ict_index','bps', 'position_index','minutes']]\n",
    "    df_y = df_new['total_points']\n",
    "    df_xm = df_new[['ict_index','bps', 'position_index']]\n",
    "    df_xtrain, df_xtest, df_ytrain, df_ytest = train_test_split(df_x, df_y, random_state = rand_state, train_size = 0.8)\n",
    "    df_xtrain_new = df_xtrain[['ict_index','bps', 'position_index']]\n",
    "    df_xtest_new = df_xtest[['ict_index','bps', 'position_index']]\n",
    "    return (df_x, df_y, df_xm, df_xtrain, df_xtest, df_ytrain, df_ytest, df_xtrain_new, df_xtest_new)"
   ]
  },
  {
   "cell_type": "code",
   "execution_count": 6,
   "metadata": {
    "collapsed": true
   },
   "outputs": [],
   "source": [
    "def new_output(df_xtest,df_ytest, df_pred):\n",
    "    df_m = df_xtest.copy()\n",
    "    df_m['total_points'] = df_ytest\n",
    "    df_m['fpl_to_game'] = (df_m['total_points']/df_m['minutes'])*90\n",
    "    df_m['pred_points'] = df_pred\n",
    "    df_m['fpl_to_game pred'] = (df_m['pred_points']/df_m['minutes'])*90\n",
    "    df_m2 = df_m.reset_index()\n",
    "    df_m2 = df_m2.drop('index', axis = 1)\n",
    "    return df_m2.head()"
   ]
  },
  {
   "cell_type": "markdown",
   "metadata": {},
   "source": [
    "### Creating model"
   ]
  },
  {
   "cell_type": "code",
   "execution_count": 7,
   "metadata": {
    "collapsed": true
   },
   "outputs": [],
   "source": [
    "model = make_pipeline(PolynomialFeatures(), LinearRegression())"
   ]
  },
  {
   "cell_type": "markdown",
   "metadata": {},
   "source": [
    "## Premier League 2016/17"
   ]
  },
  {
   "cell_type": "code",
   "execution_count": 8,
   "metadata": {},
   "outputs": [],
   "source": [
    "s17 = pd.read_csv(\"~/DSI-SRP1/FPL_2016_17_new.csv\", encoding = \"latin1\")"
   ]
  },
  {
   "cell_type": "code",
   "execution_count": 9,
   "metadata": {},
   "outputs": [
    {
     "data": {
      "text/plain": [
       "(22065, 15)"
      ]
     },
     "execution_count": 9,
     "metadata": {},
     "output_type": "execute_result"
    }
   ],
   "source": [
    "s17.shape"
   ]
  },
  {
   "cell_type": "code",
   "execution_count": 10,
   "metadata": {
    "collapsed": true
   },
   "outputs": [],
   "source": [
    "s17 = s17.drop(\"Unnamed: 0\", axis = 1)"
   ]
  },
  {
   "cell_type": "code",
   "execution_count": 11,
   "metadata": {},
   "outputs": [
    {
     "data": {
      "text/plain": [
       "Index(['player_name', 'club_name', 'position', 'position_index',\n",
       "       'goals_scored', 'assists', 'ict_index', 'goals_conceded', 'minutes',\n",
       "       'own_goals', 'total_points', 'bps', 'clean_sheets', 'GW'],\n",
       "      dtype='object')"
      ]
     },
     "execution_count": 11,
     "metadata": {},
     "output_type": "execute_result"
    }
   ],
   "source": [
    "s17.columns"
   ]
  },
  {
   "cell_type": "code",
   "execution_count": 12,
   "metadata": {
    "collapsed": true
   },
   "outputs": [],
   "source": [
    "s17['fpl_to_game'] = (s17['total_points']/s17['minutes'])*90"
   ]
  },
  {
   "cell_type": "code",
   "execution_count": 13,
   "metadata": {},
   "outputs": [],
   "source": [
    "s17_x, s17_y, s17_xm, s17_xtrain, s17_xtest, s17_ytrain, s17_ytest, s17_xtrain_new, s17_xtest_new = split_data(s17)"
   ]
  },
  {
   "cell_type": "code",
   "execution_count": 14,
   "metadata": {},
   "outputs": [
    {
     "data": {
      "image/png": "[encoded data removed]",
      "text/plain": [
       "<matplotlib.figure.Figure at 0x2b7185e7e278>"
      ]
     },
     "metadata": {},
     "output_type": "display_data"
    }
   ],
   "source": [
    "val_curve(model, s17_xm, s17_y)"
   ]
  },
  {
   "cell_type": "code",
   "execution_count": 15,
   "metadata": {},
   "outputs": [],
   "source": [
    "model17 = make_pipeline(PolynomialFeatures(best_degree(model, s17_xm, s17_y)), LinearRegression())"
   ]
  },
  {
   "cell_type": "code",
   "execution_count": 16,
   "metadata": {},
   "outputs": [],
   "source": [
    "s17_pred = model17.fit(s17_xtrain_new, s17_ytrain).predict(s17_xtest_new)"
   ]
  },
  {
   "cell_type": "code",
   "execution_count": 17,
   "metadata": {},
   "outputs": [
    {
     "data": {
      "text/plain": [
       "0.97459282074645315"
      ]
     },
     "execution_count": 17,
     "metadata": {},
     "output_type": "execute_result"
    }
   ],
   "source": [
    "r2_score(s17_pred, s17_ytest)"
   ]
  },
  {
   "cell_type": "code",
   "execution_count": 18,
   "metadata": {},
   "outputs": [
    {
     "data": {
      "text/plain": [
       "array([ 0.92035483,  0.94953427,  0.96208132,  0.9682857 ,  0.96561703])"
      ]
     },
     "execution_count": 18,
     "metadata": {},
     "output_type": "execute_result"
    }
   ],
   "source": [
    "score17 = cross_val_score(model17, s17_xm, s17_y, cv = 5)\n",
    "score17"
   ]
  },
  {
   "cell_type": "code",
   "execution_count": 19,
   "metadata": {},
   "outputs": [
    {
     "data": {
      "text/plain": [
       "0.95317463079865106"
      ]
     },
     "execution_count": 19,
     "metadata": {},
     "output_type": "execute_result"
    }
   ],
   "source": [
    "score17.mean()"
   ]
  },
  {
   "cell_type": "code",
   "execution_count": 20,
   "metadata": {},
   "outputs": [
    {
     "data": {
      "text/html": [
       "<div>\n",
       "<style>\n",
       "    .dataframe thead tr:only-child th {\n",
       "        text-align: right;\n",
       "    }\n",
       "\n",
       "    .dataframe thead th {\n",
       "        text-align: left;\n",
       "    }\n",
       "\n",
       "    .dataframe tbody tr th {\n",
       "        vertical-align: top;\n",
       "    }\n",
       "</style>\n",
       "<table border=\"1\" class=\"dataframe\">\n",
       "  <thead>\n",
       "    <tr style=\"text-align: right;\">\n",
       "      <th></th>\n",
       "      <th>player_name</th>\n",
       "      <th>ict_index</th>\n",
       "      <th>bps</th>\n",
       "      <th>position_index</th>\n",
       "      <th>minutes</th>\n",
       "      <th>total_points</th>\n",
       "      <th>fpl_to_game</th>\n",
       "      <th>pred_points</th>\n",
       "      <th>fpl_to_game pred</th>\n",
       "    </tr>\n",
       "  </thead>\n",
       "  <tbody>\n",
       "    <tr>\n",
       "      <th>0</th>\n",
       "      <td>Marc Albrighton</td>\n",
       "      <td>113.9</td>\n",
       "      <td>376</td>\n",
       "      <td>3</td>\n",
       "      <td>1901</td>\n",
       "      <td>75</td>\n",
       "      <td>3.550763</td>\n",
       "      <td>75.844538</td>\n",
       "      <td>3.590746</td>\n",
       "    </tr>\n",
       "    <tr>\n",
       "      <th>1</th>\n",
       "      <td>Leighton Baines</td>\n",
       "      <td>128.3</td>\n",
       "      <td>593</td>\n",
       "      <td>2</td>\n",
       "      <td>2639</td>\n",
       "      <td>125</td>\n",
       "      <td>4.262978</td>\n",
       "      <td>111.867995</td>\n",
       "      <td>3.815127</td>\n",
       "    </tr>\n",
       "    <tr>\n",
       "      <th>2</th>\n",
       "      <td>Benik Afobe</td>\n",
       "      <td>42.3</td>\n",
       "      <td>59</td>\n",
       "      <td>5</td>\n",
       "      <td>390</td>\n",
       "      <td>27</td>\n",
       "      <td>6.230769</td>\n",
       "      <td>24.141704</td>\n",
       "      <td>5.571162</td>\n",
       "    </tr>\n",
       "    <tr>\n",
       "      <th>3</th>\n",
       "      <td>Fraser Forster</td>\n",
       "      <td>9.2</td>\n",
       "      <td>123</td>\n",
       "      <td>1</td>\n",
       "      <td>810</td>\n",
       "      <td>28</td>\n",
       "      <td>3.111111</td>\n",
       "      <td>27.167242</td>\n",
       "      <td>3.018582</td>\n",
       "    </tr>\n",
       "    <tr>\n",
       "      <th>4</th>\n",
       "      <td>Baily Cargill</td>\n",
       "      <td>0.4</td>\n",
       "      <td>5</td>\n",
       "      <td>2</td>\n",
       "      <td>13</td>\n",
       "      <td>1</td>\n",
       "      <td>6.923077</td>\n",
       "      <td>0.812030</td>\n",
       "      <td>5.621749</td>\n",
       "    </tr>\n",
       "  </tbody>\n",
       "</table>\n",
       "</div>"
      ],
      "text/plain": [
       "       player_name  ict_index  bps  position_index  minutes  total_points  \\\n",
       "0  Marc Albrighton      113.9  376               3     1901            75   \n",
       "1  Leighton Baines      128.3  593               2     2639           125   \n",
       "2      Benik Afobe       42.3   59               5      390            27   \n",
       "3   Fraser Forster        9.2  123               1      810            28   \n",
       "4    Baily Cargill        0.4    5               2       13             1   \n",
       "\n",
       "   fpl_to_game  pred_points  fpl_to_game pred  \n",
       "0     3.550763    75.844538          3.590746  \n",
       "1     4.262978   111.867995          3.815127  \n",
       "2     6.230769    24.141704          5.571162  \n",
       "3     3.111111    27.167242          3.018582  \n",
       "4     6.923077     0.812030          5.621749  "
      ]
     },
     "execution_count": 20,
     "metadata": {},
     "output_type": "execute_result"
    }
   ],
   "source": [
    "new_output(s17_xtest, s17_ytest, s17_pred)"
   ]
  },
  {
   "cell_type": "markdown",
   "metadata": {},
   "source": [
    "## Premier League 2017/18"
   ]
  },
  {
   "cell_type": "code",
   "execution_count": 21,
   "metadata": {
    "collapsed": true
   },
   "outputs": [],
   "source": [
    "s18 = pd.read_csv(\"~/DSI-SRP1/FPL_2017_18_new.csv\", encoding = \"latin1\")"
   ]
  },
  {
   "cell_type": "code",
   "execution_count": 22,
   "metadata": {},
   "outputs": [
    {
     "data": {
      "text/html": [
       "<div>\n",
       "<style>\n",
       "    .dataframe thead tr:only-child th {\n",
       "        text-align: right;\n",
       "    }\n",
       "\n",
       "    .dataframe thead th {\n",
       "        text-align: left;\n",
       "    }\n",
       "\n",
       "    .dataframe tbody tr th {\n",
       "        vertical-align: top;\n",
       "    }\n",
       "</style>\n",
       "<table border=\"1\" class=\"dataframe\">\n",
       "  <thead>\n",
       "    <tr style=\"text-align: right;\">\n",
       "      <th></th>\n",
       "      <th>Unnamed: 0</th>\n",
       "      <th>player_name</th>\n",
       "      <th>club_name</th>\n",
       "      <th>position</th>\n",
       "      <th>position_index</th>\n",
       "      <th>goals_scored</th>\n",
       "      <th>assists</th>\n",
       "      <th>ict_index</th>\n",
       "      <th>goals_conceded</th>\n",
       "      <th>minutes</th>\n",
       "      <th>own_goals</th>\n",
       "      <th>total_points</th>\n",
       "      <th>bps</th>\n",
       "      <th>clean_sheets</th>\n",
       "      <th>GW</th>\n",
       "    </tr>\n",
       "  </thead>\n",
       "  <tbody>\n",
       "    <tr>\n",
       "      <th>0</th>\n",
       "      <td>1</td>\n",
       "      <td>Aaron Cresswell</td>\n",
       "      <td>West Ham United</td>\n",
       "      <td>Left-Back</td>\n",
       "      <td>2</td>\n",
       "      <td>0</td>\n",
       "      <td>0</td>\n",
       "      <td>1.9</td>\n",
       "      <td>2</td>\n",
       "      <td>9</td>\n",
       "      <td>0</td>\n",
       "      <td>0</td>\n",
       "      <td>3</td>\n",
       "      <td>0</td>\n",
       "      <td>1</td>\n",
       "    </tr>\n",
       "    <tr>\n",
       "      <th>1</th>\n",
       "      <td>2</td>\n",
       "      <td>Aaron Lennon</td>\n",
       "      <td>Everton FC</td>\n",
       "      <td>Right Winger</td>\n",
       "      <td>4</td>\n",
       "      <td>0</td>\n",
       "      <td>0</td>\n",
       "      <td>0.0</td>\n",
       "      <td>0</td>\n",
       "      <td>0</td>\n",
       "      <td>0</td>\n",
       "      <td>0</td>\n",
       "      <td>0</td>\n",
       "      <td>0</td>\n",
       "      <td>1</td>\n",
       "    </tr>\n",
       "    <tr>\n",
       "      <th>2</th>\n",
       "      <td>3</td>\n",
       "      <td>Aaron Lennon</td>\n",
       "      <td>Burnley FC</td>\n",
       "      <td>Right Winger</td>\n",
       "      <td>4</td>\n",
       "      <td>0</td>\n",
       "      <td>0</td>\n",
       "      <td>0.0</td>\n",
       "      <td>0</td>\n",
       "      <td>0</td>\n",
       "      <td>0</td>\n",
       "      <td>0</td>\n",
       "      <td>0</td>\n",
       "      <td>0</td>\n",
       "      <td>2</td>\n",
       "    </tr>\n",
       "    <tr>\n",
       "      <th>3</th>\n",
       "      <td>4</td>\n",
       "      <td>Aaron Mooy</td>\n",
       "      <td>Huddersfield Town</td>\n",
       "      <td>Central Midfield</td>\n",
       "      <td>3</td>\n",
       "      <td>0</td>\n",
       "      <td>1</td>\n",
       "      <td>8.7</td>\n",
       "      <td>0</td>\n",
       "      <td>90</td>\n",
       "      <td>0</td>\n",
       "      <td>6</td>\n",
       "      <td>22</td>\n",
       "      <td>1</td>\n",
       "      <td>1</td>\n",
       "    </tr>\n",
       "    <tr>\n",
       "      <th>4</th>\n",
       "      <td>5</td>\n",
       "      <td>Aaron Ramsey</td>\n",
       "      <td>Arsenal FC</td>\n",
       "      <td>Central Midfield</td>\n",
       "      <td>3</td>\n",
       "      <td>1</td>\n",
       "      <td>0</td>\n",
       "      <td>6.7</td>\n",
       "      <td>0</td>\n",
       "      <td>23</td>\n",
       "      <td>0</td>\n",
       "      <td>6</td>\n",
       "      <td>16</td>\n",
       "      <td>0</td>\n",
       "      <td>1</td>\n",
       "    </tr>\n",
       "  </tbody>\n",
       "</table>\n",
       "</div>"
      ],
      "text/plain": [
       "   Unnamed: 0      player_name          club_name          position  \\\n",
       "0           1  Aaron Cresswell    West Ham United         Left-Back   \n",
       "1           2     Aaron Lennon         Everton FC      Right Winger   \n",
       "2           3     Aaron Lennon         Burnley FC      Right Winger   \n",
       "3           4       Aaron Mooy  Huddersfield Town  Central Midfield   \n",
       "4           5     Aaron Ramsey         Arsenal FC  Central Midfield   \n",
       "\n",
       "   position_index  goals_scored  assists  ict_index  goals_conceded  minutes  \\\n",
       "0               2             0        0        1.9               2        9   \n",
       "1               4             0        0        0.0               0        0   \n",
       "2               4             0        0        0.0               0        0   \n",
       "3               3             0        1        8.7               0       90   \n",
       "4               3             1        0        6.7               0       23   \n",
       "\n",
       "   own_goals  total_points  bps  clean_sheets  GW  \n",
       "0          0             0    3             0   1  \n",
       "1          0             0    0             0   1  \n",
       "2          0             0    0             0   2  \n",
       "3          0             6   22             1   1  \n",
       "4          0             6   16             0   1  "
      ]
     },
     "execution_count": 22,
     "metadata": {},
     "output_type": "execute_result"
    }
   ],
   "source": [
    "s18.head()"
   ]
  },
  {
   "cell_type": "code",
   "execution_count": 23,
   "metadata": {},
   "outputs": [],
   "source": [
    "s18 = s18.drop(\"Unnamed: 0\", axis = 1)"
   ]
  },
  {
   "cell_type": "code",
   "execution_count": 24,
   "metadata": {},
   "outputs": [
    {
     "data": {
      "text/plain": [
       "Index(['player_name', 'club_name', 'position', 'position_index',\n",
       "       'goals_scored', 'assists', 'ict_index', 'goals_conceded', 'minutes',\n",
       "       'own_goals', 'total_points', 'bps', 'clean_sheets', 'GW'],\n",
       "      dtype='object')"
      ]
     },
     "execution_count": 24,
     "metadata": {},
     "output_type": "execute_result"
    }
   ],
   "source": [
    "s18.columns"
   ]
  },
  {
   "cell_type": "code",
   "execution_count": 25,
   "metadata": {
    "collapsed": true
   },
   "outputs": [],
   "source": [
    "s18['fpl_to_game'] = (s18['total_points']/s18['minutes'])*90"
   ]
  },
  {
   "cell_type": "code",
   "execution_count": 26,
   "metadata": {
    "collapsed": true
   },
   "outputs": [],
   "source": [
    "s18_x, s18_y, s18_xm, s18_xtrain, s18_xtest, s18_ytrain, s18_ytest, s18_xtrain_new, s18_xtest_new = split_data(s18)"
   ]
  },
  {
   "cell_type": "code",
   "execution_count": 27,
   "metadata": {},
   "outputs": [
    {
     "data": {
      "image/png": "[encoded data removed]",
      "text/plain": [
       "<matplotlib.figure.Figure at 0x2b7186583908>"
      ]
     },
     "metadata": {},
     "output_type": "display_data"
    }
   ],
   "source": [
    "val_curve(model, s18_xm, s18_y)"
   ]
  },
  {
   "cell_type": "code",
   "execution_count": 28,
   "metadata": {},
   "outputs": [],
   "source": [
    "model18 = make_pipeline(PolynomialFeatures(best_degree(model, s18_xm, s18_y)), LinearRegression())"
   ]
  },
  {
   "cell_type": "code",
   "execution_count": 29,
   "metadata": {
    "collapsed": true
   },
   "outputs": [],
   "source": [
    "s18_pred = model18.fit(s18_xtrain_new, s18_ytrain).predict(s18_xtest_new)"
   ]
  },
  {
   "cell_type": "code",
   "execution_count": 30,
   "metadata": {},
   "outputs": [
    {
     "data": {
      "text/plain": [
       "0.96702015853241763"
      ]
     },
     "execution_count": 30,
     "metadata": {},
     "output_type": "execute_result"
    }
   ],
   "source": [
    "r2_score(s18_pred, s18_ytest)"
   ]
  },
  {
   "cell_type": "code",
   "execution_count": 31,
   "metadata": {},
   "outputs": [
    {
     "data": {
      "text/plain": [
       "array([ 0.91170721,  0.94448025,  0.95694722,  0.96419021,  0.96558743])"
      ]
     },
     "execution_count": 31,
     "metadata": {},
     "output_type": "execute_result"
    }
   ],
   "source": [
    "score18 = cross_val_score(model18, s18_xm, s18_y, cv = 5)\n",
    "score18"
   ]
  },
  {
   "cell_type": "code",
   "execution_count": 32,
   "metadata": {},
   "outputs": [
    {
     "data": {
      "text/plain": [
       "0.94858246339440933"
      ]
     },
     "execution_count": 32,
     "metadata": {},
     "output_type": "execute_result"
    }
   ],
   "source": [
    "score18.mean()"
   ]
  },
  {
   "cell_type": "code",
   "execution_count": 33,
   "metadata": {},
   "outputs": [
    {
     "data": {
      "text/html": [
       "<div>\n",
       "<style>\n",
       "    .dataframe thead tr:only-child th {\n",
       "        text-align: right;\n",
       "    }\n",
       "\n",
       "    .dataframe thead th {\n",
       "        text-align: left;\n",
       "    }\n",
       "\n",
       "    .dataframe tbody tr th {\n",
       "        vertical-align: top;\n",
       "    }\n",
       "</style>\n",
       "<table border=\"1\" class=\"dataframe\">\n",
       "  <thead>\n",
       "    <tr style=\"text-align: right;\">\n",
       "      <th></th>\n",
       "      <th>player_name</th>\n",
       "      <th>ict_index</th>\n",
       "      <th>bps</th>\n",
       "      <th>position_index</th>\n",
       "      <th>minutes</th>\n",
       "      <th>total_points</th>\n",
       "      <th>fpl_to_game</th>\n",
       "      <th>pred_points</th>\n",
       "      <th>fpl_to_game pred</th>\n",
       "    </tr>\n",
       "  </thead>\n",
       "  <tbody>\n",
       "    <tr>\n",
       "      <th>0</th>\n",
       "      <td>George Thomas</td>\n",
       "      <td>0.0</td>\n",
       "      <td>0</td>\n",
       "      <td>4</td>\n",
       "      <td>0</td>\n",
       "      <td>0</td>\n",
       "      <td>NaN</td>\n",
       "      <td>1.014428</td>\n",
       "      <td>inf</td>\n",
       "    </tr>\n",
       "    <tr>\n",
       "      <th>1</th>\n",
       "      <td>Phil Jones</td>\n",
       "      <td>47.5</td>\n",
       "      <td>489</td>\n",
       "      <td>2</td>\n",
       "      <td>1793</td>\n",
       "      <td>101</td>\n",
       "      <td>5.069716</td>\n",
       "      <td>91.252878</td>\n",
       "      <td>4.580457</td>\n",
       "    </tr>\n",
       "    <tr>\n",
       "      <th>2</th>\n",
       "      <td>Kyle Bartley</td>\n",
       "      <td>10.5</td>\n",
       "      <td>25</td>\n",
       "      <td>2</td>\n",
       "      <td>210</td>\n",
       "      <td>4</td>\n",
       "      <td>1.714286</td>\n",
       "      <td>4.371128</td>\n",
       "      <td>1.873340</td>\n",
       "    </tr>\n",
       "    <tr>\n",
       "      <th>3</th>\n",
       "      <td>Thibaut Courtois</td>\n",
       "      <td>27.4</td>\n",
       "      <td>326</td>\n",
       "      <td>1</td>\n",
       "      <td>1620</td>\n",
       "      <td>74</td>\n",
       "      <td>4.111111</td>\n",
       "      <td>66.933573</td>\n",
       "      <td>3.718532</td>\n",
       "    </tr>\n",
       "    <tr>\n",
       "      <th>4</th>\n",
       "      <td>Benik Afobe</td>\n",
       "      <td>16.9</td>\n",
       "      <td>55</td>\n",
       "      <td>5</td>\n",
       "      <td>374</td>\n",
       "      <td>18</td>\n",
       "      <td>4.331551</td>\n",
       "      <td>16.821478</td>\n",
       "      <td>4.047949</td>\n",
       "    </tr>\n",
       "  </tbody>\n",
       "</table>\n",
       "</div>"
      ],
      "text/plain": [
       "        player_name  ict_index  bps  position_index  minutes  total_points  \\\n",
       "0     George Thomas        0.0    0               4        0             0   \n",
       "1        Phil Jones       47.5  489               2     1793           101   \n",
       "2      Kyle Bartley       10.5   25               2      210             4   \n",
       "3  Thibaut Courtois       27.4  326               1     1620            74   \n",
       "4       Benik Afobe       16.9   55               5      374            18   \n",
       "\n",
       "   fpl_to_game  pred_points  fpl_to_game pred  \n",
       "0          NaN     1.014428               inf  \n",
       "1     5.069716    91.252878          4.580457  \n",
       "2     1.714286     4.371128          1.873340  \n",
       "3     4.111111    66.933573          3.718532  \n",
       "4     4.331551    16.821478          4.047949  "
      ]
     },
     "execution_count": 33,
     "metadata": {},
     "output_type": "execute_result"
    }
   ],
   "source": [
    "new_output(s18_xtest, s18_ytest, s18_pred)"
   ]
  },
  {
   "cell_type": "markdown",
   "metadata": {},
   "source": [
    "## Premier League 2018/19"
   ]
  },
  {
   "cell_type": "code",
   "execution_count": 34,
   "metadata": {
    "collapsed": true
   },
   "outputs": [],
   "source": [
    "s19 = pd.read_csv(\"~/DSI-SRP1/FPL_2018_19_new.csv\", encoding = \"latin1\")"
   ]
  },
  {
   "cell_type": "code",
   "execution_count": 35,
   "metadata": {},
   "outputs": [
    {
     "data": {
      "text/html": [
       "<div>\n",
       "<style>\n",
       "    .dataframe thead tr:only-child th {\n",
       "        text-align: right;\n",
       "    }\n",
       "\n",
       "    .dataframe thead th {\n",
       "        text-align: left;\n",
       "    }\n",
       "\n",
       "    .dataframe tbody tr th {\n",
       "        vertical-align: top;\n",
       "    }\n",
       "</style>\n",
       "<table border=\"1\" class=\"dataframe\">\n",
       "  <thead>\n",
       "    <tr style=\"text-align: right;\">\n",
       "      <th></th>\n",
       "      <th>Unnamed: 0</th>\n",
       "      <th>player_name</th>\n",
       "      <th>club_name</th>\n",
       "      <th>position</th>\n",
       "      <th>position_index</th>\n",
       "      <th>goals_scored</th>\n",
       "      <th>assists</th>\n",
       "      <th>ict_index</th>\n",
       "      <th>goals_conceded</th>\n",
       "      <th>minutes</th>\n",
       "      <th>own_goals</th>\n",
       "      <th>total_points</th>\n",
       "      <th>bps</th>\n",
       "      <th>clean_sheets</th>\n",
       "      <th>GW</th>\n",
       "    </tr>\n",
       "  </thead>\n",
       "  <tbody>\n",
       "    <tr>\n",
       "      <th>0</th>\n",
       "      <td>1</td>\n",
       "      <td>Aaron Cresswell</td>\n",
       "      <td>West Ham United</td>\n",
       "      <td>Left-Back</td>\n",
       "      <td>2</td>\n",
       "      <td>0</td>\n",
       "      <td>0</td>\n",
       "      <td>0.0</td>\n",
       "      <td>0</td>\n",
       "      <td>0</td>\n",
       "      <td>0</td>\n",
       "      <td>0</td>\n",
       "      <td>0</td>\n",
       "      <td>0</td>\n",
       "      <td>1</td>\n",
       "    </tr>\n",
       "    <tr>\n",
       "      <th>1</th>\n",
       "      <td>2</td>\n",
       "      <td>Aaron Lennon</td>\n",
       "      <td>Burnley FC</td>\n",
       "      <td>Right Winger</td>\n",
       "      <td>4</td>\n",
       "      <td>0</td>\n",
       "      <td>0</td>\n",
       "      <td>3.9</td>\n",
       "      <td>0</td>\n",
       "      <td>90</td>\n",
       "      <td>0</td>\n",
       "      <td>3</td>\n",
       "      <td>6</td>\n",
       "      <td>1</td>\n",
       "      <td>1</td>\n",
       "    </tr>\n",
       "    <tr>\n",
       "      <th>2</th>\n",
       "      <td>3</td>\n",
       "      <td>Aaron Mooy</td>\n",
       "      <td>Huddersfield Town</td>\n",
       "      <td>Central Midfield</td>\n",
       "      <td>3</td>\n",
       "      <td>0</td>\n",
       "      <td>0</td>\n",
       "      <td>3.8</td>\n",
       "      <td>3</td>\n",
       "      <td>90</td>\n",
       "      <td>0</td>\n",
       "      <td>2</td>\n",
       "      <td>24</td>\n",
       "      <td>0</td>\n",
       "      <td>1</td>\n",
       "    </tr>\n",
       "    <tr>\n",
       "      <th>3</th>\n",
       "      <td>4</td>\n",
       "      <td>Aaron Ramsey</td>\n",
       "      <td>Arsenal FC</td>\n",
       "      <td>Central Midfield</td>\n",
       "      <td>3</td>\n",
       "      <td>0</td>\n",
       "      <td>0</td>\n",
       "      <td>2.9</td>\n",
       "      <td>1</td>\n",
       "      <td>53</td>\n",
       "      <td>0</td>\n",
       "      <td>1</td>\n",
       "      <td>7</td>\n",
       "      <td>0</td>\n",
       "      <td>1</td>\n",
       "    </tr>\n",
       "    <tr>\n",
       "      <th>4</th>\n",
       "      <td>5</td>\n",
       "      <td>Aaron Wan-Bissaka</td>\n",
       "      <td>Crystal Palace</td>\n",
       "      <td>Right-Back</td>\n",
       "      <td>2</td>\n",
       "      <td>0</td>\n",
       "      <td>1</td>\n",
       "      <td>6.0</td>\n",
       "      <td>0</td>\n",
       "      <td>90</td>\n",
       "      <td>0</td>\n",
       "      <td>12</td>\n",
       "      <td>38</td>\n",
       "      <td>1</td>\n",
       "      <td>1</td>\n",
       "    </tr>\n",
       "  </tbody>\n",
       "</table>\n",
       "</div>"
      ],
      "text/plain": [
       "   Unnamed: 0        player_name          club_name          position  \\\n",
       "0           1    Aaron Cresswell    West Ham United         Left-Back   \n",
       "1           2       Aaron Lennon         Burnley FC      Right Winger   \n",
       "2           3         Aaron Mooy  Huddersfield Town  Central Midfield   \n",
       "3           4       Aaron Ramsey         Arsenal FC  Central Midfield   \n",
       "4           5  Aaron Wan-Bissaka     Crystal Palace        Right-Back   \n",
       "\n",
       "   position_index  goals_scored  assists  ict_index  goals_conceded  minutes  \\\n",
       "0               2             0        0        0.0               0        0   \n",
       "1               4             0        0        3.9               0       90   \n",
       "2               3             0        0        3.8               3       90   \n",
       "3               3             0        0        2.9               1       53   \n",
       "4               2             0        1        6.0               0       90   \n",
       "\n",
       "   own_goals  total_points  bps  clean_sheets  GW  \n",
       "0          0             0    0             0   1  \n",
       "1          0             3    6             1   1  \n",
       "2          0             2   24             0   1  \n",
       "3          0             1    7             0   1  \n",
       "4          0            12   38             1   1  "
      ]
     },
     "execution_count": 35,
     "metadata": {},
     "output_type": "execute_result"
    }
   ],
   "source": [
    "s19.head()"
   ]
  },
  {
   "cell_type": "code",
   "execution_count": 36,
   "metadata": {},
   "outputs": [],
   "source": [
    "s19 = s19.drop(\"Unnamed: 0\", axis = 1)"
   ]
  },
  {
   "cell_type": "code",
   "execution_count": 37,
   "metadata": {},
   "outputs": [
    {
     "data": {
      "text/plain": [
       "Index(['player_name', 'club_name', 'position', 'position_index',\n",
       "       'goals_scored', 'assists', 'ict_index', 'goals_conceded', 'minutes',\n",
       "       'own_goals', 'total_points', 'bps', 'clean_sheets', 'GW'],\n",
       "      dtype='object')"
      ]
     },
     "execution_count": 37,
     "metadata": {},
     "output_type": "execute_result"
    }
   ],
   "source": [
    "s19.columns"
   ]
  },
  {
   "cell_type": "code",
   "execution_count": 38,
   "metadata": {
    "collapsed": true
   },
   "outputs": [],
   "source": [
    "s19['fpl_to_game'] = (s19['total_points']/s19['minutes'])*90"
   ]
  },
  {
   "cell_type": "code",
   "execution_count": 39,
   "metadata": {
    "collapsed": true
   },
   "outputs": [],
   "source": [
    "s19_x, s19_y, s19_xm, s19_xtrain, s19_xtest, s19_ytrain, s19_ytest, s19_xtrain_new, s19_xtest_new = split_data(s19)"
   ]
  },
  {
   "cell_type": "code",
   "execution_count": 40,
   "metadata": {},
   "outputs": [
    {
     "data": {
      "image/png": "[encoded data removed]",
      "text/plain": [
       "<matplotlib.figure.Figure at 0x2b71865f79b0>"
      ]
     },
     "metadata": {},
     "output_type": "display_data"
    }
   ],
   "source": [
    "val_curve(model, s19_xm, s19_y)"
   ]
  },
  {
   "cell_type": "code",
   "execution_count": 41,
   "metadata": {
    "collapsed": true
   },
   "outputs": [],
   "source": [
    "model19 = make_pipeline(PolynomialFeatures(best_degree(model, s19_xm, s19_y)), LinearRegression())"
   ]
  },
  {
   "cell_type": "code",
   "execution_count": 42,
   "metadata": {
    "collapsed": true
   },
   "outputs": [],
   "source": [
    "s19_pred = model19.fit(s19_xtrain_new, s19_ytrain).predict(s19_xtest_new)"
   ]
  },
  {
   "cell_type": "code",
   "execution_count": 43,
   "metadata": {},
   "outputs": [
    {
     "data": {
      "text/plain": [
       "0.96213581075265153"
      ]
     },
     "execution_count": 43,
     "metadata": {},
     "output_type": "execute_result"
    }
   ],
   "source": [
    "r2_score(s19_pred, s19_ytest)"
   ]
  },
  {
   "cell_type": "code",
   "execution_count": 44,
   "metadata": {},
   "outputs": [
    {
     "data": {
      "text/plain": [
       "array([ 0.91807539,  0.93531681,  0.94968292,  0.95588932,  0.94951601])"
      ]
     },
     "execution_count": 44,
     "metadata": {},
     "output_type": "execute_result"
    }
   ],
   "source": [
    "score19 = cross_val_score(model19, s19_xm, s19_y, cv = 5)\n",
    "score19"
   ]
  },
  {
   "cell_type": "code",
   "execution_count": 45,
   "metadata": {},
   "outputs": [
    {
     "data": {
      "text/plain": [
       "0.94169608913171143"
      ]
     },
     "execution_count": 45,
     "metadata": {},
     "output_type": "execute_result"
    }
   ],
   "source": [
    "score19.mean()"
   ]
  },
  {
   "cell_type": "code",
   "execution_count": 46,
   "metadata": {},
   "outputs": [
    {
     "data": {
      "text/html": [
       "<div>\n",
       "<style>\n",
       "    .dataframe thead tr:only-child th {\n",
       "        text-align: right;\n",
       "    }\n",
       "\n",
       "    .dataframe thead th {\n",
       "        text-align: left;\n",
       "    }\n",
       "\n",
       "    .dataframe tbody tr th {\n",
       "        vertical-align: top;\n",
       "    }\n",
       "</style>\n",
       "<table border=\"1\" class=\"dataframe\">\n",
       "  <thead>\n",
       "    <tr style=\"text-align: right;\">\n",
       "      <th></th>\n",
       "      <th>player_name</th>\n",
       "      <th>ict_index</th>\n",
       "      <th>bps</th>\n",
       "      <th>position_index</th>\n",
       "      <th>minutes</th>\n",
       "      <th>total_points</th>\n",
       "      <th>fpl_to_game</th>\n",
       "      <th>pred_points</th>\n",
       "      <th>fpl_to_game pred</th>\n",
       "    </tr>\n",
       "  </thead>\n",
       "  <tbody>\n",
       "    <tr>\n",
       "      <th>0</th>\n",
       "      <td>Beram Kayal</td>\n",
       "      <td>31.4</td>\n",
       "      <td>124</td>\n",
       "      <td>3</td>\n",
       "      <td>792</td>\n",
       "      <td>31</td>\n",
       "      <td>3.522727</td>\n",
       "      <td>25.913106</td>\n",
       "      <td>2.944671</td>\n",
       "    </tr>\n",
       "    <tr>\n",
       "      <th>1</th>\n",
       "      <td>Victor Wanyama</td>\n",
       "      <td>5.1</td>\n",
       "      <td>25</td>\n",
       "      <td>3</td>\n",
       "      <td>147</td>\n",
       "      <td>6</td>\n",
       "      <td>3.673469</td>\n",
       "      <td>5.157790</td>\n",
       "      <td>3.157831</td>\n",
       "    </tr>\n",
       "    <tr>\n",
       "      <th>2</th>\n",
       "      <td>Victor Lindelöf</td>\n",
       "      <td>68.3</td>\n",
       "      <td>495</td>\n",
       "      <td>2</td>\n",
       "      <td>2428</td>\n",
       "      <td>81</td>\n",
       "      <td>3.002471</td>\n",
       "      <td>86.663729</td>\n",
       "      <td>3.212412</td>\n",
       "    </tr>\n",
       "    <tr>\n",
       "      <th>3</th>\n",
       "      <td>Marc Navarro</td>\n",
       "      <td>2.2</td>\n",
       "      <td>8</td>\n",
       "      <td>2</td>\n",
       "      <td>83</td>\n",
       "      <td>1</td>\n",
       "      <td>1.084337</td>\n",
       "      <td>0.205235</td>\n",
       "      <td>0.222544</td>\n",
       "    </tr>\n",
       "    <tr>\n",
       "      <th>4</th>\n",
       "      <td>Pedro Rodríguez Ledesma</td>\n",
       "      <td>85.0</td>\n",
       "      <td>233</td>\n",
       "      <td>4</td>\n",
       "      <td>805</td>\n",
       "      <td>68</td>\n",
       "      <td>7.602484</td>\n",
       "      <td>60.261204</td>\n",
       "      <td>6.737277</td>\n",
       "    </tr>\n",
       "  </tbody>\n",
       "</table>\n",
       "</div>"
      ],
      "text/plain": [
       "               player_name  ict_index  bps  position_index  minutes  \\\n",
       "0              Beram Kayal       31.4  124               3      792   \n",
       "1           Victor Wanyama        5.1   25               3      147   \n",
       "2          Victor Lindelöf       68.3  495               2     2428   \n",
       "3             Marc Navarro        2.2    8               2       83   \n",
       "4  Pedro Rodríguez Ledesma       85.0  233               4      805   \n",
       "\n",
       "   total_points  fpl_to_game  pred_points  fpl_to_game pred  \n",
       "0            31     3.522727    25.913106          2.944671  \n",
       "1             6     3.673469     5.157790          3.157831  \n",
       "2            81     3.002471    86.663729          3.212412  \n",
       "3             1     1.084337     0.205235          0.222544  \n",
       "4            68     7.602484    60.261204          6.737277  "
      ]
     },
     "execution_count": 46,
     "metadata": {},
     "output_type": "execute_result"
    }
   ],
   "source": [
    "new_output(s19_xtest, s19_ytest, s19_pred)"
   ]
  },
  {
   "cell_type": "markdown",
   "metadata": {},
   "source": [
    "## COMBINED SEASONS"
   ]
  },
  {
   "cell_type": "code",
   "execution_count": 47,
   "metadata": {
    "collapsed": true
   },
   "outputs": [],
   "source": [
    "scom = pd.concat([s17, s18, s19], axis = 0)"
   ]
  },
  {
   "cell_type": "code",
   "execution_count": 48,
   "metadata": {},
   "outputs": [
    {
     "data": {
      "text/html": [
       "<div>\n",
       "<style>\n",
       "    .dataframe thead tr:only-child th {\n",
       "        text-align: right;\n",
       "    }\n",
       "\n",
       "    .dataframe thead th {\n",
       "        text-align: left;\n",
       "    }\n",
       "\n",
       "    .dataframe tbody tr th {\n",
       "        vertical-align: top;\n",
       "    }\n",
       "</style>\n",
       "<table border=\"1\" class=\"dataframe\">\n",
       "  <thead>\n",
       "    <tr style=\"text-align: right;\">\n",
       "      <th></th>\n",
       "      <th>player_name</th>\n",
       "      <th>club_name</th>\n",
       "      <th>position</th>\n",
       "      <th>position_index</th>\n",
       "      <th>goals_scored</th>\n",
       "      <th>assists</th>\n",
       "      <th>ict_index</th>\n",
       "      <th>goals_conceded</th>\n",
       "      <th>minutes</th>\n",
       "      <th>own_goals</th>\n",
       "      <th>total_points</th>\n",
       "      <th>bps</th>\n",
       "      <th>clean_sheets</th>\n",
       "      <th>GW</th>\n",
       "      <th>fpl_to_game</th>\n",
       "    </tr>\n",
       "  </thead>\n",
       "  <tbody>\n",
       "    <tr>\n",
       "      <th>0</th>\n",
       "      <td>Aaron Cresswell</td>\n",
       "      <td>West Ham United</td>\n",
       "      <td>Left-Back</td>\n",
       "      <td>2</td>\n",
       "      <td>0</td>\n",
       "      <td>0</td>\n",
       "      <td>0.0</td>\n",
       "      <td>0</td>\n",
       "      <td>0</td>\n",
       "      <td>0</td>\n",
       "      <td>0</td>\n",
       "      <td>0</td>\n",
       "      <td>0</td>\n",
       "      <td>1</td>\n",
       "      <td>NaN</td>\n",
       "    </tr>\n",
       "    <tr>\n",
       "      <th>1</th>\n",
       "      <td>Aaron Lennon</td>\n",
       "      <td>Everton FC</td>\n",
       "      <td>Right Winger</td>\n",
       "      <td>4</td>\n",
       "      <td>0</td>\n",
       "      <td>0</td>\n",
       "      <td>0.9</td>\n",
       "      <td>0</td>\n",
       "      <td>15</td>\n",
       "      <td>0</td>\n",
       "      <td>1</td>\n",
       "      <td>6</td>\n",
       "      <td>0</td>\n",
       "      <td>1</td>\n",
       "      <td>6.0</td>\n",
       "    </tr>\n",
       "    <tr>\n",
       "      <th>2</th>\n",
       "      <td>Aaron Ramsey</td>\n",
       "      <td>Arsenal FC</td>\n",
       "      <td>Central Midfield</td>\n",
       "      <td>3</td>\n",
       "      <td>0</td>\n",
       "      <td>0</td>\n",
       "      <td>3.0</td>\n",
       "      <td>3</td>\n",
       "      <td>60</td>\n",
       "      <td>0</td>\n",
       "      <td>2</td>\n",
       "      <td>5</td>\n",
       "      <td>0</td>\n",
       "      <td>1</td>\n",
       "      <td>3.0</td>\n",
       "    </tr>\n",
       "    <tr>\n",
       "      <th>3</th>\n",
       "      <td>Abdoulaye Doucouré</td>\n",
       "      <td>Watford FC</td>\n",
       "      <td>Central Midfield</td>\n",
       "      <td>3</td>\n",
       "      <td>0</td>\n",
       "      <td>0</td>\n",
       "      <td>0.0</td>\n",
       "      <td>0</td>\n",
       "      <td>0</td>\n",
       "      <td>0</td>\n",
       "      <td>0</td>\n",
       "      <td>0</td>\n",
       "      <td>0</td>\n",
       "      <td>1</td>\n",
       "      <td>NaN</td>\n",
       "    </tr>\n",
       "    <tr>\n",
       "      <th>4</th>\n",
       "      <td>Abdul Rahman Baba</td>\n",
       "      <td>Chelsea FC</td>\n",
       "      <td>Left-Back</td>\n",
       "      <td>2</td>\n",
       "      <td>0</td>\n",
       "      <td>0</td>\n",
       "      <td>0.0</td>\n",
       "      <td>0</td>\n",
       "      <td>0</td>\n",
       "      <td>0</td>\n",
       "      <td>0</td>\n",
       "      <td>0</td>\n",
       "      <td>0</td>\n",
       "      <td>1</td>\n",
       "      <td>NaN</td>\n",
       "    </tr>\n",
       "  </tbody>\n",
       "</table>\n",
       "</div>"
      ],
      "text/plain": [
       "          player_name        club_name          position  position_index  \\\n",
       "0     Aaron Cresswell  West Ham United         Left-Back               2   \n",
       "1        Aaron Lennon       Everton FC      Right Winger               4   \n",
       "2        Aaron Ramsey       Arsenal FC  Central Midfield               3   \n",
       "3  Abdoulaye Doucouré       Watford FC  Central Midfield               3   \n",
       "4   Abdul Rahman Baba       Chelsea FC         Left-Back               2   \n",
       "\n",
       "   goals_scored  assists  ict_index  goals_conceded  minutes  own_goals  \\\n",
       "0             0        0        0.0               0        0          0   \n",
       "1             0        0        0.9               0       15          0   \n",
       "2             0        0        3.0               3       60          0   \n",
       "3             0        0        0.0               0        0          0   \n",
       "4             0        0        0.0               0        0          0   \n",
       "\n",
       "   total_points  bps  clean_sheets  GW  fpl_to_game  \n",
       "0             0    0             0   1          NaN  \n",
       "1             1    6             0   1          6.0  \n",
       "2             2    5             0   1          3.0  \n",
       "3             0    0             0   1          NaN  \n",
       "4             0    0             0   1          NaN  "
      ]
     },
     "execution_count": 48,
     "metadata": {},
     "output_type": "execute_result"
    }
   ],
   "source": [
    "scom.head()"
   ]
  },
  {
   "cell_type": "code",
   "execution_count": 49,
   "metadata": {},
   "outputs": [
    {
     "data": {
      "text/plain": [
       "(59230, 15)"
      ]
     },
     "execution_count": 49,
     "metadata": {},
     "output_type": "execute_result"
    }
   ],
   "source": [
    "scom.shape"
   ]
  },
  {
   "cell_type": "code",
   "execution_count": 50,
   "metadata": {
    "collapsed": true
   },
   "outputs": [],
   "source": [
    "scom_x, scom_y, scom_xm, scom_xtrain, scom_xtest, scom_ytrain, scom_ytest, scom_xtrain_new, scom_xtest_new = split_data(scom,10)"
   ]
  },
  {
   "cell_type": "code",
   "execution_count": 51,
   "metadata": {},
   "outputs": [
    {
     "data": {
      "image/png": "[encoded data removed]",
      "text/plain": [
       "<matplotlib.figure.Figure at 0x2b71864eb6d8>"
      ]
     },
     "metadata": {},
     "output_type": "display_data"
    }
   ],
   "source": [
    "val_curve(model, scom_xm, scom_y)"
   ]
  },
  {
   "cell_type": "code",
   "execution_count": 52,
   "metadata": {
    "collapsed": true
   },
   "outputs": [],
   "source": [
    "model_s = make_pipeline(PolynomialFeatures(best_degree(model, scom_xm, scom_y)), LinearRegression())"
   ]
  },
  {
   "cell_type": "code",
   "execution_count": 53,
   "metadata": {},
   "outputs": [],
   "source": [
    "scom_pred = model_s.fit(scom_xtrain_new, scom_ytrain).predict(scom_xtest_new)"
   ]
  },
  {
   "cell_type": "code",
   "execution_count": 54,
   "metadata": {},
   "outputs": [
    {
     "data": {
      "text/plain": [
       "0.96476121908148449"
      ]
     },
     "execution_count": 54,
     "metadata": {},
     "output_type": "execute_result"
    }
   ],
   "source": [
    "r2_score(scom_pred, scom_ytest)"
   ]
  },
  {
   "cell_type": "code",
   "execution_count": 55,
   "metadata": {},
   "outputs": [
    {
     "data": {
      "text/plain": [
       "array([ 0.95207044,  0.96688628,  0.95665   ,  0.96905393,  0.94901507])"
      ]
     },
     "execution_count": 55,
     "metadata": {},
     "output_type": "execute_result"
    }
   ],
   "source": [
    "score_com = cross_val_score(model_s, scom_xm, scom_y, cv = 5)\n",
    "score_com"
   ]
  },
  {
   "cell_type": "code",
   "execution_count": 56,
   "metadata": {},
   "outputs": [
    {
     "data": {
      "text/plain": [
       "0.95873514519035052"
      ]
     },
     "execution_count": 56,
     "metadata": {},
     "output_type": "execute_result"
    }
   ],
   "source": [
    "score_com.mean()"
   ]
  },
  {
   "cell_type": "code",
   "execution_count": 57,
   "metadata": {},
   "outputs": [
    {
     "data": {
      "text/html": [
       "<div>\n",
       "<style>\n",
       "    .dataframe thead tr:only-child th {\n",
       "        text-align: right;\n",
       "    }\n",
       "\n",
       "    .dataframe thead th {\n",
       "        text-align: left;\n",
       "    }\n",
       "\n",
       "    .dataframe tbody tr th {\n",
       "        vertical-align: top;\n",
       "    }\n",
       "</style>\n",
       "<table border=\"1\" class=\"dataframe\">\n",
       "  <thead>\n",
       "    <tr style=\"text-align: right;\">\n",
       "      <th></th>\n",
       "      <th>player_name</th>\n",
       "      <th>ict_index</th>\n",
       "      <th>bps</th>\n",
       "      <th>position_index</th>\n",
       "      <th>minutes</th>\n",
       "      <th>total_points</th>\n",
       "      <th>fpl_to_game</th>\n",
       "      <th>pred_points</th>\n",
       "      <th>fpl_to_game pred</th>\n",
       "    </tr>\n",
       "  </thead>\n",
       "  <tbody>\n",
       "    <tr>\n",
       "      <th>0</th>\n",
       "      <td>Anthony Martial</td>\n",
       "      <td>70.9</td>\n",
       "      <td>182</td>\n",
       "      <td>4</td>\n",
       "      <td>618</td>\n",
       "      <td>58</td>\n",
       "      <td>8.446602</td>\n",
       "      <td>47.619169</td>\n",
       "      <td>6.934830</td>\n",
       "    </tr>\n",
       "    <tr>\n",
       "      <th>1</th>\n",
       "      <td>Jason Lokilo</td>\n",
       "      <td>0.0</td>\n",
       "      <td>0</td>\n",
       "      <td>4</td>\n",
       "      <td>0</td>\n",
       "      <td>0</td>\n",
       "      <td>NaN</td>\n",
       "      <td>1.408013</td>\n",
       "      <td>inf</td>\n",
       "    </tr>\n",
       "    <tr>\n",
       "      <th>2</th>\n",
       "      <td>James Morrison</td>\n",
       "      <td>2.7</td>\n",
       "      <td>4</td>\n",
       "      <td>3</td>\n",
       "      <td>21</td>\n",
       "      <td>2</td>\n",
       "      <td>8.571429</td>\n",
       "      <td>1.452086</td>\n",
       "      <td>6.223227</td>\n",
       "    </tr>\n",
       "    <tr>\n",
       "      <th>3</th>\n",
       "      <td>Vincent Kompany</td>\n",
       "      <td>26.1</td>\n",
       "      <td>148</td>\n",
       "      <td>2</td>\n",
       "      <td>674</td>\n",
       "      <td>24</td>\n",
       "      <td>3.204748</td>\n",
       "      <td>25.392451</td>\n",
       "      <td>3.390683</td>\n",
       "    </tr>\n",
       "    <tr>\n",
       "      <th>4</th>\n",
       "      <td>Craig Cathcart</td>\n",
       "      <td>96.1</td>\n",
       "      <td>512</td>\n",
       "      <td>2</td>\n",
       "      <td>2834</td>\n",
       "      <td>91</td>\n",
       "      <td>2.889908</td>\n",
       "      <td>89.683833</td>\n",
       "      <td>2.848110</td>\n",
       "    </tr>\n",
       "  </tbody>\n",
       "</table>\n",
       "</div>"
      ],
      "text/plain": [
       "       player_name  ict_index  bps  position_index  minutes  total_points  \\\n",
       "0  Anthony Martial       70.9  182               4      618            58   \n",
       "1     Jason Lokilo        0.0    0               4        0             0   \n",
       "2   James Morrison        2.7    4               3       21             2   \n",
       "3  Vincent Kompany       26.1  148               2      674            24   \n",
       "4   Craig Cathcart       96.1  512               2     2834            91   \n",
       "\n",
       "   fpl_to_game  pred_points  fpl_to_game pred  \n",
       "0     8.446602    47.619169          6.934830  \n",
       "1          NaN     1.408013               inf  \n",
       "2     8.571429     1.452086          6.223227  \n",
       "3     3.204748    25.392451          3.390683  \n",
       "4     2.889908    89.683833          2.848110  "
      ]
     },
     "execution_count": 57,
     "metadata": {},
     "output_type": "execute_result"
    }
   ],
   "source": [
    "new_output(scom_xtest, scom_ytest, scom_pred)"
   ]
  },
  {
   "cell_type": "code",
   "execution_count": null,
   "metadata": {
    "collapsed": true
   },
   "outputs": [],
   "source": []
  }
 ],
 "metadata": {
  "kernelspec": {
   "display_name": "Python 3",
   "language": "python",
   "name": "python3"
  },
  "language_info": {
   "codemirror_mode": {
    "name": "ipython",
    "version": 3
   },
   "file_extension": ".py",
   "mimetype": "text/x-python",
   "name": "python",
   "nbconvert_exporter": "python",
   "pygments_lexer": "ipython3",
   "version": "3.6.3"
  }
 },
 "nbformat": 4,
 "nbformat_minor": 2
}
