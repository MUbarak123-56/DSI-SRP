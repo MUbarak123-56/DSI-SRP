{
 "cells": [
  {
   "cell_type": "markdown",
   "metadata": {},
   "source": [
    "# FPL Points Predictor Modeling"
   ]
  },
  {
   "cell_type": "markdown",
   "metadata": {},
   "source": [
    "### Package Installments"
   ]
  },
  {
   "cell_type": "code",
   "execution_count": 1,
   "metadata": {
    "collapsed": true
   },
   "outputs": [],
   "source": [
    "import numpy as np\n",
    "%matplotlib inline\n",
    "import matplotlib.pyplot as plt\n",
    "from scipy import interpolate\n",
    "import seaborn as sns; sns.set(style = 'ticks')"
   ]
  },
  {
   "cell_type": "code",
   "execution_count": 2,
   "metadata": {},
   "outputs": [
    {
     "name": "stderr",
     "output_type": "stream",
     "text": [
      "/accre/arch/easybuild/software/BinDist/Anaconda3/5.0.1/lib/python3.6/site-packages/sklearn/cross_validation.py:41: DeprecationWarning: This module was deprecated in version 0.18 in favor of the model_selection module into which all the refactored classes and functions are moved. Also note that the interface of the new CV iterators are different from that of this module. This module will be removed in 0.20.\n",
      "  \"This module will be removed in 0.20.\", DeprecationWarning)\n",
      "/accre/arch/easybuild/software/BinDist/Anaconda3/5.0.1/lib/python3.6/site-packages/sklearn/learning_curve.py:22: DeprecationWarning: This module was deprecated in version 0.18 in favor of the model_selection module into which all the functions are moved. This module will be removed in 0.20\n",
      "  DeprecationWarning)\n"
     ]
    }
   ],
   "source": [
    "from sklearn.linear_model import LinearRegression\n",
    "from sklearn.metrics import r2_score\n",
    "from sklearn.cross_validation import train_test_split\n",
    "from sklearn.cross_validation import cross_val_score\n",
    "from sklearn.preprocessing import PolynomialFeatures\n",
    "from sklearn.pipeline import make_pipeline\n",
    "from sklearn.learning_curve import validation_curve"
   ]
  },
  {
   "cell_type": "markdown",
   "metadata": {},
   "source": [
    "### Creating useful functions"
   ]
  },
  {
   "cell_type": "code",
   "execution_count": 3,
   "metadata": {
    "collapsed": true
   },
   "outputs": [],
   "source": [
    "def best_degree(model, df_x,df_y):\n",
    "    degree = np.arange(10)\n",
    "    train_score, val_score = validation_curve(model, df_x, df_y, 'polynomialfeatures__degree', degree, cv = 5)\n",
    "    degree = pd.Series(degree)\n",
    "    train = pd.Series(np.median(train_score,1))\n",
    "    val = pd.Series(np.median(val_score,1))\n",
    "    record = pd.DataFrame({'degree': degree, 'train_score': train, 'val_score': val})\n",
    "    record_max = record.loc[record[['val_score']].idxmax(), 'degree']\n",
    "    record_max2 = record_max.reset_index(drop = True)\n",
    "    return record_max2[0]"
   ]
  },
  {
   "cell_type": "code",
   "execution_count": 4,
   "metadata": {
    "collapsed": true
   },
   "outputs": [],
   "source": [
    "def val_curve(model, df_x, df_y):\n",
    "    degree = np.arange(5)\n",
    "    train_score, val_score = validation_curve(model, df_x, df_y, 'polynomialfeatures__degree', degree, cv = 5)\n",
    "    best = best_degree(model,df_x,df_y)\n",
    "    \n",
    "    plt.plot(degree, np.median(train_score,1), color = 'blue', label = 'training curve')\n",
    "    plt.plot(degree, np.median(val_score,1), color = 'red', label = 'validation curve')\n",
    "    plt.scatter(best, np.max(np.median(val_score,1)), marker = 'x', color = 'black', label = 'max')\n",
    "    plt.legend(loc = 'best')\n",
    "    plt.xlabel('Degree')\n",
    "    plt.ylabel('Accuracy score')\n",
    "    plt.ylim(0,1);"
   ]
  },
  {
   "cell_type": "code",
   "execution_count": 5,
   "metadata": {
    "collapsed": true
   },
   "outputs": [],
   "source": [
    "def split_data(df_new, rand_state = 69):\n",
    "    df_x = df_new[['player_name','ict_index','selected_by_percent','bps', 'position_index','minutes.played']]\n",
    "    df_y = df_new['total_points']\n",
    "    df_xm = df_new[['ict_index','bps', 'position_index']]\n",
    "    df_xtrain, df_xtest, df_ytrain, df_ytest = train_test_split(df_x, df_y, random_state = rand_state, train_size = 0.8)\n",
    "    df_xtrain_new = df_xtrain[['ict_index','bps', 'position_index']]\n",
    "    df_xtest_new = df_xtest[['ict_index','bps', 'position_index']]\n",
    "    return (df_x, df_y, df_xm, df_xtrain, df_xtest, df_ytrain, df_ytest, df_xtrain_new, df_xtest_new)"
   ]
  },
  {
   "cell_type": "code",
   "execution_count": 6,
   "metadata": {
    "collapsed": true
   },
   "outputs": [],
   "source": [
    "def new_output(df_xtest,df_ytest, df_pred):\n",
    "    df_m = df_xtest.copy()\n",
    "    df_m['total_points'] = df_ytest\n",
    "    df_m['fpl_to_game'] = (df_m['total_points']/df_m['minutes.played'])*90\n",
    "    df_m['pred_points'] = df_pred\n",
    "    df_m['fpl_to_game pred'] = (df_m['pred_points']/df_m['minutes.played'])*90\n",
    "    df_m2 = df_m.reset_index()\n",
    "    df_m2 = df_m2.drop('index', axis = 1)\n",
    "    return df_m2.head()"
   ]
  },
  {
   "cell_type": "markdown",
   "metadata": {},
   "source": [
    "## Premier League 2016/17"
   ]
  },
  {
   "cell_type": "code",
   "execution_count": 7,
   "metadata": {
    "collapsed": true
   },
   "outputs": [],
   "source": [
    "## Loading the datasets\n",
    "import pandas as pd\n",
    "s17 = pd.read_csv(\"~/DSI-SRP1/season2017.csv\")"
   ]
  },
  {
   "cell_type": "code",
   "execution_count": 8,
   "metadata": {},
   "outputs": [
    {
     "data": {
      "text/html": [
       "<div>\n",
       "<style>\n",
       "    .dataframe thead tr:only-child th {\n",
       "        text-align: right;\n",
       "    }\n",
       "\n",
       "    .dataframe thead th {\n",
       "        text-align: left;\n",
       "    }\n",
       "\n",
       "    .dataframe tbody tr th {\n",
       "        vertical-align: top;\n",
       "    }\n",
       "</style>\n",
       "<table border=\"1\" class=\"dataframe\">\n",
       "  <thead>\n",
       "    <tr style=\"text-align: right;\">\n",
       "      <th></th>\n",
       "      <th>Unnamed: 0</th>\n",
       "      <th>player_name</th>\n",
       "      <th>position</th>\n",
       "      <th>date_of_birth</th>\n",
       "      <th>age</th>\n",
       "      <th>nationality</th>\n",
       "      <th>club_name</th>\n",
       "      <th>league_name</th>\n",
       "      <th>season</th>\n",
       "      <th>year</th>\n",
       "      <th>...</th>\n",
       "      <th>threat</th>\n",
       "      <th>bonus</th>\n",
       "      <th>bps</th>\n",
       "      <th>ict_index</th>\n",
       "      <th>clean_sheets</th>\n",
       "      <th>red_cards</th>\n",
       "      <th>yellow_cards</th>\n",
       "      <th>selected_by_percent</th>\n",
       "      <th>position_index</th>\n",
       "      <th>fpl_to_game</th>\n",
       "    </tr>\n",
       "  </thead>\n",
       "  <tbody>\n",
       "    <tr>\n",
       "      <th>0</th>\n",
       "      <td>1</td>\n",
       "      <td>Joe Hart</td>\n",
       "      <td>Goalkeeper</td>\n",
       "      <td>1987-04-19T00:00:00Z</td>\n",
       "      <td>29</td>\n",
       "      <td>England</td>\n",
       "      <td>Manchester City</td>\n",
       "      <td>Premier League</td>\n",
       "      <td>2016/2017</td>\n",
       "      <td>2016</td>\n",
       "      <td>...</td>\n",
       "      <td>0</td>\n",
       "      <td>0</td>\n",
       "      <td>0</td>\n",
       "      <td>0.0</td>\n",
       "      <td>0</td>\n",
       "      <td>0</td>\n",
       "      <td>0</td>\n",
       "      <td>1.0</td>\n",
       "      <td>1</td>\n",
       "      <td>NaN</td>\n",
       "    </tr>\n",
       "    <tr>\n",
       "      <th>1</th>\n",
       "      <td>2</td>\n",
       "      <td>Claudio Bravo</td>\n",
       "      <td>Goalkeeper</td>\n",
       "      <td>1983-04-13T00:00:00Z</td>\n",
       "      <td>33</td>\n",
       "      <td>Chile</td>\n",
       "      <td>Manchester City</td>\n",
       "      <td>Premier League</td>\n",
       "      <td>2016/2017</td>\n",
       "      <td>2016</td>\n",
       "      <td>...</td>\n",
       "      <td>0</td>\n",
       "      <td>3</td>\n",
       "      <td>366</td>\n",
       "      <td>28.9</td>\n",
       "      <td>6</td>\n",
       "      <td>0</td>\n",
       "      <td>0</td>\n",
       "      <td>1.2</td>\n",
       "      <td>1</td>\n",
       "      <td>3.338415</td>\n",
       "    </tr>\n",
       "    <tr>\n",
       "      <th>2</th>\n",
       "      <td>3</td>\n",
       "      <td>Willy Caballero</td>\n",
       "      <td>Goalkeeper</td>\n",
       "      <td>1981-09-28T00:00:00Z</td>\n",
       "      <td>34</td>\n",
       "      <td>Argentina</td>\n",
       "      <td>Manchester City</td>\n",
       "      <td>Premier League</td>\n",
       "      <td>2016/2017</td>\n",
       "      <td>2016</td>\n",
       "      <td>...</td>\n",
       "      <td>0</td>\n",
       "      <td>1</td>\n",
       "      <td>295</td>\n",
       "      <td>26.8</td>\n",
       "      <td>6</td>\n",
       "      <td>0</td>\n",
       "      <td>0</td>\n",
       "      <td>3.8</td>\n",
       "      <td>1</td>\n",
       "      <td>3.966942</td>\n",
       "    </tr>\n",
       "    <tr>\n",
       "      <th>3</th>\n",
       "      <td>4</td>\n",
       "      <td>Angus Gunn</td>\n",
       "      <td>Goalkeeper</td>\n",
       "      <td>1996-01-22T00:00:00Z</td>\n",
       "      <td>20</td>\n",
       "      <td>England</td>\n",
       "      <td>Manchester City</td>\n",
       "      <td>Premier League</td>\n",
       "      <td>2016/2017</td>\n",
       "      <td>2016</td>\n",
       "      <td>...</td>\n",
       "      <td>0</td>\n",
       "      <td>0</td>\n",
       "      <td>0</td>\n",
       "      <td>0.0</td>\n",
       "      <td>0</td>\n",
       "      <td>0</td>\n",
       "      <td>0</td>\n",
       "      <td>0.0</td>\n",
       "      <td>1</td>\n",
       "      <td>NaN</td>\n",
       "    </tr>\n",
       "    <tr>\n",
       "      <th>4</th>\n",
       "      <td>5</td>\n",
       "      <td>Nicolás Otamendi</td>\n",
       "      <td>Centre-Back</td>\n",
       "      <td>1988-02-12T00:00:00Z</td>\n",
       "      <td>28</td>\n",
       "      <td>Argentina</td>\n",
       "      <td>Manchester City</td>\n",
       "      <td>Premier League</td>\n",
       "      <td>2016/2017</td>\n",
       "      <td>2016</td>\n",
       "      <td>...</td>\n",
       "      <td>276</td>\n",
       "      <td>10</td>\n",
       "      <td>640</td>\n",
       "      <td>117.6</td>\n",
       "      <td>9</td>\n",
       "      <td>0</td>\n",
       "      <td>9</td>\n",
       "      <td>3.2</td>\n",
       "      <td>2</td>\n",
       "      <td>3.472222</td>\n",
       "    </tr>\n",
       "  </tbody>\n",
       "</table>\n",
       "<p>5 rows × 29 columns</p>\n",
       "</div>"
      ],
      "text/plain": [
       "   Unnamed: 0       player_name     position         date_of_birth  age  \\\n",
       "0           1          Joe Hart   Goalkeeper  1987-04-19T00:00:00Z   29   \n",
       "1           2     Claudio Bravo   Goalkeeper  1983-04-13T00:00:00Z   33   \n",
       "2           3   Willy Caballero   Goalkeeper  1981-09-28T00:00:00Z   34   \n",
       "3           4        Angus Gunn   Goalkeeper  1996-01-22T00:00:00Z   20   \n",
       "4           5  Nicolás Otamendi  Centre-Back  1988-02-12T00:00:00Z   28   \n",
       "\n",
       "  nationality        club_name     league_name     season  year     ...       \\\n",
       "0     England  Manchester City  Premier League  2016/2017  2016     ...        \n",
       "1       Chile  Manchester City  Premier League  2016/2017  2016     ...        \n",
       "2   Argentina  Manchester City  Premier League  2016/2017  2016     ...        \n",
       "3     England  Manchester City  Premier League  2016/2017  2016     ...        \n",
       "4   Argentina  Manchester City  Premier League  2016/2017  2016     ...        \n",
       "\n",
       "  threat bonus  bps  ict_index  clean_sheets  red_cards  yellow_cards  \\\n",
       "0      0     0    0        0.0             0          0             0   \n",
       "1      0     3  366       28.9             6          0             0   \n",
       "2      0     1  295       26.8             6          0             0   \n",
       "3      0     0    0        0.0             0          0             0   \n",
       "4    276    10  640      117.6             9          0             9   \n",
       "\n",
       "   selected_by_percent  position_index  fpl_to_game  \n",
       "0                  1.0               1          NaN  \n",
       "1                  1.2               1     3.338415  \n",
       "2                  3.8               1     3.966942  \n",
       "3                  0.0               1          NaN  \n",
       "4                  3.2               2     3.472222  \n",
       "\n",
       "[5 rows x 29 columns]"
      ]
     },
     "execution_count": 8,
     "metadata": {},
     "output_type": "execute_result"
    }
   ],
   "source": [
    "s17.head()"
   ]
  },
  {
   "cell_type": "code",
   "execution_count": 9,
   "metadata": {
    "collapsed": true
   },
   "outputs": [],
   "source": [
    "s17 = s17.drop(\"Unnamed: 0\", axis = 1)"
   ]
  },
  {
   "cell_type": "code",
   "execution_count": 10,
   "metadata": {},
   "outputs": [
    {
     "data": {
      "text/plain": [
       "Index(['player_name', 'position', 'date_of_birth', 'age', 'nationality',\n",
       "       'club_name', 'league_name', 'season', 'year', 'first_name',\n",
       "       'second_name', 'goals_scored', 'assists', 'total_points',\n",
       "       'minutes.played', 'goals_conceded', 'creativity', 'influence', 'threat',\n",
       "       'bonus', 'bps', 'ict_index', 'clean_sheets', 'red_cards',\n",
       "       'yellow_cards', 'selected_by_percent', 'position_index', 'fpl_to_game'],\n",
       "      dtype='object')"
      ]
     },
     "execution_count": 10,
     "metadata": {},
     "output_type": "execute_result"
    }
   ],
   "source": [
    "s17.columns"
   ]
  },
  {
   "cell_type": "code",
   "execution_count": 11,
   "metadata": {
    "collapsed": true
   },
   "outputs": [],
   "source": [
    "s17_new = s17[['player_name','age', 'goals_scored','assists','total_points','minutes.played','bonus','bps','goals_conceded', 'clean_sheets','ict_index','position_index','fpl_to_game','selected_by_percent']]"
   ]
  },
  {
   "cell_type": "code",
   "execution_count": 12,
   "metadata": {},
   "outputs": [
    {
     "data": {
      "text/html": [
       "<div>\n",
       "<style>\n",
       "    .dataframe thead tr:only-child th {\n",
       "        text-align: right;\n",
       "    }\n",
       "\n",
       "    .dataframe thead th {\n",
       "        text-align: left;\n",
       "    }\n",
       "\n",
       "    .dataframe tbody tr th {\n",
       "        vertical-align: top;\n",
       "    }\n",
       "</style>\n",
       "<table border=\"1\" class=\"dataframe\">\n",
       "  <thead>\n",
       "    <tr style=\"text-align: right;\">\n",
       "      <th></th>\n",
       "      <th>player_name</th>\n",
       "      <th>age</th>\n",
       "      <th>goals_scored</th>\n",
       "      <th>assists</th>\n",
       "      <th>total_points</th>\n",
       "      <th>minutes.played</th>\n",
       "      <th>bonus</th>\n",
       "      <th>bps</th>\n",
       "      <th>goals_conceded</th>\n",
       "      <th>clean_sheets</th>\n",
       "      <th>ict_index</th>\n",
       "      <th>position_index</th>\n",
       "      <th>fpl_to_game</th>\n",
       "      <th>selected_by_percent</th>\n",
       "    </tr>\n",
       "  </thead>\n",
       "  <tbody>\n",
       "    <tr>\n",
       "      <th>0</th>\n",
       "      <td>Joe Hart</td>\n",
       "      <td>29</td>\n",
       "      <td>0</td>\n",
       "      <td>0</td>\n",
       "      <td>0</td>\n",
       "      <td>0</td>\n",
       "      <td>0</td>\n",
       "      <td>0</td>\n",
       "      <td>0</td>\n",
       "      <td>0</td>\n",
       "      <td>0.0</td>\n",
       "      <td>1</td>\n",
       "      <td>NaN</td>\n",
       "      <td>1.0</td>\n",
       "    </tr>\n",
       "    <tr>\n",
       "      <th>1</th>\n",
       "      <td>Claudio Bravo</td>\n",
       "      <td>33</td>\n",
       "      <td>0</td>\n",
       "      <td>0</td>\n",
       "      <td>73</td>\n",
       "      <td>1968</td>\n",
       "      <td>3</td>\n",
       "      <td>366</td>\n",
       "      <td>26</td>\n",
       "      <td>6</td>\n",
       "      <td>28.9</td>\n",
       "      <td>1</td>\n",
       "      <td>3.338415</td>\n",
       "      <td>1.2</td>\n",
       "    </tr>\n",
       "    <tr>\n",
       "      <th>2</th>\n",
       "      <td>Willy Caballero</td>\n",
       "      <td>34</td>\n",
       "      <td>0</td>\n",
       "      <td>0</td>\n",
       "      <td>64</td>\n",
       "      <td>1452</td>\n",
       "      <td>1</td>\n",
       "      <td>295</td>\n",
       "      <td>13</td>\n",
       "      <td>6</td>\n",
       "      <td>26.8</td>\n",
       "      <td>1</td>\n",
       "      <td>3.966942</td>\n",
       "      <td>3.8</td>\n",
       "    </tr>\n",
       "    <tr>\n",
       "      <th>3</th>\n",
       "      <td>Angus Gunn</td>\n",
       "      <td>20</td>\n",
       "      <td>0</td>\n",
       "      <td>0</td>\n",
       "      <td>0</td>\n",
       "      <td>0</td>\n",
       "      <td>0</td>\n",
       "      <td>0</td>\n",
       "      <td>0</td>\n",
       "      <td>0</td>\n",
       "      <td>0.0</td>\n",
       "      <td>1</td>\n",
       "      <td>NaN</td>\n",
       "      <td>0.0</td>\n",
       "    </tr>\n",
       "    <tr>\n",
       "      <th>4</th>\n",
       "      <td>Nicolás Otamendi</td>\n",
       "      <td>28</td>\n",
       "      <td>1</td>\n",
       "      <td>2</td>\n",
       "      <td>100</td>\n",
       "      <td>2592</td>\n",
       "      <td>10</td>\n",
       "      <td>640</td>\n",
       "      <td>28</td>\n",
       "      <td>9</td>\n",
       "      <td>117.6</td>\n",
       "      <td>2</td>\n",
       "      <td>3.472222</td>\n",
       "      <td>3.2</td>\n",
       "    </tr>\n",
       "  </tbody>\n",
       "</table>\n",
       "</div>"
      ],
      "text/plain": [
       "        player_name  age  goals_scored  assists  total_points  minutes.played  \\\n",
       "0          Joe Hart   29             0        0             0               0   \n",
       "1     Claudio Bravo   33             0        0            73            1968   \n",
       "2   Willy Caballero   34             0        0            64            1452   \n",
       "3        Angus Gunn   20             0        0             0               0   \n",
       "4  Nicolás Otamendi   28             1        2           100            2592   \n",
       "\n",
       "   bonus  bps  goals_conceded  clean_sheets  ict_index  position_index  \\\n",
       "0      0    0               0             0        0.0               1   \n",
       "1      3  366              26             6       28.9               1   \n",
       "2      1  295              13             6       26.8               1   \n",
       "3      0    0               0             0        0.0               1   \n",
       "4     10  640              28             9      117.6               2   \n",
       "\n",
       "   fpl_to_game  selected_by_percent  \n",
       "0          NaN                  1.0  \n",
       "1     3.338415                  1.2  \n",
       "2     3.966942                  3.8  \n",
       "3          NaN                  0.0  \n",
       "4     3.472222                  3.2  "
      ]
     },
     "execution_count": 12,
     "metadata": {},
     "output_type": "execute_result"
    }
   ],
   "source": [
    "s17_new.head()"
   ]
  },
  {
   "cell_type": "code",
   "execution_count": 13,
   "metadata": {},
   "outputs": [
    {
     "data": {
      "text/html": [
       "<div>\n",
       "<style>\n",
       "    .dataframe thead tr:only-child th {\n",
       "        text-align: right;\n",
       "    }\n",
       "\n",
       "    .dataframe thead th {\n",
       "        text-align: left;\n",
       "    }\n",
       "\n",
       "    .dataframe tbody tr th {\n",
       "        vertical-align: top;\n",
       "    }\n",
       "</style>\n",
       "<table border=\"1\" class=\"dataframe\">\n",
       "  <thead>\n",
       "    <tr style=\"text-align: right;\">\n",
       "      <th></th>\n",
       "      <th>player_name</th>\n",
       "      <th>age</th>\n",
       "      <th>goals_scored</th>\n",
       "      <th>assists</th>\n",
       "      <th>total_points</th>\n",
       "      <th>minutes.played</th>\n",
       "      <th>bonus</th>\n",
       "      <th>bps</th>\n",
       "      <th>goals_conceded</th>\n",
       "      <th>clean_sheets</th>\n",
       "      <th>ict_index</th>\n",
       "      <th>position_index</th>\n",
       "      <th>fpl_to_game</th>\n",
       "      <th>selected_by_percent</th>\n",
       "    </tr>\n",
       "  </thead>\n",
       "  <tbody>\n",
       "    <tr>\n",
       "      <th>1</th>\n",
       "      <td>Claudio Bravo</td>\n",
       "      <td>33</td>\n",
       "      <td>0</td>\n",
       "      <td>0</td>\n",
       "      <td>73</td>\n",
       "      <td>1968</td>\n",
       "      <td>3</td>\n",
       "      <td>366</td>\n",
       "      <td>26</td>\n",
       "      <td>6</td>\n",
       "      <td>28.9</td>\n",
       "      <td>1</td>\n",
       "      <td>3.338415</td>\n",
       "      <td>1.2</td>\n",
       "    </tr>\n",
       "    <tr>\n",
       "      <th>2</th>\n",
       "      <td>Willy Caballero</td>\n",
       "      <td>34</td>\n",
       "      <td>0</td>\n",
       "      <td>0</td>\n",
       "      <td>64</td>\n",
       "      <td>1452</td>\n",
       "      <td>1</td>\n",
       "      <td>295</td>\n",
       "      <td>13</td>\n",
       "      <td>6</td>\n",
       "      <td>26.8</td>\n",
       "      <td>1</td>\n",
       "      <td>3.966942</td>\n",
       "      <td>3.8</td>\n",
       "    </tr>\n",
       "    <tr>\n",
       "      <th>4</th>\n",
       "      <td>Nicolás Otamendi</td>\n",
       "      <td>28</td>\n",
       "      <td>1</td>\n",
       "      <td>2</td>\n",
       "      <td>100</td>\n",
       "      <td>2592</td>\n",
       "      <td>10</td>\n",
       "      <td>640</td>\n",
       "      <td>28</td>\n",
       "      <td>9</td>\n",
       "      <td>117.6</td>\n",
       "      <td>2</td>\n",
       "      <td>3.472222</td>\n",
       "      <td>3.2</td>\n",
       "    </tr>\n",
       "    <tr>\n",
       "      <th>5</th>\n",
       "      <td>Vincent Kompany</td>\n",
       "      <td>30</td>\n",
       "      <td>3</td>\n",
       "      <td>0</td>\n",
       "      <td>57</td>\n",
       "      <td>820</td>\n",
       "      <td>6</td>\n",
       "      <td>227</td>\n",
       "      <td>6</td>\n",
       "      <td>5</td>\n",
       "      <td>40.6</td>\n",
       "      <td>2</td>\n",
       "      <td>6.256098</td>\n",
       "      <td>3.2</td>\n",
       "    </tr>\n",
       "    <tr>\n",
       "      <th>6</th>\n",
       "      <td>John Stones</td>\n",
       "      <td>22</td>\n",
       "      <td>0</td>\n",
       "      <td>0</td>\n",
       "      <td>59</td>\n",
       "      <td>2014</td>\n",
       "      <td>4</td>\n",
       "      <td>435</td>\n",
       "      <td>29</td>\n",
       "      <td>4</td>\n",
       "      <td>69.7</td>\n",
       "      <td>2</td>\n",
       "      <td>2.636544</td>\n",
       "      <td>13.3</td>\n",
       "    </tr>\n",
       "  </tbody>\n",
       "</table>\n",
       "</div>"
      ],
      "text/plain": [
       "        player_name  age  goals_scored  assists  total_points  minutes.played  \\\n",
       "1     Claudio Bravo   33             0        0            73            1968   \n",
       "2   Willy Caballero   34             0        0            64            1452   \n",
       "4  Nicolás Otamendi   28             1        2           100            2592   \n",
       "5   Vincent Kompany   30             3        0            57             820   \n",
       "6       John Stones   22             0        0            59            2014   \n",
       "\n",
       "   bonus  bps  goals_conceded  clean_sheets  ict_index  position_index  \\\n",
       "1      3  366              26             6       28.9               1   \n",
       "2      1  295              13             6       26.8               1   \n",
       "4     10  640              28             9      117.6               2   \n",
       "5      6  227               6             5       40.6               2   \n",
       "6      4  435              29             4       69.7               2   \n",
       "\n",
       "   fpl_to_game  selected_by_percent  \n",
       "1     3.338415                  1.2  \n",
       "2     3.966942                  3.8  \n",
       "4     3.472222                  3.2  \n",
       "5     6.256098                  3.2  \n",
       "6     2.636544                 13.3  "
      ]
     },
     "execution_count": 13,
     "metadata": {},
     "output_type": "execute_result"
    }
   ],
   "source": [
    "s17_new = s17_new.dropna(axis = 0)\n",
    "s17_new.head()"
   ]
  },
  {
   "cell_type": "code",
   "execution_count": 14,
   "metadata": {},
   "outputs": [
    {
     "data": {
      "text/plain": [
       "(509, 14)"
      ]
     },
     "execution_count": 14,
     "metadata": {},
     "output_type": "execute_result"
    }
   ],
   "source": [
    "s17_new.shape"
   ]
  },
  {
   "cell_type": "code",
   "execution_count": 15,
   "metadata": {
    "collapsed": true
   },
   "outputs": [],
   "source": [
    "s17_new = s17_new[s17_new['minutes.played'] >= 1000]"
   ]
  },
  {
   "cell_type": "code",
   "execution_count": 16,
   "metadata": {},
   "outputs": [
    {
     "data": {
      "text/plain": [
       "(306, 14)"
      ]
     },
     "execution_count": 16,
     "metadata": {},
     "output_type": "execute_result"
    }
   ],
   "source": [
    "s17_new.shape"
   ]
  },
  {
   "cell_type": "code",
   "execution_count": 17,
   "metadata": {},
   "outputs": [
    {
     "data": {
      "text/html": [
       "<div>\n",
       "<style>\n",
       "    .dataframe thead tr:only-child th {\n",
       "        text-align: right;\n",
       "    }\n",
       "\n",
       "    .dataframe thead th {\n",
       "        text-align: left;\n",
       "    }\n",
       "\n",
       "    .dataframe tbody tr th {\n",
       "        vertical-align: top;\n",
       "    }\n",
       "</style>\n",
       "<table border=\"1\" class=\"dataframe\">\n",
       "  <thead>\n",
       "    <tr style=\"text-align: right;\">\n",
       "      <th></th>\n",
       "      <th>age</th>\n",
       "      <th>goals_scored</th>\n",
       "      <th>assists</th>\n",
       "      <th>total_points</th>\n",
       "      <th>minutes.played</th>\n",
       "      <th>bonus</th>\n",
       "      <th>bps</th>\n",
       "      <th>goals_conceded</th>\n",
       "      <th>clean_sheets</th>\n",
       "      <th>ict_index</th>\n",
       "      <th>position_index</th>\n",
       "      <th>fpl_to_game</th>\n",
       "      <th>selected_by_percent</th>\n",
       "    </tr>\n",
       "  </thead>\n",
       "  <tbody>\n",
       "    <tr>\n",
       "      <th>age</th>\n",
       "      <td>1.000000</td>\n",
       "      <td>-0.062001</td>\n",
       "      <td>-0.138328</td>\n",
       "      <td>0.026845</td>\n",
       "      <td>0.164490</td>\n",
       "      <td>0.008326</td>\n",
       "      <td>0.126375</td>\n",
       "      <td>0.183158</td>\n",
       "      <td>-0.035646</td>\n",
       "      <td>-0.076781</td>\n",
       "      <td>-0.221448</td>\n",
       "      <td>-0.105725</td>\n",
       "      <td>0.017608</td>\n",
       "    </tr>\n",
       "    <tr>\n",
       "      <th>goals_scored</th>\n",
       "      <td>-0.062001</td>\n",
       "      <td>1.000000</td>\n",
       "      <td>0.498217</td>\n",
       "      <td>0.690349</td>\n",
       "      <td>0.205668</td>\n",
       "      <td>0.737272</td>\n",
       "      <td>0.328419</td>\n",
       "      <td>0.059197</td>\n",
       "      <td>0.253961</td>\n",
       "      <td>0.792224</td>\n",
       "      <td>0.591885</td>\n",
       "      <td>0.712509</td>\n",
       "      <td>0.557945</td>\n",
       "    </tr>\n",
       "    <tr>\n",
       "      <th>assists</th>\n",
       "      <td>-0.138328</td>\n",
       "      <td>0.498217</td>\n",
       "      <td>1.000000</td>\n",
       "      <td>0.592955</td>\n",
       "      <td>0.185481</td>\n",
       "      <td>0.575012</td>\n",
       "      <td>0.318877</td>\n",
       "      <td>-0.005387</td>\n",
       "      <td>0.287673</td>\n",
       "      <td>0.753690</td>\n",
       "      <td>0.455659</td>\n",
       "      <td>0.624787</td>\n",
       "      <td>0.326061</td>\n",
       "    </tr>\n",
       "    <tr>\n",
       "      <th>total_points</th>\n",
       "      <td>0.026845</td>\n",
       "      <td>0.690349</td>\n",
       "      <td>0.592955</td>\n",
       "      <td>1.000000</td>\n",
       "      <td>0.699145</td>\n",
       "      <td>0.852295</td>\n",
       "      <td>0.835442</td>\n",
       "      <td>0.261623</td>\n",
       "      <td>0.726936</td>\n",
       "      <td>0.823468</td>\n",
       "      <td>0.137526</td>\n",
       "      <td>0.678103</td>\n",
       "      <td>0.745726</td>\n",
       "    </tr>\n",
       "    <tr>\n",
       "      <th>minutes.played</th>\n",
       "      <td>0.164490</td>\n",
       "      <td>0.205668</td>\n",
       "      <td>0.185481</td>\n",
       "      <td>0.699145</td>\n",
       "      <td>1.000000</td>\n",
       "      <td>0.456435</td>\n",
       "      <td>0.863463</td>\n",
       "      <td>0.698862</td>\n",
       "      <td>0.659871</td>\n",
       "      <td>0.493835</td>\n",
       "      <td>-0.249949</td>\n",
       "      <td>-0.003630</td>\n",
       "      <td>0.458215</td>\n",
       "    </tr>\n",
       "    <tr>\n",
       "      <th>bonus</th>\n",
       "      <td>0.008326</td>\n",
       "      <td>0.737272</td>\n",
       "      <td>0.575012</td>\n",
       "      <td>0.852295</td>\n",
       "      <td>0.456435</td>\n",
       "      <td>1.000000</td>\n",
       "      <td>0.691082</td>\n",
       "      <td>0.150742</td>\n",
       "      <td>0.496172</td>\n",
       "      <td>0.788796</td>\n",
       "      <td>0.240012</td>\n",
       "      <td>0.691338</td>\n",
       "      <td>0.684229</td>\n",
       "    </tr>\n",
       "    <tr>\n",
       "      <th>bps</th>\n",
       "      <td>0.126375</td>\n",
       "      <td>0.328419</td>\n",
       "      <td>0.318877</td>\n",
       "      <td>0.835442</td>\n",
       "      <td>0.863463</td>\n",
       "      <td>0.691082</td>\n",
       "      <td>1.000000</td>\n",
       "      <td>0.433339</td>\n",
       "      <td>0.751429</td>\n",
       "      <td>0.579820</td>\n",
       "      <td>-0.285168</td>\n",
       "      <td>0.313055</td>\n",
       "      <td>0.608157</td>\n",
       "    </tr>\n",
       "    <tr>\n",
       "      <th>goals_conceded</th>\n",
       "      <td>0.183158</td>\n",
       "      <td>0.059197</td>\n",
       "      <td>-0.005387</td>\n",
       "      <td>0.261623</td>\n",
       "      <td>0.698862</td>\n",
       "      <td>0.150742</td>\n",
       "      <td>0.433339</td>\n",
       "      <td>1.000000</td>\n",
       "      <td>0.017626</td>\n",
       "      <td>0.220955</td>\n",
       "      <td>-0.180409</td>\n",
       "      <td>-0.312214</td>\n",
       "      <td>0.083222</td>\n",
       "    </tr>\n",
       "    <tr>\n",
       "      <th>clean_sheets</th>\n",
       "      <td>-0.035646</td>\n",
       "      <td>0.253961</td>\n",
       "      <td>0.287673</td>\n",
       "      <td>0.726936</td>\n",
       "      <td>0.659871</td>\n",
       "      <td>0.496172</td>\n",
       "      <td>0.751429</td>\n",
       "      <td>0.017626</td>\n",
       "      <td>1.000000</td>\n",
       "      <td>0.491772</td>\n",
       "      <td>-0.095959</td>\n",
       "      <td>0.355707</td>\n",
       "      <td>0.522137</td>\n",
       "    </tr>\n",
       "    <tr>\n",
       "      <th>ict_index</th>\n",
       "      <td>-0.076781</td>\n",
       "      <td>0.792224</td>\n",
       "      <td>0.753690</td>\n",
       "      <td>0.823468</td>\n",
       "      <td>0.493835</td>\n",
       "      <td>0.788796</td>\n",
       "      <td>0.579820</td>\n",
       "      <td>0.220955</td>\n",
       "      <td>0.491772</td>\n",
       "      <td>1.000000</td>\n",
       "      <td>0.470601</td>\n",
       "      <td>0.619445</td>\n",
       "      <td>0.556256</td>\n",
       "    </tr>\n",
       "    <tr>\n",
       "      <th>position_index</th>\n",
       "      <td>-0.221448</td>\n",
       "      <td>0.591885</td>\n",
       "      <td>0.455659</td>\n",
       "      <td>0.137526</td>\n",
       "      <td>-0.249949</td>\n",
       "      <td>0.240012</td>\n",
       "      <td>-0.285168</td>\n",
       "      <td>-0.180409</td>\n",
       "      <td>-0.095959</td>\n",
       "      <td>0.470601</td>\n",
       "      <td>1.000000</td>\n",
       "      <td>0.442779</td>\n",
       "      <td>0.032009</td>\n",
       "    </tr>\n",
       "    <tr>\n",
       "      <th>fpl_to_game</th>\n",
       "      <td>-0.105725</td>\n",
       "      <td>0.712509</td>\n",
       "      <td>0.624787</td>\n",
       "      <td>0.678103</td>\n",
       "      <td>-0.003630</td>\n",
       "      <td>0.691338</td>\n",
       "      <td>0.313055</td>\n",
       "      <td>-0.312214</td>\n",
       "      <td>0.355707</td>\n",
       "      <td>0.619445</td>\n",
       "      <td>0.442779</td>\n",
       "      <td>1.000000</td>\n",
       "      <td>0.496775</td>\n",
       "    </tr>\n",
       "    <tr>\n",
       "      <th>selected_by_percent</th>\n",
       "      <td>0.017608</td>\n",
       "      <td>0.557945</td>\n",
       "      <td>0.326061</td>\n",
       "      <td>0.745726</td>\n",
       "      <td>0.458215</td>\n",
       "      <td>0.684229</td>\n",
       "      <td>0.608157</td>\n",
       "      <td>0.083222</td>\n",
       "      <td>0.522137</td>\n",
       "      <td>0.556256</td>\n",
       "      <td>0.032009</td>\n",
       "      <td>0.496775</td>\n",
       "      <td>1.000000</td>\n",
       "    </tr>\n",
       "  </tbody>\n",
       "</table>\n",
       "</div>"
      ],
      "text/plain": [
       "                          age  goals_scored   assists  total_points  \\\n",
       "age                  1.000000     -0.062001 -0.138328      0.026845   \n",
       "goals_scored        -0.062001      1.000000  0.498217      0.690349   \n",
       "assists             -0.138328      0.498217  1.000000      0.592955   \n",
       "total_points         0.026845      0.690349  0.592955      1.000000   \n",
       "minutes.played       0.164490      0.205668  0.185481      0.699145   \n",
       "bonus                0.008326      0.737272  0.575012      0.852295   \n",
       "bps                  0.126375      0.328419  0.318877      0.835442   \n",
       "goals_conceded       0.183158      0.059197 -0.005387      0.261623   \n",
       "clean_sheets        -0.035646      0.253961  0.287673      0.726936   \n",
       "ict_index           -0.076781      0.792224  0.753690      0.823468   \n",
       "position_index      -0.221448      0.591885  0.455659      0.137526   \n",
       "fpl_to_game         -0.105725      0.712509  0.624787      0.678103   \n",
       "selected_by_percent  0.017608      0.557945  0.326061      0.745726   \n",
       "\n",
       "                     minutes.played     bonus       bps  goals_conceded  \\\n",
       "age                        0.164490  0.008326  0.126375        0.183158   \n",
       "goals_scored               0.205668  0.737272  0.328419        0.059197   \n",
       "assists                    0.185481  0.575012  0.318877       -0.005387   \n",
       "total_points               0.699145  0.852295  0.835442        0.261623   \n",
       "minutes.played             1.000000  0.456435  0.863463        0.698862   \n",
       "bonus                      0.456435  1.000000  0.691082        0.150742   \n",
       "bps                        0.863463  0.691082  1.000000        0.433339   \n",
       "goals_conceded             0.698862  0.150742  0.433339        1.000000   \n",
       "clean_sheets               0.659871  0.496172  0.751429        0.017626   \n",
       "ict_index                  0.493835  0.788796  0.579820        0.220955   \n",
       "position_index            -0.249949  0.240012 -0.285168       -0.180409   \n",
       "fpl_to_game               -0.003630  0.691338  0.313055       -0.312214   \n",
       "selected_by_percent        0.458215  0.684229  0.608157        0.083222   \n",
       "\n",
       "                     clean_sheets  ict_index  position_index  fpl_to_game  \\\n",
       "age                     -0.035646  -0.076781       -0.221448    -0.105725   \n",
       "goals_scored             0.253961   0.792224        0.591885     0.712509   \n",
       "assists                  0.287673   0.753690        0.455659     0.624787   \n",
       "total_points             0.726936   0.823468        0.137526     0.678103   \n",
       "minutes.played           0.659871   0.493835       -0.249949    -0.003630   \n",
       "bonus                    0.496172   0.788796        0.240012     0.691338   \n",
       "bps                      0.751429   0.579820       -0.285168     0.313055   \n",
       "goals_conceded           0.017626   0.220955       -0.180409    -0.312214   \n",
       "clean_sheets             1.000000   0.491772       -0.095959     0.355707   \n",
       "ict_index                0.491772   1.000000        0.470601     0.619445   \n",
       "position_index          -0.095959   0.470601        1.000000     0.442779   \n",
       "fpl_to_game              0.355707   0.619445        0.442779     1.000000   \n",
       "selected_by_percent      0.522137   0.556256        0.032009     0.496775   \n",
       "\n",
       "                     selected_by_percent  \n",
       "age                             0.017608  \n",
       "goals_scored                    0.557945  \n",
       "assists                         0.326061  \n",
       "total_points                    0.745726  \n",
       "minutes.played                  0.458215  \n",
       "bonus                           0.684229  \n",
       "bps                             0.608157  \n",
       "goals_conceded                  0.083222  \n",
       "clean_sheets                    0.522137  \n",
       "ict_index                       0.556256  \n",
       "position_index                  0.032009  \n",
       "fpl_to_game                     0.496775  \n",
       "selected_by_percent             1.000000  "
      ]
     },
     "execution_count": 17,
     "metadata": {},
     "output_type": "execute_result"
    }
   ],
   "source": [
    "s17_new.corr()"
   ]
  },
  {
   "cell_type": "code",
   "execution_count": 18,
   "metadata": {
    "collapsed": true
   },
   "outputs": [],
   "source": [
    "s17_x, s17_y, s17_xm, s17_xtrain, s17_xtest, s17_ytrain, s17_ytest, s17_xtrain_new, s17_xtest_new = split_data(s17_new,10)"
   ]
  },
  {
   "cell_type": "code",
   "execution_count": 19,
   "metadata": {
    "collapsed": true
   },
   "outputs": [],
   "source": [
    "model = make_pipeline(PolynomialFeatures(), LinearRegression())"
   ]
  },
  {
   "cell_type": "code",
   "execution_count": 20,
   "metadata": {},
   "outputs": [
    {
     "data": {
      "image/png": "[encoded data removed]",
      "text/plain": [
       "<matplotlib.figure.Figure at 0x2b5cc3903f28>"
      ]
     },
     "metadata": {},
     "output_type": "display_data"
    }
   ],
   "source": [
    "val_curve(model, s17_xm, s17_y)"
   ]
  },
  {
   "cell_type": "code",
   "execution_count": 21,
   "metadata": {
    "collapsed": true
   },
   "outputs": [],
   "source": [
    "model = make_pipeline(PolynomialFeatures(best_degree(model, s17_xm,s17_y)), LinearRegression())"
   ]
  },
  {
   "cell_type": "code",
   "execution_count": 22,
   "metadata": {
    "collapsed": true
   },
   "outputs": [],
   "source": [
    "s17_pred = model.fit(s17_xtrain_new,s17_ytrain).predict(s17_xtest_new)"
   ]
  },
  {
   "cell_type": "code",
   "execution_count": 23,
   "metadata": {},
   "outputs": [
    {
     "data": {
      "text/plain": [
       "0.90345595820197189"
      ]
     },
     "execution_count": 23,
     "metadata": {},
     "output_type": "execute_result"
    }
   ],
   "source": [
    "r2_score(s17_pred, s17_ytest)"
   ]
  },
  {
   "cell_type": "code",
   "execution_count": 24,
   "metadata": {},
   "outputs": [
    {
     "data": {
      "text/plain": [
       "array([ 0.87968526,  0.90750613,  0.88160648,  0.92853372,  0.82864091])"
      ]
     },
     "execution_count": 24,
     "metadata": {},
     "output_type": "execute_result"
    }
   ],
   "source": [
    "scores17 = cross_val_score(model,s17_xm,s17_y, cv = 5)\n",
    "scores17"
   ]
  },
  {
   "cell_type": "code",
   "execution_count": 25,
   "metadata": {},
   "outputs": [
    {
     "data": {
      "text/plain": [
       "0.88519450019901602"
      ]
     },
     "execution_count": 25,
     "metadata": {},
     "output_type": "execute_result"
    }
   ],
   "source": [
    "scores17.mean()"
   ]
  },
  {
   "cell_type": "code",
   "execution_count": 26,
   "metadata": {},
   "outputs": [
    {
     "data": {
      "text/html": [
       "<div>\n",
       "<style>\n",
       "    .dataframe thead tr:only-child th {\n",
       "        text-align: right;\n",
       "    }\n",
       "\n",
       "    .dataframe thead th {\n",
       "        text-align: left;\n",
       "    }\n",
       "\n",
       "    .dataframe tbody tr th {\n",
       "        vertical-align: top;\n",
       "    }\n",
       "</style>\n",
       "<table border=\"1\" class=\"dataframe\">\n",
       "  <thead>\n",
       "    <tr style=\"text-align: right;\">\n",
       "      <th></th>\n",
       "      <th>player_name</th>\n",
       "      <th>ict_index</th>\n",
       "      <th>selected_by_percent</th>\n",
       "      <th>bps</th>\n",
       "      <th>position_index</th>\n",
       "      <th>minutes.played</th>\n",
       "      <th>total_points</th>\n",
       "      <th>fpl_to_game</th>\n",
       "      <th>pred_points</th>\n",
       "      <th>fpl_to_game pred</th>\n",
       "    </tr>\n",
       "  </thead>\n",
       "  <tbody>\n",
       "    <tr>\n",
       "      <th>0</th>\n",
       "      <td>Winston Reid</td>\n",
       "      <td>104.0</td>\n",
       "      <td>2.4</td>\n",
       "      <td>622</td>\n",
       "      <td>2</td>\n",
       "      <td>2587</td>\n",
       "      <td>102</td>\n",
       "      <td>3.548512</td>\n",
       "      <td>107.003174</td>\n",
       "      <td>3.722569</td>\n",
       "    </tr>\n",
       "    <tr>\n",
       "      <th>1</th>\n",
       "      <td>Jack Wilshere</td>\n",
       "      <td>116.8</td>\n",
       "      <td>0.5</td>\n",
       "      <td>312</td>\n",
       "      <td>3</td>\n",
       "      <td>1950</td>\n",
       "      <td>61</td>\n",
       "      <td>2.815385</td>\n",
       "      <td>69.214621</td>\n",
       "      <td>3.194521</td>\n",
       "    </tr>\n",
       "    <tr>\n",
       "      <th>2</th>\n",
       "      <td>George Friend</td>\n",
       "      <td>82.0</td>\n",
       "      <td>1.8</td>\n",
       "      <td>371</td>\n",
       "      <td>2</td>\n",
       "      <td>1964</td>\n",
       "      <td>59</td>\n",
       "      <td>2.703666</td>\n",
       "      <td>64.521248</td>\n",
       "      <td>2.956676</td>\n",
       "    </tr>\n",
       "    <tr>\n",
       "      <th>3</th>\n",
       "      <td>Wayne Hennessey</td>\n",
       "      <td>63.2</td>\n",
       "      <td>3.1</td>\n",
       "      <td>497</td>\n",
       "      <td>1</td>\n",
       "      <td>2610</td>\n",
       "      <td>92</td>\n",
       "      <td>3.172414</td>\n",
       "      <td>95.266196</td>\n",
       "      <td>3.285041</td>\n",
       "    </tr>\n",
       "    <tr>\n",
       "      <th>4</th>\n",
       "      <td>Christian Fuchs</td>\n",
       "      <td>149.4</td>\n",
       "      <td>5.7</td>\n",
       "      <td>679</td>\n",
       "      <td>2</td>\n",
       "      <td>3103</td>\n",
       "      <td>104</td>\n",
       "      <td>3.016436</td>\n",
       "      <td>123.734960</td>\n",
       "      <td>3.588832</td>\n",
       "    </tr>\n",
       "  </tbody>\n",
       "</table>\n",
       "</div>"
      ],
      "text/plain": [
       "       player_name  ict_index  selected_by_percent  bps  position_index  \\\n",
       "0     Winston Reid      104.0                  2.4  622               2   \n",
       "1    Jack Wilshere      116.8                  0.5  312               3   \n",
       "2    George Friend       82.0                  1.8  371               2   \n",
       "3  Wayne Hennessey       63.2                  3.1  497               1   \n",
       "4  Christian Fuchs      149.4                  5.7  679               2   \n",
       "\n",
       "   minutes.played  total_points  fpl_to_game  pred_points  fpl_to_game pred  \n",
       "0            2587           102     3.548512   107.003174          3.722569  \n",
       "1            1950            61     2.815385    69.214621          3.194521  \n",
       "2            1964            59     2.703666    64.521248          2.956676  \n",
       "3            2610            92     3.172414    95.266196          3.285041  \n",
       "4            3103           104     3.016436   123.734960          3.588832  "
      ]
     },
     "execution_count": 26,
     "metadata": {},
     "output_type": "execute_result"
    }
   ],
   "source": [
    "new_output(s17_xtest,s17_ytest, s17_pred)"
   ]
  },
  {
   "cell_type": "markdown",
   "metadata": {
    "collapsed": true
   },
   "source": [
    "## Premier League 2017-18"
   ]
  },
  {
   "cell_type": "code",
   "execution_count": 27,
   "metadata": {
    "collapsed": true
   },
   "outputs": [],
   "source": [
    "## Loading the datasets\n",
    "s18 = pd.read_csv(\"~/DSI-SRP1/season2018.csv\")"
   ]
  },
  {
   "cell_type": "code",
   "execution_count": 28,
   "metadata": {},
   "outputs": [
    {
     "data": {
      "text/html": [
       "<div>\n",
       "<style>\n",
       "    .dataframe thead tr:only-child th {\n",
       "        text-align: right;\n",
       "    }\n",
       "\n",
       "    .dataframe thead th {\n",
       "        text-align: left;\n",
       "    }\n",
       "\n",
       "    .dataframe tbody tr th {\n",
       "        vertical-align: top;\n",
       "    }\n",
       "</style>\n",
       "<table border=\"1\" class=\"dataframe\">\n",
       "  <thead>\n",
       "    <tr style=\"text-align: right;\">\n",
       "      <th></th>\n",
       "      <th>Unnamed: 0</th>\n",
       "      <th>player_name</th>\n",
       "      <th>position</th>\n",
       "      <th>date_of_birth</th>\n",
       "      <th>age</th>\n",
       "      <th>nationality</th>\n",
       "      <th>club_name</th>\n",
       "      <th>league_name</th>\n",
       "      <th>season</th>\n",
       "      <th>year</th>\n",
       "      <th>...</th>\n",
       "      <th>bonus</th>\n",
       "      <th>bps</th>\n",
       "      <th>ict_index</th>\n",
       "      <th>clean_sheets</th>\n",
       "      <th>red_cards</th>\n",
       "      <th>yellow_cards</th>\n",
       "      <th>selected_by_percent</th>\n",
       "      <th>now_cost</th>\n",
       "      <th>position_index</th>\n",
       "      <th>fpl_to_game</th>\n",
       "    </tr>\n",
       "  </thead>\n",
       "  <tbody>\n",
       "    <tr>\n",
       "      <th>0</th>\n",
       "      <td>1</td>\n",
       "      <td>Thibaut Courtois</td>\n",
       "      <td>Goalkeeper</td>\n",
       "      <td>1992-05-11T00:00:00Z</td>\n",
       "      <td>25</td>\n",
       "      <td>Belgium</td>\n",
       "      <td>Chelsea FC</td>\n",
       "      <td>Premier League</td>\n",
       "      <td>2017/2018</td>\n",
       "      <td>2017</td>\n",
       "      <td>...</td>\n",
       "      <td>4</td>\n",
       "      <td>635</td>\n",
       "      <td>55.2</td>\n",
       "      <td>15</td>\n",
       "      <td>0</td>\n",
       "      <td>2</td>\n",
       "      <td>10.3</td>\n",
       "      <td>53</td>\n",
       "      <td>1</td>\n",
       "      <td>3.885714</td>\n",
       "    </tr>\n",
       "    <tr>\n",
       "      <th>1</th>\n",
       "      <td>2</td>\n",
       "      <td>Willy Caballero</td>\n",
       "      <td>Goalkeeper</td>\n",
       "      <td>1981-09-28T00:00:00Z</td>\n",
       "      <td>35</td>\n",
       "      <td>Argentina</td>\n",
       "      <td>Chelsea FC</td>\n",
       "      <td>Premier League</td>\n",
       "      <td>2017/2018</td>\n",
       "      <td>2017</td>\n",
       "      <td>...</td>\n",
       "      <td>0</td>\n",
       "      <td>54</td>\n",
       "      <td>5.5</td>\n",
       "      <td>1</td>\n",
       "      <td>0</td>\n",
       "      <td>0</td>\n",
       "      <td>0.1</td>\n",
       "      <td>48</td>\n",
       "      <td>1</td>\n",
       "      <td>3.666667</td>\n",
       "    </tr>\n",
       "    <tr>\n",
       "      <th>2</th>\n",
       "      <td>3</td>\n",
       "      <td>Antonio Rüdiger</td>\n",
       "      <td>Centre-Back</td>\n",
       "      <td>1993-03-03T00:00:00Z</td>\n",
       "      <td>24</td>\n",
       "      <td>Germany</td>\n",
       "      <td>Chelsea FC</td>\n",
       "      <td>Premier League</td>\n",
       "      <td>2017/2018</td>\n",
       "      <td>2017</td>\n",
       "      <td>...</td>\n",
       "      <td>8</td>\n",
       "      <td>557</td>\n",
       "      <td>84.8</td>\n",
       "      <td>12</td>\n",
       "      <td>0</td>\n",
       "      <td>4</td>\n",
       "      <td>3.3</td>\n",
       "      <td>58</td>\n",
       "      <td>2</td>\n",
       "      <td>4.430651</td>\n",
       "    </tr>\n",
       "    <tr>\n",
       "      <th>3</th>\n",
       "      <td>4</td>\n",
       "      <td>Andreas Christensen</td>\n",
       "      <td>Centre-Back</td>\n",
       "      <td>1996-04-10T00:00:00Z</td>\n",
       "      <td>21</td>\n",
       "      <td>Denmark</td>\n",
       "      <td>Chelsea FC</td>\n",
       "      <td>Premier League</td>\n",
       "      <td>2017/2018</td>\n",
       "      <td>2017</td>\n",
       "      <td>...</td>\n",
       "      <td>4</td>\n",
       "      <td>475</td>\n",
       "      <td>64.3</td>\n",
       "      <td>8</td>\n",
       "      <td>0</td>\n",
       "      <td>0</td>\n",
       "      <td>1.9</td>\n",
       "      <td>53</td>\n",
       "      <td>2</td>\n",
       "      <td>3.439768</td>\n",
       "    </tr>\n",
       "    <tr>\n",
       "      <th>4</th>\n",
       "      <td>5</td>\n",
       "      <td>Gary Cahill</td>\n",
       "      <td>Centre-Back</td>\n",
       "      <td>1985-12-19T00:00:00Z</td>\n",
       "      <td>31</td>\n",
       "      <td>England</td>\n",
       "      <td>Chelsea FC</td>\n",
       "      <td>Premier League</td>\n",
       "      <td>2017/2018</td>\n",
       "      <td>2017</td>\n",
       "      <td>...</td>\n",
       "      <td>2</td>\n",
       "      <td>447</td>\n",
       "      <td>65.4</td>\n",
       "      <td>9</td>\n",
       "      <td>1</td>\n",
       "      <td>1</td>\n",
       "      <td>3.0</td>\n",
       "      <td>62</td>\n",
       "      <td>2</td>\n",
       "      <td>3.198847</td>\n",
       "    </tr>\n",
       "  </tbody>\n",
       "</table>\n",
       "<p>5 rows × 30 columns</p>\n",
       "</div>"
      ],
      "text/plain": [
       "   Unnamed: 0          player_name     position         date_of_birth  age  \\\n",
       "0           1     Thibaut Courtois   Goalkeeper  1992-05-11T00:00:00Z   25   \n",
       "1           2      Willy Caballero   Goalkeeper  1981-09-28T00:00:00Z   35   \n",
       "2           3      Antonio Rüdiger  Centre-Back  1993-03-03T00:00:00Z   24   \n",
       "3           4  Andreas Christensen  Centre-Back  1996-04-10T00:00:00Z   21   \n",
       "4           5          Gary Cahill  Centre-Back  1985-12-19T00:00:00Z   31   \n",
       "\n",
       "  nationality   club_name     league_name     season  year     ...      bonus  \\\n",
       "0     Belgium  Chelsea FC  Premier League  2017/2018  2017     ...          4   \n",
       "1   Argentina  Chelsea FC  Premier League  2017/2018  2017     ...          0   \n",
       "2     Germany  Chelsea FC  Premier League  2017/2018  2017     ...          8   \n",
       "3     Denmark  Chelsea FC  Premier League  2017/2018  2017     ...          4   \n",
       "4     England  Chelsea FC  Premier League  2017/2018  2017     ...          2   \n",
       "\n",
       "   bps  ict_index  clean_sheets  red_cards  yellow_cards  selected_by_percent  \\\n",
       "0  635       55.2            15          0             2                 10.3   \n",
       "1   54        5.5             1          0             0                  0.1   \n",
       "2  557       84.8            12          0             4                  3.3   \n",
       "3  475       64.3             8          0             0                  1.9   \n",
       "4  447       65.4             9          1             1                  3.0   \n",
       "\n",
       "   now_cost  position_index  fpl_to_game  \n",
       "0        53               1     3.885714  \n",
       "1        48               1     3.666667  \n",
       "2        58               2     4.430651  \n",
       "3        53               2     3.439768  \n",
       "4        62               2     3.198847  \n",
       "\n",
       "[5 rows x 30 columns]"
      ]
     },
     "execution_count": 28,
     "metadata": {},
     "output_type": "execute_result"
    }
   ],
   "source": [
    "s18.head()"
   ]
  },
  {
   "cell_type": "code",
   "execution_count": 29,
   "metadata": {
    "collapsed": true
   },
   "outputs": [],
   "source": [
    "s18 = s18.drop(\"Unnamed: 0\", axis =1)"
   ]
  },
  {
   "cell_type": "code",
   "execution_count": 30,
   "metadata": {},
   "outputs": [
    {
     "data": {
      "text/html": [
       "<div>\n",
       "<style>\n",
       "    .dataframe thead tr:only-child th {\n",
       "        text-align: right;\n",
       "    }\n",
       "\n",
       "    .dataframe thead th {\n",
       "        text-align: left;\n",
       "    }\n",
       "\n",
       "    .dataframe tbody tr th {\n",
       "        vertical-align: top;\n",
       "    }\n",
       "</style>\n",
       "<table border=\"1\" class=\"dataframe\">\n",
       "  <thead>\n",
       "    <tr style=\"text-align: right;\">\n",
       "      <th></th>\n",
       "      <th>player_name</th>\n",
       "      <th>position</th>\n",
       "      <th>date_of_birth</th>\n",
       "      <th>age</th>\n",
       "      <th>nationality</th>\n",
       "      <th>club_name</th>\n",
       "      <th>league_name</th>\n",
       "      <th>season</th>\n",
       "      <th>year</th>\n",
       "      <th>first_name</th>\n",
       "      <th>...</th>\n",
       "      <th>bonus</th>\n",
       "      <th>bps</th>\n",
       "      <th>ict_index</th>\n",
       "      <th>clean_sheets</th>\n",
       "      <th>red_cards</th>\n",
       "      <th>yellow_cards</th>\n",
       "      <th>selected_by_percent</th>\n",
       "      <th>now_cost</th>\n",
       "      <th>position_index</th>\n",
       "      <th>fpl_to_game</th>\n",
       "    </tr>\n",
       "  </thead>\n",
       "  <tbody>\n",
       "    <tr>\n",
       "      <th>0</th>\n",
       "      <td>Thibaut Courtois</td>\n",
       "      <td>Goalkeeper</td>\n",
       "      <td>1992-05-11T00:00:00Z</td>\n",
       "      <td>25</td>\n",
       "      <td>Belgium</td>\n",
       "      <td>Chelsea FC</td>\n",
       "      <td>Premier League</td>\n",
       "      <td>2017/2018</td>\n",
       "      <td>2017</td>\n",
       "      <td>Thibaut</td>\n",
       "      <td>...</td>\n",
       "      <td>4</td>\n",
       "      <td>635</td>\n",
       "      <td>55.2</td>\n",
       "      <td>15</td>\n",
       "      <td>0</td>\n",
       "      <td>2</td>\n",
       "      <td>10.3</td>\n",
       "      <td>53</td>\n",
       "      <td>1</td>\n",
       "      <td>3.885714</td>\n",
       "    </tr>\n",
       "    <tr>\n",
       "      <th>1</th>\n",
       "      <td>Willy Caballero</td>\n",
       "      <td>Goalkeeper</td>\n",
       "      <td>1981-09-28T00:00:00Z</td>\n",
       "      <td>35</td>\n",
       "      <td>Argentina</td>\n",
       "      <td>Chelsea FC</td>\n",
       "      <td>Premier League</td>\n",
       "      <td>2017/2018</td>\n",
       "      <td>2017</td>\n",
       "      <td>Willy</td>\n",
       "      <td>...</td>\n",
       "      <td>0</td>\n",
       "      <td>54</td>\n",
       "      <td>5.5</td>\n",
       "      <td>1</td>\n",
       "      <td>0</td>\n",
       "      <td>0</td>\n",
       "      <td>0.1</td>\n",
       "      <td>48</td>\n",
       "      <td>1</td>\n",
       "      <td>3.666667</td>\n",
       "    </tr>\n",
       "    <tr>\n",
       "      <th>2</th>\n",
       "      <td>Antonio Rüdiger</td>\n",
       "      <td>Centre-Back</td>\n",
       "      <td>1993-03-03T00:00:00Z</td>\n",
       "      <td>24</td>\n",
       "      <td>Germany</td>\n",
       "      <td>Chelsea FC</td>\n",
       "      <td>Premier League</td>\n",
       "      <td>2017/2018</td>\n",
       "      <td>2017</td>\n",
       "      <td>Antonio</td>\n",
       "      <td>...</td>\n",
       "      <td>8</td>\n",
       "      <td>557</td>\n",
       "      <td>84.8</td>\n",
       "      <td>12</td>\n",
       "      <td>0</td>\n",
       "      <td>4</td>\n",
       "      <td>3.3</td>\n",
       "      <td>58</td>\n",
       "      <td>2</td>\n",
       "      <td>4.430651</td>\n",
       "    </tr>\n",
       "    <tr>\n",
       "      <th>3</th>\n",
       "      <td>Andreas Christensen</td>\n",
       "      <td>Centre-Back</td>\n",
       "      <td>1996-04-10T00:00:00Z</td>\n",
       "      <td>21</td>\n",
       "      <td>Denmark</td>\n",
       "      <td>Chelsea FC</td>\n",
       "      <td>Premier League</td>\n",
       "      <td>2017/2018</td>\n",
       "      <td>2017</td>\n",
       "      <td>Andreas</td>\n",
       "      <td>...</td>\n",
       "      <td>4</td>\n",
       "      <td>475</td>\n",
       "      <td>64.3</td>\n",
       "      <td>8</td>\n",
       "      <td>0</td>\n",
       "      <td>0</td>\n",
       "      <td>1.9</td>\n",
       "      <td>53</td>\n",
       "      <td>2</td>\n",
       "      <td>3.439768</td>\n",
       "    </tr>\n",
       "    <tr>\n",
       "      <th>4</th>\n",
       "      <td>Gary Cahill</td>\n",
       "      <td>Centre-Back</td>\n",
       "      <td>1985-12-19T00:00:00Z</td>\n",
       "      <td>31</td>\n",
       "      <td>England</td>\n",
       "      <td>Chelsea FC</td>\n",
       "      <td>Premier League</td>\n",
       "      <td>2017/2018</td>\n",
       "      <td>2017</td>\n",
       "      <td>Gary</td>\n",
       "      <td>...</td>\n",
       "      <td>2</td>\n",
       "      <td>447</td>\n",
       "      <td>65.4</td>\n",
       "      <td>9</td>\n",
       "      <td>1</td>\n",
       "      <td>1</td>\n",
       "      <td>3.0</td>\n",
       "      <td>62</td>\n",
       "      <td>2</td>\n",
       "      <td>3.198847</td>\n",
       "    </tr>\n",
       "  </tbody>\n",
       "</table>\n",
       "<p>5 rows × 29 columns</p>\n",
       "</div>"
      ],
      "text/plain": [
       "           player_name     position         date_of_birth  age nationality  \\\n",
       "0     Thibaut Courtois   Goalkeeper  1992-05-11T00:00:00Z   25     Belgium   \n",
       "1      Willy Caballero   Goalkeeper  1981-09-28T00:00:00Z   35   Argentina   \n",
       "2      Antonio Rüdiger  Centre-Back  1993-03-03T00:00:00Z   24     Germany   \n",
       "3  Andreas Christensen  Centre-Back  1996-04-10T00:00:00Z   21     Denmark   \n",
       "4          Gary Cahill  Centre-Back  1985-12-19T00:00:00Z   31     England   \n",
       "\n",
       "    club_name     league_name     season  year first_name     ...      bonus  \\\n",
       "0  Chelsea FC  Premier League  2017/2018  2017    Thibaut     ...          4   \n",
       "1  Chelsea FC  Premier League  2017/2018  2017      Willy     ...          0   \n",
       "2  Chelsea FC  Premier League  2017/2018  2017    Antonio     ...          8   \n",
       "3  Chelsea FC  Premier League  2017/2018  2017    Andreas     ...          4   \n",
       "4  Chelsea FC  Premier League  2017/2018  2017       Gary     ...          2   \n",
       "\n",
       "   bps  ict_index  clean_sheets  red_cards  yellow_cards  selected_by_percent  \\\n",
       "0  635       55.2            15          0             2                 10.3   \n",
       "1   54        5.5             1          0             0                  0.1   \n",
       "2  557       84.8            12          0             4                  3.3   \n",
       "3  475       64.3             8          0             0                  1.9   \n",
       "4  447       65.4             9          1             1                  3.0   \n",
       "\n",
       "   now_cost  position_index  fpl_to_game  \n",
       "0        53               1     3.885714  \n",
       "1        48               1     3.666667  \n",
       "2        58               2     4.430651  \n",
       "3        53               2     3.439768  \n",
       "4        62               2     3.198847  \n",
       "\n",
       "[5 rows x 29 columns]"
      ]
     },
     "execution_count": 30,
     "metadata": {},
     "output_type": "execute_result"
    }
   ],
   "source": [
    "s18.head()"
   ]
  },
  {
   "cell_type": "code",
   "execution_count": 31,
   "metadata": {
    "collapsed": true
   },
   "outputs": [],
   "source": [
    "s18_new = s18[['player_name','age', 'goals_scored','assists','total_points','minutes.played','bonus','bps','goals_conceded', 'clean_sheets','ict_index','position_index','fpl_to_game','selected_by_percent']]\n"
   ]
  },
  {
   "cell_type": "code",
   "execution_count": 32,
   "metadata": {},
   "outputs": [
    {
     "data": {
      "text/plain": [
       "(580, 14)"
      ]
     },
     "execution_count": 32,
     "metadata": {},
     "output_type": "execute_result"
    }
   ],
   "source": [
    "s18_new.shape"
   ]
  },
  {
   "cell_type": "code",
   "execution_count": 33,
   "metadata": {
    "collapsed": true
   },
   "outputs": [],
   "source": [
    "s18_new = s18_new[s18_new['minutes.played'] >= 1000]"
   ]
  },
  {
   "cell_type": "code",
   "execution_count": 34,
   "metadata": {},
   "outputs": [
    {
     "data": {
      "text/plain": [
       "(309, 14)"
      ]
     },
     "execution_count": 34,
     "metadata": {},
     "output_type": "execute_result"
    }
   ],
   "source": [
    "s18_new.shape"
   ]
  },
  {
   "cell_type": "code",
   "execution_count": 35,
   "metadata": {},
   "outputs": [
    {
     "data": {
      "text/html": [
       "<div>\n",
       "<style>\n",
       "    .dataframe thead tr:only-child th {\n",
       "        text-align: right;\n",
       "    }\n",
       "\n",
       "    .dataframe thead th {\n",
       "        text-align: left;\n",
       "    }\n",
       "\n",
       "    .dataframe tbody tr th {\n",
       "        vertical-align: top;\n",
       "    }\n",
       "</style>\n",
       "<table border=\"1\" class=\"dataframe\">\n",
       "  <thead>\n",
       "    <tr style=\"text-align: right;\">\n",
       "      <th></th>\n",
       "      <th>age</th>\n",
       "      <th>goals_scored</th>\n",
       "      <th>assists</th>\n",
       "      <th>total_points</th>\n",
       "      <th>minutes.played</th>\n",
       "      <th>bonus</th>\n",
       "      <th>bps</th>\n",
       "      <th>goals_conceded</th>\n",
       "      <th>clean_sheets</th>\n",
       "      <th>ict_index</th>\n",
       "      <th>position_index</th>\n",
       "      <th>fpl_to_game</th>\n",
       "      <th>selected_by_percent</th>\n",
       "    </tr>\n",
       "  </thead>\n",
       "  <tbody>\n",
       "    <tr>\n",
       "      <th>age</th>\n",
       "      <td>1.000000</td>\n",
       "      <td>-0.086901</td>\n",
       "      <td>-0.174757</td>\n",
       "      <td>-0.067866</td>\n",
       "      <td>0.042953</td>\n",
       "      <td>-0.025452</td>\n",
       "      <td>0.003292</td>\n",
       "      <td>0.115250</td>\n",
       "      <td>-0.030151</td>\n",
       "      <td>-0.125779</td>\n",
       "      <td>-0.119878</td>\n",
       "      <td>-0.125859</td>\n",
       "      <td>-0.068743</td>\n",
       "    </tr>\n",
       "    <tr>\n",
       "      <th>goals_scored</th>\n",
       "      <td>-0.086901</td>\n",
       "      <td>1.000000</td>\n",
       "      <td>0.513812</td>\n",
       "      <td>0.677734</td>\n",
       "      <td>0.122264</td>\n",
       "      <td>0.684818</td>\n",
       "      <td>0.312122</td>\n",
       "      <td>-0.059680</td>\n",
       "      <td>0.299155</td>\n",
       "      <td>0.795575</td>\n",
       "      <td>0.626923</td>\n",
       "      <td>0.727566</td>\n",
       "      <td>0.688303</td>\n",
       "    </tr>\n",
       "    <tr>\n",
       "      <th>assists</th>\n",
       "      <td>-0.174757</td>\n",
       "      <td>0.513812</td>\n",
       "      <td>1.000000</td>\n",
       "      <td>0.602576</td>\n",
       "      <td>0.191436</td>\n",
       "      <td>0.466222</td>\n",
       "      <td>0.338288</td>\n",
       "      <td>-0.014537</td>\n",
       "      <td>0.360576</td>\n",
       "      <td>0.778453</td>\n",
       "      <td>0.466602</td>\n",
       "      <td>0.588003</td>\n",
       "      <td>0.436262</td>\n",
       "    </tr>\n",
       "    <tr>\n",
       "      <th>total_points</th>\n",
       "      <td>-0.067866</td>\n",
       "      <td>0.677734</td>\n",
       "      <td>0.602576</td>\n",
       "      <td>1.000000</td>\n",
       "      <td>0.653346</td>\n",
       "      <td>0.832302</td>\n",
       "      <td>0.836063</td>\n",
       "      <td>0.237303</td>\n",
       "      <td>0.750179</td>\n",
       "      <td>0.816782</td>\n",
       "      <td>0.199531</td>\n",
       "      <td>0.670469</td>\n",
       "      <td>0.786018</td>\n",
       "    </tr>\n",
       "    <tr>\n",
       "      <th>minutes.played</th>\n",
       "      <td>0.042953</td>\n",
       "      <td>0.122264</td>\n",
       "      <td>0.191436</td>\n",
       "      <td>0.653346</td>\n",
       "      <td>1.000000</td>\n",
       "      <td>0.422670</td>\n",
       "      <td>0.837399</td>\n",
       "      <td>0.745504</td>\n",
       "      <td>0.633466</td>\n",
       "      <td>0.447882</td>\n",
       "      <td>-0.187077</td>\n",
       "      <td>-0.070202</td>\n",
       "      <td>0.402830</td>\n",
       "    </tr>\n",
       "    <tr>\n",
       "      <th>bonus</th>\n",
       "      <td>-0.025452</td>\n",
       "      <td>0.684818</td>\n",
       "      <td>0.466222</td>\n",
       "      <td>0.832302</td>\n",
       "      <td>0.422670</td>\n",
       "      <td>1.000000</td>\n",
       "      <td>0.680570</td>\n",
       "      <td>0.122599</td>\n",
       "      <td>0.524333</td>\n",
       "      <td>0.692733</td>\n",
       "      <td>0.252306</td>\n",
       "      <td>0.674521</td>\n",
       "      <td>0.709928</td>\n",
       "    </tr>\n",
       "    <tr>\n",
       "      <th>bps</th>\n",
       "      <td>0.003292</td>\n",
       "      <td>0.312122</td>\n",
       "      <td>0.338288</td>\n",
       "      <td>0.836063</td>\n",
       "      <td>0.837399</td>\n",
       "      <td>0.680570</td>\n",
       "      <td>1.000000</td>\n",
       "      <td>0.443371</td>\n",
       "      <td>0.767786</td>\n",
       "      <td>0.573856</td>\n",
       "      <td>-0.210995</td>\n",
       "      <td>0.308249</td>\n",
       "      <td>0.641626</td>\n",
       "    </tr>\n",
       "    <tr>\n",
       "      <th>goals_conceded</th>\n",
       "      <td>0.115250</td>\n",
       "      <td>-0.059680</td>\n",
       "      <td>-0.014537</td>\n",
       "      <td>0.237303</td>\n",
       "      <td>0.745504</td>\n",
       "      <td>0.122599</td>\n",
       "      <td>0.443371</td>\n",
       "      <td>1.000000</td>\n",
       "      <td>0.039100</td>\n",
       "      <td>0.156340</td>\n",
       "      <td>-0.181049</td>\n",
       "      <td>-0.365843</td>\n",
       "      <td>0.042312</td>\n",
       "    </tr>\n",
       "    <tr>\n",
       "      <th>clean_sheets</th>\n",
       "      <td>-0.030151</td>\n",
       "      <td>0.299155</td>\n",
       "      <td>0.360576</td>\n",
       "      <td>0.750179</td>\n",
       "      <td>0.633466</td>\n",
       "      <td>0.524333</td>\n",
       "      <td>0.767786</td>\n",
       "      <td>0.039100</td>\n",
       "      <td>1.000000</td>\n",
       "      <td>0.543382</td>\n",
       "      <td>-0.018410</td>\n",
       "      <td>0.383811</td>\n",
       "      <td>0.574088</td>\n",
       "    </tr>\n",
       "    <tr>\n",
       "      <th>ict_index</th>\n",
       "      <td>-0.125779</td>\n",
       "      <td>0.795575</td>\n",
       "      <td>0.778453</td>\n",
       "      <td>0.816782</td>\n",
       "      <td>0.447882</td>\n",
       "      <td>0.692733</td>\n",
       "      <td>0.573856</td>\n",
       "      <td>0.156340</td>\n",
       "      <td>0.543382</td>\n",
       "      <td>1.000000</td>\n",
       "      <td>0.526667</td>\n",
       "      <td>0.614558</td>\n",
       "      <td>0.656844</td>\n",
       "    </tr>\n",
       "    <tr>\n",
       "      <th>position_index</th>\n",
       "      <td>-0.119878</td>\n",
       "      <td>0.626923</td>\n",
       "      <td>0.466602</td>\n",
       "      <td>0.199531</td>\n",
       "      <td>-0.187077</td>\n",
       "      <td>0.252306</td>\n",
       "      <td>-0.210995</td>\n",
       "      <td>-0.181049</td>\n",
       "      <td>-0.018410</td>\n",
       "      <td>0.526667</td>\n",
       "      <td>1.000000</td>\n",
       "      <td>0.465131</td>\n",
       "      <td>0.153796</td>\n",
       "    </tr>\n",
       "    <tr>\n",
       "      <th>fpl_to_game</th>\n",
       "      <td>-0.125859</td>\n",
       "      <td>0.727566</td>\n",
       "      <td>0.588003</td>\n",
       "      <td>0.670469</td>\n",
       "      <td>-0.070202</td>\n",
       "      <td>0.674521</td>\n",
       "      <td>0.308249</td>\n",
       "      <td>-0.365843</td>\n",
       "      <td>0.383811</td>\n",
       "      <td>0.614558</td>\n",
       "      <td>0.465131</td>\n",
       "      <td>1.000000</td>\n",
       "      <td>0.563240</td>\n",
       "    </tr>\n",
       "    <tr>\n",
       "      <th>selected_by_percent</th>\n",
       "      <td>-0.068743</td>\n",
       "      <td>0.688303</td>\n",
       "      <td>0.436262</td>\n",
       "      <td>0.786018</td>\n",
       "      <td>0.402830</td>\n",
       "      <td>0.709928</td>\n",
       "      <td>0.641626</td>\n",
       "      <td>0.042312</td>\n",
       "      <td>0.574088</td>\n",
       "      <td>0.656844</td>\n",
       "      <td>0.153796</td>\n",
       "      <td>0.563240</td>\n",
       "      <td>1.000000</td>\n",
       "    </tr>\n",
       "  </tbody>\n",
       "</table>\n",
       "</div>"
      ],
      "text/plain": [
       "                          age  goals_scored   assists  total_points  \\\n",
       "age                  1.000000     -0.086901 -0.174757     -0.067866   \n",
       "goals_scored        -0.086901      1.000000  0.513812      0.677734   \n",
       "assists             -0.174757      0.513812  1.000000      0.602576   \n",
       "total_points        -0.067866      0.677734  0.602576      1.000000   \n",
       "minutes.played       0.042953      0.122264  0.191436      0.653346   \n",
       "bonus               -0.025452      0.684818  0.466222      0.832302   \n",
       "bps                  0.003292      0.312122  0.338288      0.836063   \n",
       "goals_conceded       0.115250     -0.059680 -0.014537      0.237303   \n",
       "clean_sheets        -0.030151      0.299155  0.360576      0.750179   \n",
       "ict_index           -0.125779      0.795575  0.778453      0.816782   \n",
       "position_index      -0.119878      0.626923  0.466602      0.199531   \n",
       "fpl_to_game         -0.125859      0.727566  0.588003      0.670469   \n",
       "selected_by_percent -0.068743      0.688303  0.436262      0.786018   \n",
       "\n",
       "                     minutes.played     bonus       bps  goals_conceded  \\\n",
       "age                        0.042953 -0.025452  0.003292        0.115250   \n",
       "goals_scored               0.122264  0.684818  0.312122       -0.059680   \n",
       "assists                    0.191436  0.466222  0.338288       -0.014537   \n",
       "total_points               0.653346  0.832302  0.836063        0.237303   \n",
       "minutes.played             1.000000  0.422670  0.837399        0.745504   \n",
       "bonus                      0.422670  1.000000  0.680570        0.122599   \n",
       "bps                        0.837399  0.680570  1.000000        0.443371   \n",
       "goals_conceded             0.745504  0.122599  0.443371        1.000000   \n",
       "clean_sheets               0.633466  0.524333  0.767786        0.039100   \n",
       "ict_index                  0.447882  0.692733  0.573856        0.156340   \n",
       "position_index            -0.187077  0.252306 -0.210995       -0.181049   \n",
       "fpl_to_game               -0.070202  0.674521  0.308249       -0.365843   \n",
       "selected_by_percent        0.402830  0.709928  0.641626        0.042312   \n",
       "\n",
       "                     clean_sheets  ict_index  position_index  fpl_to_game  \\\n",
       "age                     -0.030151  -0.125779       -0.119878    -0.125859   \n",
       "goals_scored             0.299155   0.795575        0.626923     0.727566   \n",
       "assists                  0.360576   0.778453        0.466602     0.588003   \n",
       "total_points             0.750179   0.816782        0.199531     0.670469   \n",
       "minutes.played           0.633466   0.447882       -0.187077    -0.070202   \n",
       "bonus                    0.524333   0.692733        0.252306     0.674521   \n",
       "bps                      0.767786   0.573856       -0.210995     0.308249   \n",
       "goals_conceded           0.039100   0.156340       -0.181049    -0.365843   \n",
       "clean_sheets             1.000000   0.543382       -0.018410     0.383811   \n",
       "ict_index                0.543382   1.000000        0.526667     0.614558   \n",
       "position_index          -0.018410   0.526667        1.000000     0.465131   \n",
       "fpl_to_game              0.383811   0.614558        0.465131     1.000000   \n",
       "selected_by_percent      0.574088   0.656844        0.153796     0.563240   \n",
       "\n",
       "                     selected_by_percent  \n",
       "age                            -0.068743  \n",
       "goals_scored                    0.688303  \n",
       "assists                         0.436262  \n",
       "total_points                    0.786018  \n",
       "minutes.played                  0.402830  \n",
       "bonus                           0.709928  \n",
       "bps                             0.641626  \n",
       "goals_conceded                  0.042312  \n",
       "clean_sheets                    0.574088  \n",
       "ict_index                       0.656844  \n",
       "position_index                  0.153796  \n",
       "fpl_to_game                     0.563240  \n",
       "selected_by_percent             1.000000  "
      ]
     },
     "execution_count": 35,
     "metadata": {},
     "output_type": "execute_result"
    }
   ],
   "source": [
    "s18_new.corr()"
   ]
  },
  {
   "cell_type": "code",
   "execution_count": 36,
   "metadata": {
    "collapsed": true
   },
   "outputs": [],
   "source": [
    "s18_x, s18_y, s18_xm, s18_xtrain, s18_xtest, s18_ytrain, s18_ytest, s18_xtrain_new, s18_xtest_new = split_data(s18_new, 0)"
   ]
  },
  {
   "cell_type": "code",
   "execution_count": 37,
   "metadata": {
    "collapsed": true
   },
   "outputs": [],
   "source": [
    "model2 = make_pipeline(PolynomialFeatures(), LinearRegression())"
   ]
  },
  {
   "cell_type": "code",
   "execution_count": 38,
   "metadata": {},
   "outputs": [
    {
     "data": {
      "image/png": "[encoded data removed]",
      "text/plain": [
       "<matplotlib.figure.Figure at 0x2b5ccd6a1048>"
      ]
     },
     "metadata": {},
     "output_type": "display_data"
    }
   ],
   "source": [
    "val_curve(model2, s18_xm, s18_y)"
   ]
  },
  {
   "cell_type": "code",
   "execution_count": 39,
   "metadata": {
    "collapsed": true
   },
   "outputs": [],
   "source": [
    "model2 = make_pipeline(PolynomialFeatures(best_degree(model2, s18_xm,s18_y)), LinearRegression())"
   ]
  },
  {
   "cell_type": "code",
   "execution_count": 40,
   "metadata": {
    "collapsed": true
   },
   "outputs": [],
   "source": [
    "s18_pred = model2.fit(s18_xtrain_new, s18_ytrain).predict(s18_xtest_new)"
   ]
  },
  {
   "cell_type": "code",
   "execution_count": 41,
   "metadata": {},
   "outputs": [
    {
     "data": {
      "text/plain": [
       "0.88676509961144079"
      ]
     },
     "execution_count": 41,
     "metadata": {},
     "output_type": "execute_result"
    }
   ],
   "source": [
    "r2_score(s18_pred, s18_ytest)"
   ]
  },
  {
   "cell_type": "code",
   "execution_count": 42,
   "metadata": {},
   "outputs": [
    {
     "data": {
      "text/plain": [
       "array([ 0.67486863,  0.90754215,  0.89566628,  0.93353788,  0.84982562])"
      ]
     },
     "execution_count": 42,
     "metadata": {},
     "output_type": "execute_result"
    }
   ],
   "source": [
    "scores18 = cross_val_score(model2,s18_xm, s18_y, cv = 5)\n",
    "scores18"
   ]
  },
  {
   "cell_type": "code",
   "execution_count": 43,
   "metadata": {},
   "outputs": [
    {
     "data": {
      "text/plain": [
       "0.85228811215279288"
      ]
     },
     "execution_count": 43,
     "metadata": {},
     "output_type": "execute_result"
    }
   ],
   "source": [
    "scores18.mean()"
   ]
  },
  {
   "cell_type": "code",
   "execution_count": 44,
   "metadata": {},
   "outputs": [
    {
     "data": {
      "text/html": [
       "<div>\n",
       "<style>\n",
       "    .dataframe thead tr:only-child th {\n",
       "        text-align: right;\n",
       "    }\n",
       "\n",
       "    .dataframe thead th {\n",
       "        text-align: left;\n",
       "    }\n",
       "\n",
       "    .dataframe tbody tr th {\n",
       "        vertical-align: top;\n",
       "    }\n",
       "</style>\n",
       "<table border=\"1\" class=\"dataframe\">\n",
       "  <thead>\n",
       "    <tr style=\"text-align: right;\">\n",
       "      <th></th>\n",
       "      <th>player_name</th>\n",
       "      <th>ict_index</th>\n",
       "      <th>selected_by_percent</th>\n",
       "      <th>bps</th>\n",
       "      <th>position_index</th>\n",
       "      <th>minutes.played</th>\n",
       "      <th>total_points</th>\n",
       "      <th>fpl_to_game</th>\n",
       "      <th>pred_points</th>\n",
       "      <th>fpl_to_game pred</th>\n",
       "    </tr>\n",
       "  </thead>\n",
       "  <tbody>\n",
       "    <tr>\n",
       "      <th>0</th>\n",
       "      <td>Fabian Delph</td>\n",
       "      <td>69.4</td>\n",
       "      <td>0.5</td>\n",
       "      <td>398</td>\n",
       "      <td>3</td>\n",
       "      <td>1740</td>\n",
       "      <td>55</td>\n",
       "      <td>2.844828</td>\n",
       "      <td>69.782709</td>\n",
       "      <td>3.609450</td>\n",
       "    </tr>\n",
       "    <tr>\n",
       "      <th>1</th>\n",
       "      <td>Isaac Hayden</td>\n",
       "      <td>58.2</td>\n",
       "      <td>0.2</td>\n",
       "      <td>171</td>\n",
       "      <td>3</td>\n",
       "      <td>1365</td>\n",
       "      <td>41</td>\n",
       "      <td>2.703297</td>\n",
       "      <td>39.258219</td>\n",
       "      <td>2.588454</td>\n",
       "    </tr>\n",
       "    <tr>\n",
       "      <th>2</th>\n",
       "      <td>Wayne Hennessey</td>\n",
       "      <td>61.4</td>\n",
       "      <td>3.1</td>\n",
       "      <td>506</td>\n",
       "      <td>1</td>\n",
       "      <td>2430</td>\n",
       "      <td>99</td>\n",
       "      <td>3.666667</td>\n",
       "      <td>101.496984</td>\n",
       "      <td>3.759148</td>\n",
       "    </tr>\n",
       "    <tr>\n",
       "      <th>3</th>\n",
       "      <td>James Ward-Prowse</td>\n",
       "      <td>127.1</td>\n",
       "      <td>1.7</td>\n",
       "      <td>367</td>\n",
       "      <td>3</td>\n",
       "      <td>1708</td>\n",
       "      <td>84</td>\n",
       "      <td>4.426230</td>\n",
       "      <td>81.548782</td>\n",
       "      <td>4.297067</td>\n",
       "    </tr>\n",
       "    <tr>\n",
       "      <th>4</th>\n",
       "      <td>Moritz Bauer</td>\n",
       "      <td>44.0</td>\n",
       "      <td>0.4</td>\n",
       "      <td>201</td>\n",
       "      <td>2</td>\n",
       "      <td>1307</td>\n",
       "      <td>41</td>\n",
       "      <td>2.823259</td>\n",
       "      <td>36.530707</td>\n",
       "      <td>2.515504</td>\n",
       "    </tr>\n",
       "  </tbody>\n",
       "</table>\n",
       "</div>"
      ],
      "text/plain": [
       "         player_name  ict_index  selected_by_percent  bps  position_index  \\\n",
       "0       Fabian Delph       69.4                  0.5  398               3   \n",
       "1       Isaac Hayden       58.2                  0.2  171               3   \n",
       "2    Wayne Hennessey       61.4                  3.1  506               1   \n",
       "3  James Ward-Prowse      127.1                  1.7  367               3   \n",
       "4       Moritz Bauer       44.0                  0.4  201               2   \n",
       "\n",
       "   minutes.played  total_points  fpl_to_game  pred_points  fpl_to_game pred  \n",
       "0            1740            55     2.844828    69.782709          3.609450  \n",
       "1            1365            41     2.703297    39.258219          2.588454  \n",
       "2            2430            99     3.666667   101.496984          3.759148  \n",
       "3            1708            84     4.426230    81.548782          4.297067  \n",
       "4            1307            41     2.823259    36.530707          2.515504  "
      ]
     },
     "execution_count": 44,
     "metadata": {},
     "output_type": "execute_result"
    }
   ],
   "source": [
    "new_output(s18_xtest, s18_ytest, s18_pred)"
   ]
  },
  {
   "cell_type": "markdown",
   "metadata": {},
   "source": [
    "## Premier League 2018/19"
   ]
  },
  {
   "cell_type": "code",
   "execution_count": 45,
   "metadata": {
    "collapsed": true
   },
   "outputs": [],
   "source": [
    "## Loading the datsets\n",
    "s19 = pd.read_csv(\"~/DSI-SRP1/season2019.csv\")"
   ]
  },
  {
   "cell_type": "code",
   "execution_count": 46,
   "metadata": {},
   "outputs": [
    {
     "data": {
      "text/html": [
       "<div>\n",
       "<style>\n",
       "    .dataframe thead tr:only-child th {\n",
       "        text-align: right;\n",
       "    }\n",
       "\n",
       "    .dataframe thead th {\n",
       "        text-align: left;\n",
       "    }\n",
       "\n",
       "    .dataframe tbody tr th {\n",
       "        vertical-align: top;\n",
       "    }\n",
       "</style>\n",
       "<table border=\"1\" class=\"dataframe\">\n",
       "  <thead>\n",
       "    <tr style=\"text-align: right;\">\n",
       "      <th></th>\n",
       "      <th>Unnamed: 0</th>\n",
       "      <th>player_name</th>\n",
       "      <th>position</th>\n",
       "      <th>date_of_birth</th>\n",
       "      <th>age</th>\n",
       "      <th>nationality</th>\n",
       "      <th>club_name</th>\n",
       "      <th>league_name</th>\n",
       "      <th>season</th>\n",
       "      <th>year</th>\n",
       "      <th>...</th>\n",
       "      <th>bonus</th>\n",
       "      <th>bps</th>\n",
       "      <th>ict_index</th>\n",
       "      <th>clean_sheets</th>\n",
       "      <th>red_cards</th>\n",
       "      <th>yellow_cards</th>\n",
       "      <th>selected_by_percent</th>\n",
       "      <th>now_cost</th>\n",
       "      <th>position_index</th>\n",
       "      <th>fpl_to_game</th>\n",
       "    </tr>\n",
       "  </thead>\n",
       "  <tbody>\n",
       "    <tr>\n",
       "      <th>0</th>\n",
       "      <td>1</td>\n",
       "      <td>Ederson Santana de Moraes</td>\n",
       "      <td>Goalkeeper</td>\n",
       "      <td>1993-08-17T00:00:00Z</td>\n",
       "      <td>25</td>\n",
       "      <td>Brazil</td>\n",
       "      <td>Manchester City</td>\n",
       "      <td>Premier League</td>\n",
       "      <td>2018/2019</td>\n",
       "      <td>2018</td>\n",
       "      <td>...</td>\n",
       "      <td>6.0</td>\n",
       "      <td>700</td>\n",
       "      <td>56.8</td>\n",
       "      <td>20</td>\n",
       "      <td>0</td>\n",
       "      <td>2</td>\n",
       "      <td>22.9</td>\n",
       "      <td>57</td>\n",
       "      <td>1</td>\n",
       "      <td>4.447368</td>\n",
       "    </tr>\n",
       "    <tr>\n",
       "      <th>1</th>\n",
       "      <td>2</td>\n",
       "      <td>Claudio Bravo</td>\n",
       "      <td>Goalkeeper</td>\n",
       "      <td>1983-04-13T00:00:00Z</td>\n",
       "      <td>36</td>\n",
       "      <td>Chile</td>\n",
       "      <td>Manchester City</td>\n",
       "      <td>Premier League</td>\n",
       "      <td>2018/2019</td>\n",
       "      <td>2018</td>\n",
       "      <td>...</td>\n",
       "      <td>0.0</td>\n",
       "      <td>0</td>\n",
       "      <td>0.0</td>\n",
       "      <td>0</td>\n",
       "      <td>0</td>\n",
       "      <td>0</td>\n",
       "      <td>0.1</td>\n",
       "      <td>48</td>\n",
       "      <td>1</td>\n",
       "      <td>NaN</td>\n",
       "    </tr>\n",
       "    <tr>\n",
       "      <th>2</th>\n",
       "      <td>3</td>\n",
       "      <td>John Stones</td>\n",
       "      <td>Centre-Back</td>\n",
       "      <td>1994-05-28T00:00:00Z</td>\n",
       "      <td>25</td>\n",
       "      <td>England</td>\n",
       "      <td>Manchester City</td>\n",
       "      <td>Premier League</td>\n",
       "      <td>2018/2019</td>\n",
       "      <td>2018</td>\n",
       "      <td>...</td>\n",
       "      <td>9.0</td>\n",
       "      <td>431</td>\n",
       "      <td>54.1</td>\n",
       "      <td>9</td>\n",
       "      <td>0</td>\n",
       "      <td>1</td>\n",
       "      <td>4.6</td>\n",
       "      <td>52</td>\n",
       "      <td>2</td>\n",
       "      <td>4.241908</td>\n",
       "    </tr>\n",
       "    <tr>\n",
       "      <th>3</th>\n",
       "      <td>4</td>\n",
       "      <td>Aymeric Laporte</td>\n",
       "      <td>Centre-Back</td>\n",
       "      <td>1994-05-27T00:00:00Z</td>\n",
       "      <td>25</td>\n",
       "      <td>France</td>\n",
       "      <td>Manchester City</td>\n",
       "      <td>Premier League</td>\n",
       "      <td>2018/2019</td>\n",
       "      <td>2018</td>\n",
       "      <td>...</td>\n",
       "      <td>16.0</td>\n",
       "      <td>768</td>\n",
       "      <td>131.2</td>\n",
       "      <td>18</td>\n",
       "      <td>0</td>\n",
       "      <td>3</td>\n",
       "      <td>16.7</td>\n",
       "      <td>63</td>\n",
       "      <td>2</td>\n",
       "      <td>5.212696</td>\n",
       "    </tr>\n",
       "    <tr>\n",
       "      <th>4</th>\n",
       "      <td>5</td>\n",
       "      <td>Nicolás Otamendi</td>\n",
       "      <td>Centre-Back</td>\n",
       "      <td>1988-02-12T00:00:00Z</td>\n",
       "      <td>31</td>\n",
       "      <td>Argentina</td>\n",
       "      <td>Manchester City</td>\n",
       "      <td>Premier League</td>\n",
       "      <td>2018/2019</td>\n",
       "      <td>2018</td>\n",
       "      <td>...</td>\n",
       "      <td>5.0</td>\n",
       "      <td>335</td>\n",
       "      <td>47.8</td>\n",
       "      <td>9</td>\n",
       "      <td>0</td>\n",
       "      <td>1</td>\n",
       "      <td>2.6</td>\n",
       "      <td>60</td>\n",
       "      <td>2</td>\n",
       "      <td>5.109489</td>\n",
       "    </tr>\n",
       "  </tbody>\n",
       "</table>\n",
       "<p>5 rows × 30 columns</p>\n",
       "</div>"
      ],
      "text/plain": [
       "   Unnamed: 0                player_name     position         date_of_birth  \\\n",
       "0           1  Ederson Santana de Moraes   Goalkeeper  1993-08-17T00:00:00Z   \n",
       "1           2              Claudio Bravo   Goalkeeper  1983-04-13T00:00:00Z   \n",
       "2           3                John Stones  Centre-Back  1994-05-28T00:00:00Z   \n",
       "3           4            Aymeric Laporte  Centre-Back  1994-05-27T00:00:00Z   \n",
       "4           5           Nicolás Otamendi  Centre-Back  1988-02-12T00:00:00Z   \n",
       "\n",
       "   age nationality        club_name     league_name     season  year  \\\n",
       "0   25      Brazil  Manchester City  Premier League  2018/2019  2018   \n",
       "1   36       Chile  Manchester City  Premier League  2018/2019  2018   \n",
       "2   25     England  Manchester City  Premier League  2018/2019  2018   \n",
       "3   25      France  Manchester City  Premier League  2018/2019  2018   \n",
       "4   31   Argentina  Manchester City  Premier League  2018/2019  2018   \n",
       "\n",
       "      ...      bonus  bps  ict_index  clean_sheets  red_cards  yellow_cards  \\\n",
       "0     ...        6.0  700       56.8            20          0             2   \n",
       "1     ...        0.0    0        0.0             0          0             0   \n",
       "2     ...        9.0  431       54.1             9          0             1   \n",
       "3     ...       16.0  768      131.2            18          0             3   \n",
       "4     ...        5.0  335       47.8             9          0             1   \n",
       "\n",
       "   selected_by_percent  now_cost  position_index  fpl_to_game  \n",
       "0                 22.9        57               1     4.447368  \n",
       "1                  0.1        48               1          NaN  \n",
       "2                  4.6        52               2     4.241908  \n",
       "3                 16.7        63               2     5.212696  \n",
       "4                  2.6        60               2     5.109489  \n",
       "\n",
       "[5 rows x 30 columns]"
      ]
     },
     "execution_count": 46,
     "metadata": {},
     "output_type": "execute_result"
    }
   ],
   "source": [
    "s19.head()"
   ]
  },
  {
   "cell_type": "code",
   "execution_count": 47,
   "metadata": {
    "collapsed": true
   },
   "outputs": [],
   "source": [
    "s19 = s19.drop('Unnamed: 0', axis =1)"
   ]
  },
  {
   "cell_type": "code",
   "execution_count": 48,
   "metadata": {
    "collapsed": true
   },
   "outputs": [],
   "source": [
    "s19_new = s19[['player_name','age', 'goals_scored','assists','total_points','minutes.played','bonus','bps','goals_conceded', 'clean_sheets','ict_index','position_index','fpl_to_game','selected_by_percent']]\n"
   ]
  },
  {
   "cell_type": "code",
   "execution_count": 49,
   "metadata": {},
   "outputs": [
    {
     "data": {
      "text/plain": [
       "(461, 14)"
      ]
     },
     "execution_count": 49,
     "metadata": {},
     "output_type": "execute_result"
    }
   ],
   "source": [
    "s19_new.shape"
   ]
  },
  {
   "cell_type": "code",
   "execution_count": 50,
   "metadata": {
    "collapsed": true
   },
   "outputs": [],
   "source": [
    "s19_new = s19_new[s19_new['minutes.played'] >= 1000]"
   ]
  },
  {
   "cell_type": "code",
   "execution_count": 51,
   "metadata": {},
   "outputs": [
    {
     "data": {
      "text/plain": [
       "(269, 14)"
      ]
     },
     "execution_count": 51,
     "metadata": {},
     "output_type": "execute_result"
    }
   ],
   "source": [
    "s19_new.shape"
   ]
  },
  {
   "cell_type": "code",
   "execution_count": 52,
   "metadata": {},
   "outputs": [
    {
     "data": {
      "text/html": [
       "<div>\n",
       "<style>\n",
       "    .dataframe thead tr:only-child th {\n",
       "        text-align: right;\n",
       "    }\n",
       "\n",
       "    .dataframe thead th {\n",
       "        text-align: left;\n",
       "    }\n",
       "\n",
       "    .dataframe tbody tr th {\n",
       "        vertical-align: top;\n",
       "    }\n",
       "</style>\n",
       "<table border=\"1\" class=\"dataframe\">\n",
       "  <thead>\n",
       "    <tr style=\"text-align: right;\">\n",
       "      <th></th>\n",
       "      <th>age</th>\n",
       "      <th>goals_scored</th>\n",
       "      <th>assists</th>\n",
       "      <th>total_points</th>\n",
       "      <th>minutes.played</th>\n",
       "      <th>bonus</th>\n",
       "      <th>bps</th>\n",
       "      <th>goals_conceded</th>\n",
       "      <th>clean_sheets</th>\n",
       "      <th>ict_index</th>\n",
       "      <th>position_index</th>\n",
       "      <th>fpl_to_game</th>\n",
       "      <th>selected_by_percent</th>\n",
       "    </tr>\n",
       "  </thead>\n",
       "  <tbody>\n",
       "    <tr>\n",
       "      <th>age</th>\n",
       "      <td>1.000000</td>\n",
       "      <td>-0.064876</td>\n",
       "      <td>-0.170670</td>\n",
       "      <td>-0.080101</td>\n",
       "      <td>-0.029226</td>\n",
       "      <td>-0.013376</td>\n",
       "      <td>0.001951</td>\n",
       "      <td>-0.006915</td>\n",
       "      <td>-0.041873</td>\n",
       "      <td>-0.133911</td>\n",
       "      <td>-0.170815</td>\n",
       "      <td>-0.087252</td>\n",
       "      <td>-0.084559</td>\n",
       "    </tr>\n",
       "    <tr>\n",
       "      <th>goals_scored</th>\n",
       "      <td>-0.064876</td>\n",
       "      <td>1.000000</td>\n",
       "      <td>0.596603</td>\n",
       "      <td>0.689291</td>\n",
       "      <td>0.217135</td>\n",
       "      <td>0.722603</td>\n",
       "      <td>0.327174</td>\n",
       "      <td>0.002309</td>\n",
       "      <td>0.303463</td>\n",
       "      <td>0.837944</td>\n",
       "      <td>0.670737</td>\n",
       "      <td>0.712972</td>\n",
       "      <td>0.551136</td>\n",
       "    </tr>\n",
       "    <tr>\n",
       "      <th>assists</th>\n",
       "      <td>-0.170670</td>\n",
       "      <td>0.596603</td>\n",
       "      <td>1.000000</td>\n",
       "      <td>0.641911</td>\n",
       "      <td>0.197061</td>\n",
       "      <td>0.611768</td>\n",
       "      <td>0.371209</td>\n",
       "      <td>-0.061416</td>\n",
       "      <td>0.360570</td>\n",
       "      <td>0.776881</td>\n",
       "      <td>0.468019</td>\n",
       "      <td>0.665973</td>\n",
       "      <td>0.567071</td>\n",
       "    </tr>\n",
       "    <tr>\n",
       "      <th>total_points</th>\n",
       "      <td>-0.080101</td>\n",
       "      <td>0.689291</td>\n",
       "      <td>0.641911</td>\n",
       "      <td>1.000000</td>\n",
       "      <td>0.683910</td>\n",
       "      <td>0.867632</td>\n",
       "      <td>0.839868</td>\n",
       "      <td>0.163526</td>\n",
       "      <td>0.763539</td>\n",
       "      <td>0.814954</td>\n",
       "      <td>0.224560</td>\n",
       "      <td>0.703978</td>\n",
       "      <td>0.793061</td>\n",
       "    </tr>\n",
       "    <tr>\n",
       "      <th>minutes.played</th>\n",
       "      <td>-0.029226</td>\n",
       "      <td>0.217135</td>\n",
       "      <td>0.197061</td>\n",
       "      <td>0.683910</td>\n",
       "      <td>1.000000</td>\n",
       "      <td>0.480045</td>\n",
       "      <td>0.856772</td>\n",
       "      <td>0.679005</td>\n",
       "      <td>0.631515</td>\n",
       "      <td>0.475816</td>\n",
       "      <td>-0.182967</td>\n",
       "      <td>0.012693</td>\n",
       "      <td>0.472002</td>\n",
       "    </tr>\n",
       "    <tr>\n",
       "      <th>bonus</th>\n",
       "      <td>-0.013376</td>\n",
       "      <td>0.722603</td>\n",
       "      <td>0.611768</td>\n",
       "      <td>0.867632</td>\n",
       "      <td>0.480045</td>\n",
       "      <td>1.000000</td>\n",
       "      <td>0.710354</td>\n",
       "      <td>0.098181</td>\n",
       "      <td>0.540434</td>\n",
       "      <td>0.764820</td>\n",
       "      <td>0.286485</td>\n",
       "      <td>0.697524</td>\n",
       "      <td>0.739780</td>\n",
       "    </tr>\n",
       "    <tr>\n",
       "      <th>bps</th>\n",
       "      <td>0.001951</td>\n",
       "      <td>0.327174</td>\n",
       "      <td>0.371209</td>\n",
       "      <td>0.839868</td>\n",
       "      <td>0.856772</td>\n",
       "      <td>0.710354</td>\n",
       "      <td>1.000000</td>\n",
       "      <td>0.359342</td>\n",
       "      <td>0.755405</td>\n",
       "      <td>0.568488</td>\n",
       "      <td>-0.195381</td>\n",
       "      <td>0.347995</td>\n",
       "      <td>0.664929</td>\n",
       "    </tr>\n",
       "    <tr>\n",
       "      <th>goals_conceded</th>\n",
       "      <td>-0.006915</td>\n",
       "      <td>0.002309</td>\n",
       "      <td>-0.061416</td>\n",
       "      <td>0.163526</td>\n",
       "      <td>0.679005</td>\n",
       "      <td>0.098181</td>\n",
       "      <td>0.359342</td>\n",
       "      <td>1.000000</td>\n",
       "      <td>-0.042333</td>\n",
       "      <td>0.168729</td>\n",
       "      <td>-0.176006</td>\n",
       "      <td>-0.376362</td>\n",
       "      <td>0.015922</td>\n",
       "    </tr>\n",
       "    <tr>\n",
       "      <th>clean_sheets</th>\n",
       "      <td>-0.041873</td>\n",
       "      <td>0.303463</td>\n",
       "      <td>0.360570</td>\n",
       "      <td>0.763539</td>\n",
       "      <td>0.631515</td>\n",
       "      <td>0.540434</td>\n",
       "      <td>0.755405</td>\n",
       "      <td>-0.042333</td>\n",
       "      <td>1.000000</td>\n",
       "      <td>0.488312</td>\n",
       "      <td>-0.021342</td>\n",
       "      <td>0.421861</td>\n",
       "      <td>0.617652</td>\n",
       "    </tr>\n",
       "    <tr>\n",
       "      <th>ict_index</th>\n",
       "      <td>-0.133911</td>\n",
       "      <td>0.837944</td>\n",
       "      <td>0.776881</td>\n",
       "      <td>0.814954</td>\n",
       "      <td>0.475816</td>\n",
       "      <td>0.764820</td>\n",
       "      <td>0.568488</td>\n",
       "      <td>0.168729</td>\n",
       "      <td>0.488312</td>\n",
       "      <td>1.000000</td>\n",
       "      <td>0.541911</td>\n",
       "      <td>0.645784</td>\n",
       "      <td>0.626344</td>\n",
       "    </tr>\n",
       "    <tr>\n",
       "      <th>position_index</th>\n",
       "      <td>-0.170815</td>\n",
       "      <td>0.670737</td>\n",
       "      <td>0.468019</td>\n",
       "      <td>0.224560</td>\n",
       "      <td>-0.182967</td>\n",
       "      <td>0.286485</td>\n",
       "      <td>-0.195381</td>\n",
       "      <td>-0.176006</td>\n",
       "      <td>-0.021342</td>\n",
       "      <td>0.541911</td>\n",
       "      <td>1.000000</td>\n",
       "      <td>0.499398</td>\n",
       "      <td>0.105129</td>\n",
       "    </tr>\n",
       "    <tr>\n",
       "      <th>fpl_to_game</th>\n",
       "      <td>-0.087252</td>\n",
       "      <td>0.712972</td>\n",
       "      <td>0.665973</td>\n",
       "      <td>0.703978</td>\n",
       "      <td>0.012693</td>\n",
       "      <td>0.697524</td>\n",
       "      <td>0.347995</td>\n",
       "      <td>-0.376362</td>\n",
       "      <td>0.421861</td>\n",
       "      <td>0.645784</td>\n",
       "      <td>0.499398</td>\n",
       "      <td>1.000000</td>\n",
       "      <td>0.550132</td>\n",
       "    </tr>\n",
       "    <tr>\n",
       "      <th>selected_by_percent</th>\n",
       "      <td>-0.084559</td>\n",
       "      <td>0.551136</td>\n",
       "      <td>0.567071</td>\n",
       "      <td>0.793061</td>\n",
       "      <td>0.472002</td>\n",
       "      <td>0.739780</td>\n",
       "      <td>0.664929</td>\n",
       "      <td>0.015922</td>\n",
       "      <td>0.617652</td>\n",
       "      <td>0.626344</td>\n",
       "      <td>0.105129</td>\n",
       "      <td>0.550132</td>\n",
       "      <td>1.000000</td>\n",
       "    </tr>\n",
       "  </tbody>\n",
       "</table>\n",
       "</div>"
      ],
      "text/plain": [
       "                          age  goals_scored   assists  total_points  \\\n",
       "age                  1.000000     -0.064876 -0.170670     -0.080101   \n",
       "goals_scored        -0.064876      1.000000  0.596603      0.689291   \n",
       "assists             -0.170670      0.596603  1.000000      0.641911   \n",
       "total_points        -0.080101      0.689291  0.641911      1.000000   \n",
       "minutes.played      -0.029226      0.217135  0.197061      0.683910   \n",
       "bonus               -0.013376      0.722603  0.611768      0.867632   \n",
       "bps                  0.001951      0.327174  0.371209      0.839868   \n",
       "goals_conceded      -0.006915      0.002309 -0.061416      0.163526   \n",
       "clean_sheets        -0.041873      0.303463  0.360570      0.763539   \n",
       "ict_index           -0.133911      0.837944  0.776881      0.814954   \n",
       "position_index      -0.170815      0.670737  0.468019      0.224560   \n",
       "fpl_to_game         -0.087252      0.712972  0.665973      0.703978   \n",
       "selected_by_percent -0.084559      0.551136  0.567071      0.793061   \n",
       "\n",
       "                     minutes.played     bonus       bps  goals_conceded  \\\n",
       "age                       -0.029226 -0.013376  0.001951       -0.006915   \n",
       "goals_scored               0.217135  0.722603  0.327174        0.002309   \n",
       "assists                    0.197061  0.611768  0.371209       -0.061416   \n",
       "total_points               0.683910  0.867632  0.839868        0.163526   \n",
       "minutes.played             1.000000  0.480045  0.856772        0.679005   \n",
       "bonus                      0.480045  1.000000  0.710354        0.098181   \n",
       "bps                        0.856772  0.710354  1.000000        0.359342   \n",
       "goals_conceded             0.679005  0.098181  0.359342        1.000000   \n",
       "clean_sheets               0.631515  0.540434  0.755405       -0.042333   \n",
       "ict_index                  0.475816  0.764820  0.568488        0.168729   \n",
       "position_index            -0.182967  0.286485 -0.195381       -0.176006   \n",
       "fpl_to_game                0.012693  0.697524  0.347995       -0.376362   \n",
       "selected_by_percent        0.472002  0.739780  0.664929        0.015922   \n",
       "\n",
       "                     clean_sheets  ict_index  position_index  fpl_to_game  \\\n",
       "age                     -0.041873  -0.133911       -0.170815    -0.087252   \n",
       "goals_scored             0.303463   0.837944        0.670737     0.712972   \n",
       "assists                  0.360570   0.776881        0.468019     0.665973   \n",
       "total_points             0.763539   0.814954        0.224560     0.703978   \n",
       "minutes.played           0.631515   0.475816       -0.182967     0.012693   \n",
       "bonus                    0.540434   0.764820        0.286485     0.697524   \n",
       "bps                      0.755405   0.568488       -0.195381     0.347995   \n",
       "goals_conceded          -0.042333   0.168729       -0.176006    -0.376362   \n",
       "clean_sheets             1.000000   0.488312       -0.021342     0.421861   \n",
       "ict_index                0.488312   1.000000        0.541911     0.645784   \n",
       "position_index          -0.021342   0.541911        1.000000     0.499398   \n",
       "fpl_to_game              0.421861   0.645784        0.499398     1.000000   \n",
       "selected_by_percent      0.617652   0.626344        0.105129     0.550132   \n",
       "\n",
       "                     selected_by_percent  \n",
       "age                            -0.084559  \n",
       "goals_scored                    0.551136  \n",
       "assists                         0.567071  \n",
       "total_points                    0.793061  \n",
       "minutes.played                  0.472002  \n",
       "bonus                           0.739780  \n",
       "bps                             0.664929  \n",
       "goals_conceded                  0.015922  \n",
       "clean_sheets                    0.617652  \n",
       "ict_index                       0.626344  \n",
       "position_index                  0.105129  \n",
       "fpl_to_game                     0.550132  \n",
       "selected_by_percent             1.000000  "
      ]
     },
     "execution_count": 52,
     "metadata": {},
     "output_type": "execute_result"
    }
   ],
   "source": [
    "s19_new.corr()"
   ]
  },
  {
   "cell_type": "code",
   "execution_count": 53,
   "metadata": {
    "collapsed": true
   },
   "outputs": [],
   "source": [
    "s19_x, s19_y, s19_xm, s19_xtrain, s19_xtest, s19_ytrain, s19_ytest, s19_xtrain_new, s19_xtest_new = split_data(s19_new)"
   ]
  },
  {
   "cell_type": "code",
   "execution_count": 54,
   "metadata": {
    "collapsed": true
   },
   "outputs": [],
   "source": [
    "model3 = make_pipeline(PolynomialFeatures(), LinearRegression())"
   ]
  },
  {
   "cell_type": "code",
   "execution_count": 55,
   "metadata": {},
   "outputs": [
    {
     "data": {
      "image/png": "[encoded data removed]",
      "text/plain": [
       "<matplotlib.figure.Figure at 0x2b5ccd777438>"
      ]
     },
     "metadata": {},
     "output_type": "display_data"
    }
   ],
   "source": [
    "val_curve(model3, s19_xm, s19_y)"
   ]
  },
  {
   "cell_type": "code",
   "execution_count": 56,
   "metadata": {
    "collapsed": true
   },
   "outputs": [],
   "source": [
    "model3 = make_pipeline(PolynomialFeatures(best_degree(model3, s19_xm, s19_y)), LinearRegression())"
   ]
  },
  {
   "cell_type": "code",
   "execution_count": 57,
   "metadata": {
    "collapsed": true
   },
   "outputs": [],
   "source": [
    "model3.fit(s19_xtrain_new, s19_ytrain);"
   ]
  },
  {
   "cell_type": "code",
   "execution_count": 58,
   "metadata": {
    "collapsed": true
   },
   "outputs": [],
   "source": [
    "s19_pred = model3.predict(s19_xtest_new)"
   ]
  },
  {
   "cell_type": "code",
   "execution_count": 59,
   "metadata": {},
   "outputs": [
    {
     "data": {
      "text/plain": [
       "0.93057701408268934"
      ]
     },
     "execution_count": 59,
     "metadata": {},
     "output_type": "execute_result"
    }
   ],
   "source": [
    "r2_score(s19_pred, s19_ytest)"
   ]
  },
  {
   "cell_type": "code",
   "execution_count": 60,
   "metadata": {},
   "outputs": [
    {
     "data": {
      "text/plain": [
       "array([ 0.66616808,  0.8994163 ,  0.88764865,  0.90896155,  0.84417865])"
      ]
     },
     "execution_count": 60,
     "metadata": {},
     "output_type": "execute_result"
    }
   ],
   "source": [
    "scores19 = cross_val_score(model3, s19_xm, s19_y, cv = 5)\n",
    "scores19"
   ]
  },
  {
   "cell_type": "code",
   "execution_count": 61,
   "metadata": {},
   "outputs": [
    {
     "data": {
      "text/plain": [
       "0.84127464742544755"
      ]
     },
     "execution_count": 61,
     "metadata": {},
     "output_type": "execute_result"
    }
   ],
   "source": [
    "scores19.mean()"
   ]
  },
  {
   "cell_type": "code",
   "execution_count": 62,
   "metadata": {},
   "outputs": [
    {
     "data": {
      "text/html": [
       "<div>\n",
       "<style>\n",
       "    .dataframe thead tr:only-child th {\n",
       "        text-align: right;\n",
       "    }\n",
       "\n",
       "    .dataframe thead th {\n",
       "        text-align: left;\n",
       "    }\n",
       "\n",
       "    .dataframe tbody tr th {\n",
       "        vertical-align: top;\n",
       "    }\n",
       "</style>\n",
       "<table border=\"1\" class=\"dataframe\">\n",
       "  <thead>\n",
       "    <tr style=\"text-align: right;\">\n",
       "      <th></th>\n",
       "      <th>player_name</th>\n",
       "      <th>ict_index</th>\n",
       "      <th>selected_by_percent</th>\n",
       "      <th>bps</th>\n",
       "      <th>position_index</th>\n",
       "      <th>minutes.played</th>\n",
       "      <th>total_points</th>\n",
       "      <th>fpl_to_game</th>\n",
       "      <th>pred_points</th>\n",
       "      <th>fpl_to_game pred</th>\n",
       "    </tr>\n",
       "  </thead>\n",
       "  <tbody>\n",
       "    <tr>\n",
       "      <th>0</th>\n",
       "      <td>Vicente Guaita</td>\n",
       "      <td>44.8</td>\n",
       "      <td>2.4</td>\n",
       "      <td>378</td>\n",
       "      <td>1</td>\n",
       "      <td>1754</td>\n",
       "      <td>81</td>\n",
       "      <td>4.156214</td>\n",
       "      <td>66.606618</td>\n",
       "      <td>3.417671</td>\n",
       "    </tr>\n",
       "    <tr>\n",
       "      <th>1</th>\n",
       "      <td>Bruno Saltor Grau</td>\n",
       "      <td>29.8</td>\n",
       "      <td>0.3</td>\n",
       "      <td>229</td>\n",
       "      <td>2</td>\n",
       "      <td>1131</td>\n",
       "      <td>46</td>\n",
       "      <td>3.660477</td>\n",
       "      <td>41.124371</td>\n",
       "      <td>3.272496</td>\n",
       "    </tr>\n",
       "    <tr>\n",
       "      <th>2</th>\n",
       "      <td>Nampalys Mendy</td>\n",
       "      <td>39.5</td>\n",
       "      <td>0.9</td>\n",
       "      <td>291</td>\n",
       "      <td>3</td>\n",
       "      <td>2085</td>\n",
       "      <td>58</td>\n",
       "      <td>2.503597</td>\n",
       "      <td>52.805452</td>\n",
       "      <td>2.279372</td>\n",
       "    </tr>\n",
       "    <tr>\n",
       "      <th>3</th>\n",
       "      <td>DeAndre Yedlin</td>\n",
       "      <td>95.8</td>\n",
       "      <td>0.9</td>\n",
       "      <td>325</td>\n",
       "      <td>2</td>\n",
       "      <td>2472</td>\n",
       "      <td>63</td>\n",
       "      <td>2.293689</td>\n",
       "      <td>59.353472</td>\n",
       "      <td>2.160927</td>\n",
       "    </tr>\n",
       "    <tr>\n",
       "      <th>4</th>\n",
       "      <td>Mathew Ryan</td>\n",
       "      <td>70.9</td>\n",
       "      <td>4.9</td>\n",
       "      <td>547</td>\n",
       "      <td>1</td>\n",
       "      <td>3060</td>\n",
       "      <td>104</td>\n",
       "      <td>3.058824</td>\n",
       "      <td>103.297094</td>\n",
       "      <td>3.038150</td>\n",
       "    </tr>\n",
       "  </tbody>\n",
       "</table>\n",
       "</div>"
      ],
      "text/plain": [
       "         player_name  ict_index  selected_by_percent  bps  position_index  \\\n",
       "0     Vicente Guaita       44.8                  2.4  378               1   \n",
       "1  Bruno Saltor Grau       29.8                  0.3  229               2   \n",
       "2     Nampalys Mendy       39.5                  0.9  291               3   \n",
       "3     DeAndre Yedlin       95.8                  0.9  325               2   \n",
       "4        Mathew Ryan       70.9                  4.9  547               1   \n",
       "\n",
       "   minutes.played  total_points  fpl_to_game  pred_points  fpl_to_game pred  \n",
       "0            1754            81     4.156214    66.606618          3.417671  \n",
       "1            1131            46     3.660477    41.124371          3.272496  \n",
       "2            2085            58     2.503597    52.805452          2.279372  \n",
       "3            2472            63     2.293689    59.353472          2.160927  \n",
       "4            3060           104     3.058824   103.297094          3.038150  "
      ]
     },
     "execution_count": 62,
     "metadata": {},
     "output_type": "execute_result"
    }
   ],
   "source": [
    "new_output(s19_xtest, s19_ytest, s19_pred)"
   ]
  },
  {
   "cell_type": "markdown",
   "metadata": {},
   "source": [
    "## Combining the three seasons"
   ]
  },
  {
   "cell_type": "code",
   "execution_count": 63,
   "metadata": {},
   "outputs": [
    {
     "data": {
      "text/plain": [
       "(631, 28)"
      ]
     },
     "execution_count": 63,
     "metadata": {},
     "output_type": "execute_result"
    }
   ],
   "source": [
    "s17.shape"
   ]
  },
  {
   "cell_type": "code",
   "execution_count": 64,
   "metadata": {},
   "outputs": [
    {
     "data": {
      "text/plain": [
       "(580, 29)"
      ]
     },
     "execution_count": 64,
     "metadata": {},
     "output_type": "execute_result"
    }
   ],
   "source": [
    "s18.shape"
   ]
  },
  {
   "cell_type": "code",
   "execution_count": 65,
   "metadata": {},
   "outputs": [
    {
     "data": {
      "text/plain": [
       "(461, 29)"
      ]
     },
     "execution_count": 65,
     "metadata": {},
     "output_type": "execute_result"
    }
   ],
   "source": [
    "s19.shape"
   ]
  },
  {
   "cell_type": "code",
   "execution_count": 66,
   "metadata": {},
   "outputs": [
    {
     "data": {
      "text/plain": [
       "Index(['player_name', 'position', 'date_of_birth', 'age', 'nationality',\n",
       "       'club_name', 'league_name', 'season', 'year', 'first_name',\n",
       "       'second_name', 'goals_scored', 'assists', 'total_points',\n",
       "       'minutes.played', 'goals_conceded', 'creativity', 'influence', 'threat',\n",
       "       'bonus', 'bps', 'ict_index', 'clean_sheets', 'red_cards',\n",
       "       'yellow_cards', 'selected_by_percent', 'position_index', 'fpl_to_game'],\n",
       "      dtype='object')"
      ]
     },
     "execution_count": 66,
     "metadata": {},
     "output_type": "execute_result"
    }
   ],
   "source": [
    "s17.columns"
   ]
  },
  {
   "cell_type": "code",
   "execution_count": 67,
   "metadata": {},
   "outputs": [
    {
     "data": {
      "text/plain": [
       "Index(['player_name', 'position', 'date_of_birth', 'age', 'nationality',\n",
       "       'club_name', 'league_name', 'season', 'year', 'first_name',\n",
       "       'second_name', 'goals_scored', 'assists', 'total_points',\n",
       "       'minutes.played', 'goals_conceded', 'creativity', 'influence', 'threat',\n",
       "       'bonus', 'bps', 'ict_index', 'clean_sheets', 'red_cards',\n",
       "       'yellow_cards', 'selected_by_percent', 'now_cost', 'position_index',\n",
       "       'fpl_to_game'],\n",
       "      dtype='object')"
      ]
     },
     "execution_count": 67,
     "metadata": {},
     "output_type": "execute_result"
    }
   ],
   "source": [
    "s18.columns"
   ]
  },
  {
   "cell_type": "code",
   "execution_count": 68,
   "metadata": {
    "collapsed": true
   },
   "outputs": [],
   "source": [
    "s17_c = s17.copy()\n",
    "s18_c = s18.drop('now_cost', axis = 1).copy()\n",
    "s19_c = s19.drop('now_cost', axis = 1).copy()"
   ]
  },
  {
   "cell_type": "code",
   "execution_count": 69,
   "metadata": {
    "collapsed": true
   },
   "outputs": [],
   "source": [
    "seasons = pd.concat([s17_c,s18_c,s19_c], axis = 0)"
   ]
  },
  {
   "cell_type": "code",
   "execution_count": 70,
   "metadata": {},
   "outputs": [
    {
     "data": {
      "text/plain": [
       "(1672, 28)"
      ]
     },
     "execution_count": 70,
     "metadata": {},
     "output_type": "execute_result"
    }
   ],
   "source": [
    "seasons.shape"
   ]
  },
  {
   "cell_type": "code",
   "execution_count": 71,
   "metadata": {},
   "outputs": [
    {
     "data": {
      "text/html": [
       "<div>\n",
       "<style>\n",
       "    .dataframe thead tr:only-child th {\n",
       "        text-align: right;\n",
       "    }\n",
       "\n",
       "    .dataframe thead th {\n",
       "        text-align: left;\n",
       "    }\n",
       "\n",
       "    .dataframe tbody tr th {\n",
       "        vertical-align: top;\n",
       "    }\n",
       "</style>\n",
       "<table border=\"1\" class=\"dataframe\">\n",
       "  <thead>\n",
       "    <tr style=\"text-align: right;\">\n",
       "      <th></th>\n",
       "      <th>player_name</th>\n",
       "      <th>position</th>\n",
       "      <th>date_of_birth</th>\n",
       "      <th>age</th>\n",
       "      <th>nationality</th>\n",
       "      <th>club_name</th>\n",
       "      <th>league_name</th>\n",
       "      <th>season</th>\n",
       "      <th>year</th>\n",
       "      <th>first_name</th>\n",
       "      <th>...</th>\n",
       "      <th>threat</th>\n",
       "      <th>bonus</th>\n",
       "      <th>bps</th>\n",
       "      <th>ict_index</th>\n",
       "      <th>clean_sheets</th>\n",
       "      <th>red_cards</th>\n",
       "      <th>yellow_cards</th>\n",
       "      <th>selected_by_percent</th>\n",
       "      <th>position_index</th>\n",
       "      <th>fpl_to_game</th>\n",
       "    </tr>\n",
       "  </thead>\n",
       "  <tbody>\n",
       "    <tr>\n",
       "      <th>0</th>\n",
       "      <td>Joe Hart</td>\n",
       "      <td>Goalkeeper</td>\n",
       "      <td>1987-04-19T00:00:00Z</td>\n",
       "      <td>29</td>\n",
       "      <td>England</td>\n",
       "      <td>Manchester City</td>\n",
       "      <td>Premier League</td>\n",
       "      <td>2016/2017</td>\n",
       "      <td>2016</td>\n",
       "      <td>Joe</td>\n",
       "      <td>...</td>\n",
       "      <td>0</td>\n",
       "      <td>0.0</td>\n",
       "      <td>0</td>\n",
       "      <td>0.0</td>\n",
       "      <td>0</td>\n",
       "      <td>0</td>\n",
       "      <td>0</td>\n",
       "      <td>1.0</td>\n",
       "      <td>1</td>\n",
       "      <td>NaN</td>\n",
       "    </tr>\n",
       "    <tr>\n",
       "      <th>1</th>\n",
       "      <td>Claudio Bravo</td>\n",
       "      <td>Goalkeeper</td>\n",
       "      <td>1983-04-13T00:00:00Z</td>\n",
       "      <td>33</td>\n",
       "      <td>Chile</td>\n",
       "      <td>Manchester City</td>\n",
       "      <td>Premier League</td>\n",
       "      <td>2016/2017</td>\n",
       "      <td>2016</td>\n",
       "      <td>Claudio</td>\n",
       "      <td>...</td>\n",
       "      <td>0</td>\n",
       "      <td>3.0</td>\n",
       "      <td>366</td>\n",
       "      <td>28.9</td>\n",
       "      <td>6</td>\n",
       "      <td>0</td>\n",
       "      <td>0</td>\n",
       "      <td>1.2</td>\n",
       "      <td>1</td>\n",
       "      <td>3.338415</td>\n",
       "    </tr>\n",
       "    <tr>\n",
       "      <th>2</th>\n",
       "      <td>Willy Caballero</td>\n",
       "      <td>Goalkeeper</td>\n",
       "      <td>1981-09-28T00:00:00Z</td>\n",
       "      <td>34</td>\n",
       "      <td>Argentina</td>\n",
       "      <td>Manchester City</td>\n",
       "      <td>Premier League</td>\n",
       "      <td>2016/2017</td>\n",
       "      <td>2016</td>\n",
       "      <td>Willy</td>\n",
       "      <td>...</td>\n",
       "      <td>0</td>\n",
       "      <td>1.0</td>\n",
       "      <td>295</td>\n",
       "      <td>26.8</td>\n",
       "      <td>6</td>\n",
       "      <td>0</td>\n",
       "      <td>0</td>\n",
       "      <td>3.8</td>\n",
       "      <td>1</td>\n",
       "      <td>3.966942</td>\n",
       "    </tr>\n",
       "    <tr>\n",
       "      <th>3</th>\n",
       "      <td>Angus Gunn</td>\n",
       "      <td>Goalkeeper</td>\n",
       "      <td>1996-01-22T00:00:00Z</td>\n",
       "      <td>20</td>\n",
       "      <td>England</td>\n",
       "      <td>Manchester City</td>\n",
       "      <td>Premier League</td>\n",
       "      <td>2016/2017</td>\n",
       "      <td>2016</td>\n",
       "      <td>Angus</td>\n",
       "      <td>...</td>\n",
       "      <td>0</td>\n",
       "      <td>0.0</td>\n",
       "      <td>0</td>\n",
       "      <td>0.0</td>\n",
       "      <td>0</td>\n",
       "      <td>0</td>\n",
       "      <td>0</td>\n",
       "      <td>0.0</td>\n",
       "      <td>1</td>\n",
       "      <td>NaN</td>\n",
       "    </tr>\n",
       "    <tr>\n",
       "      <th>4</th>\n",
       "      <td>Nicolás Otamendi</td>\n",
       "      <td>Centre-Back</td>\n",
       "      <td>1988-02-12T00:00:00Z</td>\n",
       "      <td>28</td>\n",
       "      <td>Argentina</td>\n",
       "      <td>Manchester City</td>\n",
       "      <td>Premier League</td>\n",
       "      <td>2016/2017</td>\n",
       "      <td>2016</td>\n",
       "      <td>Nicolás</td>\n",
       "      <td>...</td>\n",
       "      <td>276</td>\n",
       "      <td>10.0</td>\n",
       "      <td>640</td>\n",
       "      <td>117.6</td>\n",
       "      <td>9</td>\n",
       "      <td>0</td>\n",
       "      <td>9</td>\n",
       "      <td>3.2</td>\n",
       "      <td>2</td>\n",
       "      <td>3.472222</td>\n",
       "    </tr>\n",
       "  </tbody>\n",
       "</table>\n",
       "<p>5 rows × 28 columns</p>\n",
       "</div>"
      ],
      "text/plain": [
       "        player_name     position         date_of_birth  age nationality  \\\n",
       "0          Joe Hart   Goalkeeper  1987-04-19T00:00:00Z   29     England   \n",
       "1     Claudio Bravo   Goalkeeper  1983-04-13T00:00:00Z   33       Chile   \n",
       "2   Willy Caballero   Goalkeeper  1981-09-28T00:00:00Z   34   Argentina   \n",
       "3        Angus Gunn   Goalkeeper  1996-01-22T00:00:00Z   20     England   \n",
       "4  Nicolás Otamendi  Centre-Back  1988-02-12T00:00:00Z   28   Argentina   \n",
       "\n",
       "         club_name     league_name     season  year first_name     ...       \\\n",
       "0  Manchester City  Premier League  2016/2017  2016        Joe     ...        \n",
       "1  Manchester City  Premier League  2016/2017  2016    Claudio     ...        \n",
       "2  Manchester City  Premier League  2016/2017  2016      Willy     ...        \n",
       "3  Manchester City  Premier League  2016/2017  2016      Angus     ...        \n",
       "4  Manchester City  Premier League  2016/2017  2016    Nicolás     ...        \n",
       "\n",
       "  threat  bonus  bps  ict_index  clean_sheets  red_cards  yellow_cards  \\\n",
       "0      0    0.0    0        0.0             0          0             0   \n",
       "1      0    3.0  366       28.9             6          0             0   \n",
       "2      0    1.0  295       26.8             6          0             0   \n",
       "3      0    0.0    0        0.0             0          0             0   \n",
       "4    276   10.0  640      117.6             9          0             9   \n",
       "\n",
       "   selected_by_percent  position_index  fpl_to_game  \n",
       "0                  1.0               1          NaN  \n",
       "1                  1.2               1     3.338415  \n",
       "2                  3.8               1     3.966942  \n",
       "3                  0.0               1          NaN  \n",
       "4                  3.2               2     3.472222  \n",
       "\n",
       "[5 rows x 28 columns]"
      ]
     },
     "execution_count": 71,
     "metadata": {},
     "output_type": "execute_result"
    }
   ],
   "source": [
    "seasons.head()"
   ]
  },
  {
   "cell_type": "code",
   "execution_count": 72,
   "metadata": {},
   "outputs": [
    {
     "data": {
      "text/plain": [
       "(884, 28)"
      ]
     },
     "execution_count": 72,
     "metadata": {},
     "output_type": "execute_result"
    }
   ],
   "source": [
    "seasons = seasons[seasons['minutes.played'] >= 1000]\n",
    "seasons.shape"
   ]
  },
  {
   "cell_type": "code",
   "execution_count": 73,
   "metadata": {
    "collapsed": true
   },
   "outputs": [],
   "source": [
    "seasons_new = seasons[['player_name','age', 'goals_scored','assists','total_points','minutes.played','bonus','bps','goals_conceded', 'clean_sheets','ict_index','position_index','fpl_to_game','selected_by_percent']]\n"
   ]
  },
  {
   "cell_type": "code",
   "execution_count": 74,
   "metadata": {},
   "outputs": [
    {
     "data": {
      "text/html": [
       "<div>\n",
       "<style>\n",
       "    .dataframe thead tr:only-child th {\n",
       "        text-align: right;\n",
       "    }\n",
       "\n",
       "    .dataframe thead th {\n",
       "        text-align: left;\n",
       "    }\n",
       "\n",
       "    .dataframe tbody tr th {\n",
       "        vertical-align: top;\n",
       "    }\n",
       "</style>\n",
       "<table border=\"1\" class=\"dataframe\">\n",
       "  <thead>\n",
       "    <tr style=\"text-align: right;\">\n",
       "      <th></th>\n",
       "      <th>age</th>\n",
       "      <th>goals_scored</th>\n",
       "      <th>assists</th>\n",
       "      <th>total_points</th>\n",
       "      <th>minutes.played</th>\n",
       "      <th>bonus</th>\n",
       "      <th>bps</th>\n",
       "      <th>goals_conceded</th>\n",
       "      <th>clean_sheets</th>\n",
       "      <th>ict_index</th>\n",
       "      <th>position_index</th>\n",
       "      <th>fpl_to_game</th>\n",
       "      <th>selected_by_percent</th>\n",
       "    </tr>\n",
       "  </thead>\n",
       "  <tbody>\n",
       "    <tr>\n",
       "      <th>age</th>\n",
       "      <td>1.000000</td>\n",
       "      <td>-0.067953</td>\n",
       "      <td>-0.159127</td>\n",
       "      <td>-0.035068</td>\n",
       "      <td>0.070383</td>\n",
       "      <td>-0.007445</td>\n",
       "      <td>0.046818</td>\n",
       "      <td>0.108092</td>\n",
       "      <td>-0.036911</td>\n",
       "      <td>-0.107661</td>\n",
       "      <td>-0.173494</td>\n",
       "      <td>-0.108476</td>\n",
       "      <td>-0.041960</td>\n",
       "    </tr>\n",
       "    <tr>\n",
       "      <th>goals_scored</th>\n",
       "      <td>-0.067953</td>\n",
       "      <td>1.000000</td>\n",
       "      <td>0.534600</td>\n",
       "      <td>0.685531</td>\n",
       "      <td>0.182234</td>\n",
       "      <td>0.714781</td>\n",
       "      <td>0.322073</td>\n",
       "      <td>0.003868</td>\n",
       "      <td>0.285441</td>\n",
       "      <td>0.807876</td>\n",
       "      <td>0.626781</td>\n",
       "      <td>0.716571</td>\n",
       "      <td>0.597053</td>\n",
       "    </tr>\n",
       "    <tr>\n",
       "      <th>assists</th>\n",
       "      <td>-0.159127</td>\n",
       "      <td>0.534600</td>\n",
       "      <td>1.000000</td>\n",
       "      <td>0.611509</td>\n",
       "      <td>0.190967</td>\n",
       "      <td>0.550504</td>\n",
       "      <td>0.341650</td>\n",
       "      <td>-0.026453</td>\n",
       "      <td>0.336028</td>\n",
       "      <td>0.769264</td>\n",
       "      <td>0.462689</td>\n",
       "      <td>0.624004</td>\n",
       "      <td>0.445923</td>\n",
       "    </tr>\n",
       "    <tr>\n",
       "      <th>total_points</th>\n",
       "      <td>-0.035068</td>\n",
       "      <td>0.685531</td>\n",
       "      <td>0.611509</td>\n",
       "      <td>1.000000</td>\n",
       "      <td>0.679002</td>\n",
       "      <td>0.850913</td>\n",
       "      <td>0.835794</td>\n",
       "      <td>0.219947</td>\n",
       "      <td>0.746538</td>\n",
       "      <td>0.817869</td>\n",
       "      <td>0.184740</td>\n",
       "      <td>0.682704</td>\n",
       "      <td>0.774669</td>\n",
       "    </tr>\n",
       "    <tr>\n",
       "      <th>minutes.played</th>\n",
       "      <td>0.070383</td>\n",
       "      <td>0.182234</td>\n",
       "      <td>0.190967</td>\n",
       "      <td>0.679002</td>\n",
       "      <td>1.000000</td>\n",
       "      <td>0.453426</td>\n",
       "      <td>0.851663</td>\n",
       "      <td>0.706341</td>\n",
       "      <td>0.638182</td>\n",
       "      <td>0.473240</td>\n",
       "      <td>-0.208861</td>\n",
       "      <td>-0.022252</td>\n",
       "      <td>0.443955</td>\n",
       "    </tr>\n",
       "    <tr>\n",
       "      <th>bonus</th>\n",
       "      <td>-0.007445</td>\n",
       "      <td>0.714781</td>\n",
       "      <td>0.550504</td>\n",
       "      <td>0.850913</td>\n",
       "      <td>0.453426</td>\n",
       "      <td>1.000000</td>\n",
       "      <td>0.693606</td>\n",
       "      <td>0.124943</td>\n",
       "      <td>0.519416</td>\n",
       "      <td>0.749660</td>\n",
       "      <td>0.257515</td>\n",
       "      <td>0.685851</td>\n",
       "      <td>0.710101</td>\n",
       "    </tr>\n",
       "    <tr>\n",
       "      <th>bps</th>\n",
       "      <td>0.046818</td>\n",
       "      <td>0.322073</td>\n",
       "      <td>0.341650</td>\n",
       "      <td>0.835794</td>\n",
       "      <td>0.851663</td>\n",
       "      <td>0.693606</td>\n",
       "      <td>1.000000</td>\n",
       "      <td>0.410067</td>\n",
       "      <td>0.755726</td>\n",
       "      <td>0.573971</td>\n",
       "      <td>-0.231393</td>\n",
       "      <td>0.321609</td>\n",
       "      <td>0.635613</td>\n",
       "    </tr>\n",
       "    <tr>\n",
       "      <th>goals_conceded</th>\n",
       "      <td>0.108092</td>\n",
       "      <td>0.003868</td>\n",
       "      <td>-0.026453</td>\n",
       "      <td>0.219947</td>\n",
       "      <td>0.706341</td>\n",
       "      <td>0.124943</td>\n",
       "      <td>0.410067</td>\n",
       "      <td>1.000000</td>\n",
       "      <td>0.000266</td>\n",
       "      <td>0.183861</td>\n",
       "      <td>-0.179574</td>\n",
       "      <td>-0.351936</td>\n",
       "      <td>0.047165</td>\n",
       "    </tr>\n",
       "    <tr>\n",
       "      <th>clean_sheets</th>\n",
       "      <td>-0.036911</td>\n",
       "      <td>0.285441</td>\n",
       "      <td>0.336028</td>\n",
       "      <td>0.746538</td>\n",
       "      <td>0.638182</td>\n",
       "      <td>0.519416</td>\n",
       "      <td>0.755726</td>\n",
       "      <td>0.000266</td>\n",
       "      <td>1.000000</td>\n",
       "      <td>0.506029</td>\n",
       "      <td>-0.044252</td>\n",
       "      <td>0.388548</td>\n",
       "      <td>0.574506</td>\n",
       "    </tr>\n",
       "    <tr>\n",
       "      <th>ict_index</th>\n",
       "      <td>-0.107661</td>\n",
       "      <td>0.807876</td>\n",
       "      <td>0.769264</td>\n",
       "      <td>0.817869</td>\n",
       "      <td>0.473240</td>\n",
       "      <td>0.749660</td>\n",
       "      <td>0.573971</td>\n",
       "      <td>0.183861</td>\n",
       "      <td>0.506029</td>\n",
       "      <td>1.000000</td>\n",
       "      <td>0.510643</td>\n",
       "      <td>0.624643</td>\n",
       "      <td>0.611718</td>\n",
       "    </tr>\n",
       "    <tr>\n",
       "      <th>position_index</th>\n",
       "      <td>-0.173494</td>\n",
       "      <td>0.626781</td>\n",
       "      <td>0.462689</td>\n",
       "      <td>0.184740</td>\n",
       "      <td>-0.208861</td>\n",
       "      <td>0.257515</td>\n",
       "      <td>-0.231393</td>\n",
       "      <td>-0.179574</td>\n",
       "      <td>-0.044252</td>\n",
       "      <td>0.510643</td>\n",
       "      <td>1.000000</td>\n",
       "      <td>0.467317</td>\n",
       "      <td>0.096986</td>\n",
       "    </tr>\n",
       "    <tr>\n",
       "      <th>fpl_to_game</th>\n",
       "      <td>-0.108476</td>\n",
       "      <td>0.716571</td>\n",
       "      <td>0.624004</td>\n",
       "      <td>0.682704</td>\n",
       "      <td>-0.022252</td>\n",
       "      <td>0.685851</td>\n",
       "      <td>0.321609</td>\n",
       "      <td>-0.351936</td>\n",
       "      <td>0.388548</td>\n",
       "      <td>0.624643</td>\n",
       "      <td>0.467317</td>\n",
       "      <td>1.000000</td>\n",
       "      <td>0.535382</td>\n",
       "    </tr>\n",
       "    <tr>\n",
       "      <th>selected_by_percent</th>\n",
       "      <td>-0.041960</td>\n",
       "      <td>0.597053</td>\n",
       "      <td>0.445923</td>\n",
       "      <td>0.774669</td>\n",
       "      <td>0.443955</td>\n",
       "      <td>0.710101</td>\n",
       "      <td>0.635613</td>\n",
       "      <td>0.047165</td>\n",
       "      <td>0.574506</td>\n",
       "      <td>0.611718</td>\n",
       "      <td>0.096986</td>\n",
       "      <td>0.535382</td>\n",
       "      <td>1.000000</td>\n",
       "    </tr>\n",
       "  </tbody>\n",
       "</table>\n",
       "</div>"
      ],
      "text/plain": [
       "                          age  goals_scored   assists  total_points  \\\n",
       "age                  1.000000     -0.067953 -0.159127     -0.035068   \n",
       "goals_scored        -0.067953      1.000000  0.534600      0.685531   \n",
       "assists             -0.159127      0.534600  1.000000      0.611509   \n",
       "total_points        -0.035068      0.685531  0.611509      1.000000   \n",
       "minutes.played       0.070383      0.182234  0.190967      0.679002   \n",
       "bonus               -0.007445      0.714781  0.550504      0.850913   \n",
       "bps                  0.046818      0.322073  0.341650      0.835794   \n",
       "goals_conceded       0.108092      0.003868 -0.026453      0.219947   \n",
       "clean_sheets        -0.036911      0.285441  0.336028      0.746538   \n",
       "ict_index           -0.107661      0.807876  0.769264      0.817869   \n",
       "position_index      -0.173494      0.626781  0.462689      0.184740   \n",
       "fpl_to_game         -0.108476      0.716571  0.624004      0.682704   \n",
       "selected_by_percent -0.041960      0.597053  0.445923      0.774669   \n",
       "\n",
       "                     minutes.played     bonus       bps  goals_conceded  \\\n",
       "age                        0.070383 -0.007445  0.046818        0.108092   \n",
       "goals_scored               0.182234  0.714781  0.322073        0.003868   \n",
       "assists                    0.190967  0.550504  0.341650       -0.026453   \n",
       "total_points               0.679002  0.850913  0.835794        0.219947   \n",
       "minutes.played             1.000000  0.453426  0.851663        0.706341   \n",
       "bonus                      0.453426  1.000000  0.693606        0.124943   \n",
       "bps                        0.851663  0.693606  1.000000        0.410067   \n",
       "goals_conceded             0.706341  0.124943  0.410067        1.000000   \n",
       "clean_sheets               0.638182  0.519416  0.755726        0.000266   \n",
       "ict_index                  0.473240  0.749660  0.573971        0.183861   \n",
       "position_index            -0.208861  0.257515 -0.231393       -0.179574   \n",
       "fpl_to_game               -0.022252  0.685851  0.321609       -0.351936   \n",
       "selected_by_percent        0.443955  0.710101  0.635613        0.047165   \n",
       "\n",
       "                     clean_sheets  ict_index  position_index  fpl_to_game  \\\n",
       "age                     -0.036911  -0.107661       -0.173494    -0.108476   \n",
       "goals_scored             0.285441   0.807876        0.626781     0.716571   \n",
       "assists                  0.336028   0.769264        0.462689     0.624004   \n",
       "total_points             0.746538   0.817869        0.184740     0.682704   \n",
       "minutes.played           0.638182   0.473240       -0.208861    -0.022252   \n",
       "bonus                    0.519416   0.749660        0.257515     0.685851   \n",
       "bps                      0.755726   0.573971       -0.231393     0.321609   \n",
       "goals_conceded           0.000266   0.183861       -0.179574    -0.351936   \n",
       "clean_sheets             1.000000   0.506029       -0.044252     0.388548   \n",
       "ict_index                0.506029   1.000000        0.510643     0.624643   \n",
       "position_index          -0.044252   0.510643        1.000000     0.467317   \n",
       "fpl_to_game              0.388548   0.624643        0.467317     1.000000   \n",
       "selected_by_percent      0.574506   0.611718        0.096986     0.535382   \n",
       "\n",
       "                     selected_by_percent  \n",
       "age                            -0.041960  \n",
       "goals_scored                    0.597053  \n",
       "assists                         0.445923  \n",
       "total_points                    0.774669  \n",
       "minutes.played                  0.443955  \n",
       "bonus                           0.710101  \n",
       "bps                             0.635613  \n",
       "goals_conceded                  0.047165  \n",
       "clean_sheets                    0.574506  \n",
       "ict_index                       0.611718  \n",
       "position_index                  0.096986  \n",
       "fpl_to_game                     0.535382  \n",
       "selected_by_percent             1.000000  "
      ]
     },
     "execution_count": 74,
     "metadata": {},
     "output_type": "execute_result"
    }
   ],
   "source": [
    "seasons_new.corr()"
   ]
  },
  {
   "cell_type": "code",
   "execution_count": 75,
   "metadata": {
    "collapsed": true
   },
   "outputs": [],
   "source": [
    "seasons_x, seasons_y, seasons_xm, seasons_xtrain, seasons_xtest, seasons_ytrain, seasons_ytest, seasons_xtrain_new, seasons_xtest_new = split_data(seasons_new, 7)\n"
   ]
  },
  {
   "cell_type": "code",
   "execution_count": 76,
   "metadata": {
    "collapsed": true
   },
   "outputs": [],
   "source": [
    "model_s = make_pipeline(PolynomialFeatures(), LinearRegression())"
   ]
  },
  {
   "cell_type": "code",
   "execution_count": 77,
   "metadata": {},
   "outputs": [
    {
     "data": {
      "image/png": "[encoded data removed]",
      "text/plain": [
       "<matplotlib.figure.Figure at 0x2b5ccd84db00>"
      ]
     },
     "metadata": {},
     "output_type": "display_data"
    }
   ],
   "source": [
    "val_curve(model_s, seasons_xm, seasons_y)"
   ]
  },
  {
   "cell_type": "code",
   "execution_count": 78,
   "metadata": {
    "collapsed": true
   },
   "outputs": [],
   "source": [
    "model_s = make_pipeline(PolynomialFeatures(best_degree(model_s,seasons_xm,seasons_y)), LinearRegression())"
   ]
  },
  {
   "cell_type": "code",
   "execution_count": 79,
   "metadata": {
    "collapsed": true
   },
   "outputs": [],
   "source": [
    "seasons_pred = model_s.fit(seasons_xtrain_new, seasons_ytrain).predict(seasons_xtest_new)"
   ]
  },
  {
   "cell_type": "code",
   "execution_count": 80,
   "metadata": {},
   "outputs": [
    {
     "data": {
      "text/plain": [
       "0.92077997444414383"
      ]
     },
     "execution_count": 80,
     "metadata": {},
     "output_type": "execute_result"
    }
   ],
   "source": [
    "r2_score(seasons_pred, seasons_ytest)"
   ]
  },
  {
   "cell_type": "code",
   "execution_count": 81,
   "metadata": {},
   "outputs": [
    {
     "data": {
      "text/plain": [
       "array([ 0.91792759,  0.87081649,  0.93358627,  0.91538127,  0.88603936])"
      ]
     },
     "execution_count": 81,
     "metadata": {},
     "output_type": "execute_result"
    }
   ],
   "source": [
    "scores = cross_val_score(model_s, seasons_xm, seasons_y, cv = 5)\n",
    "scores"
   ]
  },
  {
   "cell_type": "code",
   "execution_count": 82,
   "metadata": {},
   "outputs": [
    {
     "data": {
      "text/plain": [
       "0.90475019511047527"
      ]
     },
     "execution_count": 82,
     "metadata": {},
     "output_type": "execute_result"
    }
   ],
   "source": [
    "scores.mean()"
   ]
  },
  {
   "cell_type": "code",
   "execution_count": 83,
   "metadata": {},
   "outputs": [
    {
     "data": {
      "text/html": [
       "<div>\n",
       "<style>\n",
       "    .dataframe thead tr:only-child th {\n",
       "        text-align: right;\n",
       "    }\n",
       "\n",
       "    .dataframe thead th {\n",
       "        text-align: left;\n",
       "    }\n",
       "\n",
       "    .dataframe tbody tr th {\n",
       "        vertical-align: top;\n",
       "    }\n",
       "</style>\n",
       "<table border=\"1\" class=\"dataframe\">\n",
       "  <thead>\n",
       "    <tr style=\"text-align: right;\">\n",
       "      <th></th>\n",
       "      <th>player_name</th>\n",
       "      <th>ict_index</th>\n",
       "      <th>selected_by_percent</th>\n",
       "      <th>bps</th>\n",
       "      <th>position_index</th>\n",
       "      <th>minutes.played</th>\n",
       "      <th>total_points</th>\n",
       "      <th>fpl_to_game</th>\n",
       "      <th>pred_points</th>\n",
       "      <th>fpl_to_game pred</th>\n",
       "    </tr>\n",
       "  </thead>\n",
       "  <tbody>\n",
       "    <tr>\n",
       "      <th>0</th>\n",
       "      <td>Sofiane Boufal</td>\n",
       "      <td>78.6</td>\n",
       "      <td>0.1</td>\n",
       "      <td>160</td>\n",
       "      <td>4</td>\n",
       "      <td>1104</td>\n",
       "      <td>40</td>\n",
       "      <td>3.260870</td>\n",
       "      <td>51.110005</td>\n",
       "      <td>4.166576</td>\n",
       "    </tr>\n",
       "    <tr>\n",
       "      <th>1</th>\n",
       "      <td>Dan Gosling</td>\n",
       "      <td>78.1</td>\n",
       "      <td>0.1</td>\n",
       "      <td>237</td>\n",
       "      <td>3</td>\n",
       "      <td>1734</td>\n",
       "      <td>54</td>\n",
       "      <td>2.802768</td>\n",
       "      <td>53.076459</td>\n",
       "      <td>2.754834</td>\n",
       "    </tr>\n",
       "    <tr>\n",
       "      <th>2</th>\n",
       "      <td>Ashley Barnes</td>\n",
       "      <td>125.5</td>\n",
       "      <td>4.3</td>\n",
       "      <td>241</td>\n",
       "      <td>5</td>\n",
       "      <td>1774</td>\n",
       "      <td>81</td>\n",
       "      <td>4.109357</td>\n",
       "      <td>82.712418</td>\n",
       "      <td>4.196233</td>\n",
       "    </tr>\n",
       "    <tr>\n",
       "      <th>3</th>\n",
       "      <td>Alex Iwobi</td>\n",
       "      <td>138.7</td>\n",
       "      <td>1.1</td>\n",
       "      <td>352</td>\n",
       "      <td>4</td>\n",
       "      <td>1456</td>\n",
       "      <td>89</td>\n",
       "      <td>5.501374</td>\n",
       "      <td>91.803523</td>\n",
       "      <td>5.674668</td>\n",
       "    </tr>\n",
       "    <tr>\n",
       "      <th>4</th>\n",
       "      <td>Darren Randolph</td>\n",
       "      <td>48.7</td>\n",
       "      <td>1.3</td>\n",
       "      <td>370</td>\n",
       "      <td>1</td>\n",
       "      <td>1980</td>\n",
       "      <td>69</td>\n",
       "      <td>3.136364</td>\n",
       "      <td>67.881686</td>\n",
       "      <td>3.085531</td>\n",
       "    </tr>\n",
       "  </tbody>\n",
       "</table>\n",
       "</div>"
      ],
      "text/plain": [
       "       player_name  ict_index  selected_by_percent  bps  position_index  \\\n",
       "0   Sofiane Boufal       78.6                  0.1  160               4   \n",
       "1      Dan Gosling       78.1                  0.1  237               3   \n",
       "2    Ashley Barnes      125.5                  4.3  241               5   \n",
       "3       Alex Iwobi      138.7                  1.1  352               4   \n",
       "4  Darren Randolph       48.7                  1.3  370               1   \n",
       "\n",
       "   minutes.played  total_points  fpl_to_game  pred_points  fpl_to_game pred  \n",
       "0            1104            40     3.260870    51.110005          4.166576  \n",
       "1            1734            54     2.802768    53.076459          2.754834  \n",
       "2            1774            81     4.109357    82.712418          4.196233  \n",
       "3            1456            89     5.501374    91.803523          5.674668  \n",
       "4            1980            69     3.136364    67.881686          3.085531  "
      ]
     },
     "execution_count": 83,
     "metadata": {},
     "output_type": "execute_result"
    }
   ],
   "source": [
    "new_output(seasons_xtest, seasons_ytest, seasons_pred)"
   ]
  },
  {
   "cell_type": "markdown",
   "metadata": {
    "collapsed": true
   },
   "source": [
    "## OTHER STUFF"
   ]
  },
  {
   "cell_type": "code",
   "execution_count": 84,
   "metadata": {
    "collapsed": true
   },
   "outputs": [],
   "source": [
    "seasons_new1 = seasons_new[['player_name','age', 'goals_scored','assists','total_points','minutes.played','bonus','bps','goals_conceded', 'clean_sheets','ict_index','position_index','fpl_to_game','selected_by_percent']]"
   ]
  },
  {
   "cell_type": "code",
   "execution_count": 85,
   "metadata": {},
   "outputs": [],
   "source": [
    "seasons_x1 = seasons_new1[['player_name','goals_scored', 'assists', 'position_index', 'minutes.played', 'total_points', 'clean_sheets']]"
   ]
  },
  {
   "cell_type": "code",
   "execution_count": 86,
   "metadata": {},
   "outputs": [],
   "source": [
    "seasons_x2 = seasons_new1[['goals_scored', 'assists', 'position_index', 'minutes.played', 'clean_sheets']]"
   ]
  },
  {
   "cell_type": "code",
   "execution_count": 87,
   "metadata": {
    "collapsed": true
   },
   "outputs": [],
   "source": [
    "seasons_y1 = seasons_new['ict_index']"
   ]
  },
  {
   "cell_type": "code",
   "execution_count": 88,
   "metadata": {
    "collapsed": true
   },
   "outputs": [],
   "source": [
    "s_x1train, s_x1test, s_y1train, s_y1test = train_test_split(seasons_x1, seasons_y1, random_state = 0, train_size = 0.75)"
   ]
  },
  {
   "cell_type": "code",
   "execution_count": 89,
   "metadata": {
    "collapsed": true
   },
   "outputs": [],
   "source": [
    "s_x1train_n = s_x1train[['goals_scored','assists', 'position_index', 'minutes.played', 'clean_sheets']]\n",
    "s_x1test_n = s_x1test[['goals_scored','assists', 'position_index', 'minutes.played', 'clean_sheets']]"
   ]
  },
  {
   "cell_type": "code",
   "execution_count": 90,
   "metadata": {
    "collapsed": true
   },
   "outputs": [],
   "source": [
    "model_n = make_pipeline(PolynomialFeatures(2), LinearRegression())"
   ]
  },
  {
   "cell_type": "code",
   "execution_count": 91,
   "metadata": {},
   "outputs": [
    {
     "data": {
      "text/plain": [
       "Pipeline(memory=None,\n",
       "     steps=[('polynomialfeatures', PolynomialFeatures(degree=2, include_bias=True, interaction_only=False)), ('linearregression', LinearRegression(copy_X=True, fit_intercept=True, n_jobs=1, normalize=False))])"
      ]
     },
     "execution_count": 91,
     "metadata": {},
     "output_type": "execute_result"
    }
   ],
   "source": [
    "model_n.fit(s_x1train_n, s_y1train)"
   ]
  },
  {
   "cell_type": "code",
   "execution_count": 92,
   "metadata": {
    "collapsed": true
   },
   "outputs": [],
   "source": [
    "ict_pred = model_n.predict(s_x1test_n)"
   ]
  },
  {
   "cell_type": "code",
   "execution_count": 93,
   "metadata": {},
   "outputs": [
    {
     "data": {
      "text/plain": [
       "0.88748353478169728"
      ]
     },
     "execution_count": 93,
     "metadata": {},
     "output_type": "execute_result"
    }
   ],
   "source": [
    "r2_score(ict_pred, s_y1test)"
   ]
  },
  {
   "cell_type": "code",
   "execution_count": 94,
   "metadata": {},
   "outputs": [
    {
     "data": {
      "text/plain": [
       "0.89869872792671524"
      ]
     },
     "execution_count": 94,
     "metadata": {},
     "output_type": "execute_result"
    }
   ],
   "source": [
    "cross_val_score(model_n, seasons_x2, seasons_y1, cv = 5).mean()"
   ]
  },
  {
   "cell_type": "code",
   "execution_count": 95,
   "metadata": {},
   "outputs": [
    {
     "name": "stderr",
     "output_type": "stream",
     "text": [
      "/accre/arch/easybuild/software/BinDist/Anaconda3/5.0.1/lib/python3.6/site-packages/ipykernel_launcher.py:1: SettingWithCopyWarning: \n",
      "A value is trying to be set on a copy of a slice from a DataFrame.\n",
      "Try using .loc[row_indexer,col_indexer] = value instead\n",
      "\n",
      "See the caveats in the documentation: http://pandas.pydata.org/pandas-docs/stable/indexing.html#indexing-view-versus-copy\n",
      "  \"\"\"Entry point for launching an IPython kernel.\n"
     ]
    }
   ],
   "source": [
    "s_x1test['ict_pred'] = ict_pred"
   ]
  },
  {
   "cell_type": "code",
   "execution_count": 96,
   "metadata": {},
   "outputs": [],
   "source": [
    "s1_newx = s_x1test[['ict_pred', 'position_index']]\n",
    "s1_newy = s_x1test[['total_points']]"
   ]
  },
  {
   "cell_type": "code",
   "execution_count": 97,
   "metadata": {
    "collapsed": true
   },
   "outputs": [],
   "source": [
    "s1_newxtrain, s1_newxtest, s1_newytrain, s1_newytest = train_test_split(s1_newx, s1_newy, random_state = 10, train_size = 0.7)"
   ]
  },
  {
   "cell_type": "code",
   "execution_count": 98,
   "metadata": {},
   "outputs": [],
   "source": [
    "model_y = make_pipeline(PolynomialFeatures(2), LinearRegression())"
   ]
  },
  {
   "cell_type": "code",
   "execution_count": 99,
   "metadata": {},
   "outputs": [
    {
     "data": {
      "text/plain": [
       "Pipeline(memory=None,\n",
       "     steps=[('polynomialfeatures', PolynomialFeatures(degree=2, include_bias=True, interaction_only=False)), ('linearregression', LinearRegression(copy_X=True, fit_intercept=True, n_jobs=1, normalize=False))])"
      ]
     },
     "execution_count": 99,
     "metadata": {},
     "output_type": "execute_result"
    }
   ],
   "source": [
    "model_y.fit(s1_newxtrain, s1_newytrain)"
   ]
  },
  {
   "cell_type": "code",
   "execution_count": 100,
   "metadata": {
    "collapsed": true
   },
   "outputs": [],
   "source": [
    "pred = model_y.predict(s1_newxtest)"
   ]
  },
  {
   "cell_type": "code",
   "execution_count": 101,
   "metadata": {},
   "outputs": [
    {
     "data": {
      "text/plain": [
       "0.89096876670608405"
      ]
     },
     "execution_count": 101,
     "metadata": {},
     "output_type": "execute_result"
    }
   ],
   "source": [
    "r2_score(pred, s1_newytest)"
   ]
  },
  {
   "cell_type": "code",
   "execution_count": 102,
   "metadata": {},
   "outputs": [
    {
     "data": {
      "text/plain": [
       "0.8049969648253219"
      ]
     },
     "execution_count": 102,
     "metadata": {},
     "output_type": "execute_result"
    }
   ],
   "source": [
    "cross_val_score(model_y, s1_newx, s1_newy, cv = 5).mean()"
   ]
  },
  {
   "cell_type": "code",
   "execution_count": null,
   "metadata": {
    "collapsed": true
   },
   "outputs": [],
   "source": []
  }
 ],
 "metadata": {
  "kernelspec": {
   "display_name": "Python 3",
   "language": "python",
   "name": "python3"
  },
  "language_info": {
   "codemirror_mode": {
    "name": "ipython",
    "version": 3
   },
   "file_extension": ".py",
   "mimetype": "text/x-python",
   "name": "python",
   "nbconvert_exporter": "python",
   "pygments_lexer": "ipython3",
   "version": "3.6.3"
  }
 },
 "nbformat": 4,
 "nbformat_minor": 2
}
